{
 "cells": [
  {
   "cell_type": "markdown",
   "metadata": {
    "colab_type": "text",
    "id": "Y9ddZBr2vxjW"
   },
   "source": [
    "# RT"
   ]
  },
  {
   "cell_type": "code",
   "execution_count": 0,
   "metadata": {
    "colab": {},
    "colab_type": "code",
    "id": "Caslc8Q9iHPH"
   },
   "outputs": [],
   "source": [
    "\n"
   ]
  },
  {
   "cell_type": "code",
   "execution_count": 1,
   "metadata": {
    "colab": {
     "base_uri": "https://localhost:8080/",
     "height": 122
    },
    "colab_type": "code",
    "executionInfo": {
     "elapsed": 16272,
     "status": "ok",
     "timestamp": 1572937449660,
     "user": {
      "displayName": "Egor Silaev",
      "photoUrl": "",
      "userId": "17939097308196895647"
     },
     "user_tz": -180
    },
    "id": "n60HNchhv48O",
    "outputId": "a46f2124-8c53-47eb-b284-596b30db886b"
   },
   "outputs": [
    {
     "name": "stdout",
     "output_type": "stream",
     "text": [
      "Go to this URL in a browser: https://accounts.google.com/o/oauth2/auth?client_id=947318989803-6bn6qk8qdgf4n4g3pfee6491hc0brc4i.apps.googleusercontent.com&redirect_uri=urn%3Aietf%3Awg%3Aoauth%3A2.0%3Aoob&scope=email%20https%3A%2F%2Fwww.googleapis.com%2Fauth%2Fdocs.test%20https%3A%2F%2Fwww.googleapis.com%2Fauth%2Fdrive%20https%3A%2F%2Fwww.googleapis.com%2Fauth%2Fdrive.photos.readonly%20https%3A%2F%2Fwww.googleapis.com%2Fauth%2Fpeopleapi.readonly&response_type=code\n",
      "\n",
      "Enter your authorization code:\n",
      "··········\n",
      "Mounted at /content/gdrive\n"
     ]
    }
   ],
   "source": [
    "from google.colab import drive\n",
    "drive.mount('/content/gdrive')"
   ]
  },
  {
   "cell_type": "code",
   "execution_count": 2,
   "metadata": {
    "colab": {
     "base_uri": "https://localhost:8080/",
     "height": 1000
    },
    "colab_type": "code",
    "executionInfo": {
     "elapsed": 2110,
     "status": "ok",
     "timestamp": 1572937454745,
     "user": {
      "displayName": "Egor Silaev",
      "photoUrl": "",
      "userId": "17939097308196895647"
     },
     "user_tz": -180
    },
    "id": "jV5jr0hov_zN",
    "outputId": "11c46761-58ed-46e9-eabe-2b1475cf39fe"
   },
   "outputs": [
    {
     "name": "stdout",
     "output_type": "stream",
     "text": [
      "import codecs\n",
      "import os\n",
      "import time\n",
      "import csv\n",
      "import sys\n",
      "\n",
      "from enum import Enum\n",
      "from collections import Counter\n",
      "from razdel import tokenize\n",
      "from razdel import sentenize\n",
      "\n",
      "from nltk.corpus.reader.api import CorpusReader\n",
      "from nltk.corpus.reader.api import CategorizedCorpusReader\n",
      "\n",
      "\n",
      "class PathPattern(Enum):\n",
      "\n",
      "    doc_pattern = r\".*\\.csv\"\n",
      "    cat_pattern = r\"(\\w+)/*\"\n",
      "\n",
      "\n",
      "class CSVCorpusReader(CategorizedCorpusReader, CorpusReader):\n",
      "    \"\"\"\n",
      "    Объект чтения csv файлов для получения возможности\n",
      "    дополнительной предварительной обработки.\n",
      "    \"\"\"\n",
      "\n",
      "    def __init__(self, root, fileids=PathPattern.doc_pattern.value, encoding='utf8', **kwargs):\n",
      "        \"\"\"\n",
      "        Инициализирует объект чтения промежуточного обработанных файлов\n",
      "        корпуса.\n",
      "        \"\"\"\n",
      "\n",
      "        # Добавить шаблон категорий, если он не был передан в класс явно\n",
      "        if not any(key.startswitch('cat_') for key in kwargs.keys()):\n",
      "            kwargs['cat_pattern'] = PathPattern.cat_pattern.value\n",
      "\n",
      "        # Инициализировать объекты чтения корпуса из NLTK\n",
      "        CategorizedCorpusReader.__init__(self, kwargs)\n",
      "        CorpusReader.__init__(self, root, fileids, encoding)\n",
      "\n",
      "        # Инициировать список для сбора токенов\n",
      "        self.__tokens = Counter()\n",
      "\n",
      "    @property\n",
      "    def gettokens(self):\n",
      "        \"\"\"\n",
      "        Возвращает список токенов, полученных в ходе метода describe\n",
      "        \"\"\"\n",
      "        return self.__tokens\n",
      "\n",
      "    def resolve(self, fileids, categories):\n",
      "        \"\"\"\n",
      "        Возвращает список идентификаторов файлов или названий директорий,\n",
      "        которые передаются каждой внутренний функции объекта чтения корпуса.\n",
      "        \"\"\"\n",
      "        if fileids is not None and categories is not None:\n",
      "            raise ValueError(\"Укажите либо файлы, либо категории, а не оба параметра\")\n",
      "\n",
      "        if categories is not None:\n",
      "            return self.fileids(categories)\n",
      "        return fileids\n",
      "\n",
      "    def docs(self, fileids=None, categories=None):\n",
      "        \"\"\"\n",
      "        Возвращает содержимое документа csv, закрывая его\n",
      "        по завершении чтения.\n",
      "        \"\"\"\n",
      "        # Получить список файлов для чтения\n",
      "        fileids = self.resolve(fileids, categories)\n",
      "\n",
      "        # Создать генератор загружающий документы в память\n",
      "        # по одному. Следующий блок увеличивает размер ячейки\n",
      "        # чтения csv файла\n",
      "        maxInt = sys.maxsize\n",
      "        decrement = True\n",
      "\n",
      "        while decrement:\n",
      "            # decrease the maxInt value by factor 10\n",
      "            # as long as the OverflowError occurs.\n",
      "\n",
      "            decrement = False\n",
      "            try:\n",
      "                csv.field_size_limit(maxInt)\n",
      "            except OverflowError:\n",
      "                maxInt = int(maxInt/10)\n",
      "                decrement = True\n",
      "\n",
      "        for path, encoding in self.abspaths(fileids, include_encoding=True):\n",
      "            with codecs.open(path, 'r', encoding=encoding) as f:\n",
      "                reader = list(csv.DictReader(f, delimiter=',', quotechar='\"', escapechar='\\\\'))\n",
      "                for row in reader:\n",
      "                    yield(row)\n",
      "\n",
      "    def sizes(self, fileids=None, categories=None):\n",
      "        \"\"\"\n",
      "        Возвращает список из идентификатора файла и его размера.\n",
      "        Эта функция используется для выявления необычно больших файлов.\n",
      "        \"\"\"\n",
      "        # Получить список файлов\n",
      "        fileids = self.resolve(fileids, categories)\n",
      "\n",
      "        # Создать генератор, возвращающий имена и размеры файла\n",
      "        for path in self.abspaths(fileids):\n",
      "            yield path, os.path.getsize(path)\n",
      "\n",
      "    def listcolumns(self, fileids=None, categories=None, key='text'):\n",
      "        \"\"\"\n",
      "        Возвращает содержимое по указанному имени столбца из файла csv, в виде списка\n",
      "        \"\"\"\n",
      "        for doc in self.docs(fileids, categories):\n",
      "            yield(doc[key])\n",
      "\n",
      "    def sents(self, fileids=None, categories=None):\n",
      "        \"\"\"\n",
      "        Функция возвращает каждую новость в виде отдельных предложений,\n",
      "        для всех новостей из обрабатываемых файлов\n",
      "        \"\"\"\n",
      "        for sentence in self.listcolumns(fileids, categories):\n",
      "            sents = list(sentenize(sentence))\n",
      "            yield([_.text for _ in sents])\n",
      "\n",
      "    def words(self, fileids=None, categories=None):\n",
      "        \"\"\"\n",
      "        Функция проводит токенизацию всех предложений по каждой новости,\n",
      "        возвращает список токенизированных предложений по всем новостям\n",
      "        \"\"\"\n",
      "        for sentence in self.sents(fileids, categories):\n",
      "            for word in sentence:\n",
      "                if len(word) == 0:\n",
      "                    continue\n",
      "                tokens = list(tokenize(word))\n",
      "                yield([_.text for _ in tokens])\n",
      "\n",
      "    def describe(self, fileids=None, categories=None):\n",
      "        \"\"\"\n",
      "        Обходит все документы и возвращает словарь с разнообразными\n",
      "        оценками, описывающими состояние корпуса\n",
      "        \"\"\"\n",
      "        started = time.time()\n",
      "\n",
      "        # Структура для подсчета\n",
      "        counts = Counter()\n",
      "\n",
      "        # Выполнить обход всех новостей из csv, выделить предложения и слова,\n",
      "        # подсчитать их\n",
      "        for i in self.docs(fileids, categories):\n",
      "            counts['rows'] += 1\n",
      "            sents = list(sentenize(i['text']))\n",
      "            sentence = [_.text for _ in sents]\n",
      "\n",
      "            for sent in sentence:\n",
      "                counts['sents'] += 1\n",
      "                if len(sent) == 0:\n",
      "                    continue\n",
      "                for word in [_.text for _ in list(tokenize(sent))]:\n",
      "                    counts['words'] += 1\n",
      "                    self.__tokens[word.lower()] += 1\n",
      "\n",
      "        # Определить число файлов и категорий в корпусе\n",
      "        n_fileids = len(self.resolve(fileids, categories) or self.fileids())\n",
      "        n_topics = len(self.categories(self.resolve(fileids, categories)))\n",
      "\n",
      "        # Составить список новостей\n",
      "        list_news = list(self.listcolumns(fileids, categories))\n",
      "        # Вернуть структуру с информацией\n",
      "        return {\n",
      "          'Количество файлов': n_fileids,\n",
      "          'Количество источников новостей': n_topics,\n",
      "          'Количество обработанных новостей': counts['rows'],\n",
      "          'Количество предложений': counts['sents'],\n",
      "          'Количество слов': counts['words'],\n",
      "          'Количество токенов (словарь)': len(self.gettokens),\n",
      "          'Коэффициент лексического разнообразия (lexical diversity)': float(counts['words']) / float(len(self.gettokens)),\n",
      "          'Среднее количество новостей по отношению к файлам': float(counts['rows']) / float(n_fileids),\n",
      "          'Среднее количество предложений в новостях': float(counts['sents']) / float(counts['rows']),\n",
      "          'Начальная дата в обработке': min(self.listcolumns(fileids, categories, 'date')),\n",
      "          'Конечная дата в обработке': max(self.listcolumns(fileids, categories, 'date')),\n",
      "          'Количество повторяющихся новостей': len(list_news) - len(set(list_news)),\n",
      "          'Количество пустных новостных элементов': len([item for item in list_news if len(item) == 0]),\n",
      "          'Время обработки в секундах': time.time() - started,\n",
      "        }\n"
     ]
    }
   ],
   "source": [
    "!cat '/content/gdrive/My Drive/experiments/001-exp/scripts/reader.py'"
   ]
  },
  {
   "cell_type": "code",
   "execution_count": 3,
   "metadata": {
    "colab": {
     "base_uri": "https://localhost:8080/",
     "height": 34
    },
    "colab_type": "code",
    "executionInfo": {
     "elapsed": 1834,
     "status": "ok",
     "timestamp": 1572937459395,
     "user": {
      "displayName": "Egor Silaev",
      "photoUrl": "",
      "userId": "17939097308196895647"
     },
     "user_tz": -180
    },
    "id": "H19kw_ktv_1X",
    "outputId": "cf6f7515-a5ba-4a31-e61f-9382baefafa4"
   },
   "outputs": [
    {
     "name": "stdout",
     "output_type": "stream",
     "text": [
      "'/content/gdrive/My Drive/experiments/001-exp/scripts/reader.py'\n"
     ]
    }
   ],
   "source": [
    "!ls /content/gdrive/My\\ Drive/experiments/001-exp/scripts/*.py"
   ]
  },
  {
   "cell_type": "code",
   "execution_count": 0,
   "metadata": {
    "colab": {},
    "colab_type": "code",
    "id": "ho_6nePUv_3z"
   },
   "outputs": [],
   "source": [
    "import sys\n",
    "sys.path.append('/content/gdrive/My Drive/experiments/001-exp/scripts/')"
   ]
  },
  {
   "cell_type": "code",
   "execution_count": 5,
   "metadata": {
    "colab": {
     "base_uri": "https://localhost:8080/",
     "height": 85
    },
    "colab_type": "code",
    "executionInfo": {
     "elapsed": 4406,
     "status": "ok",
     "timestamp": 1572937467840,
     "user": {
      "displayName": "Egor Silaev",
      "photoUrl": "",
      "userId": "17939097308196895647"
     },
     "user_tz": -180
    },
    "id": "NkNLYRZBv_6B",
    "outputId": "ca5dc32b-93a4-45bc-ce87-232ae7dcd8a4"
   },
   "outputs": [
    {
     "name": "stdout",
     "output_type": "stream",
     "text": [
      "Collecting razdel\n",
      "  Downloading https://files.pythonhosted.org/packages/cf/f0/664eb27854d7de7c3605b5cd2a155cf069143fb00902ac479325bf1a98b7/razdel-0.4.0-py2.py3-none-any.whl\n",
      "Installing collected packages: razdel\n",
      "Successfully installed razdel-0.4.0\n"
     ]
    }
   ],
   "source": [
    "!pip install razdel"
   ]
  },
  {
   "cell_type": "code",
   "execution_count": 0,
   "metadata": {
    "colab": {},
    "colab_type": "code",
    "id": "T79SAlG8v_75"
   },
   "outputs": [],
   "source": []
  },
  {
   "cell_type": "code",
   "execution_count": 0,
   "metadata": {
    "colab": {},
    "colab_type": "code",
    "id": "SC-wpuUNvxjb"
   },
   "outputs": [],
   "source": [
    "from string import punctuation\n",
    "from collections import Counter\n",
    "import datetime\n",
    "import matplotlib.pyplot as plt"
   ]
  },
  {
   "cell_type": "code",
   "execution_count": 0,
   "metadata": {
    "colab": {},
    "colab_type": "code",
    "id": "cSFwYEPTvxjh"
   },
   "outputs": [],
   "source": [
    "import sys"
   ]
  },
  {
   "cell_type": "code",
   "execution_count": 0,
   "metadata": {
    "colab": {},
    "colab_type": "code",
    "id": "tRure0Wevxjl"
   },
   "outputs": [],
   "source": [
    "sys.path.append('C:\\\\projects\\\\datascience\\\\proj_news_viz\\\\nlp\\\\experiments\\\\exp-001_Prepare_csv_for_EDA\\\\scripts')"
   ]
  },
  {
   "cell_type": "code",
   "execution_count": 0,
   "metadata": {
    "colab": {},
    "colab_type": "code",
    "id": "a0bKN2JLvxjo"
   },
   "outputs": [],
   "source": [
    "from reader import CSVCorpusReader"
   ]
  },
  {
   "cell_type": "code",
   "execution_count": 0,
   "metadata": {
    "colab": {},
    "colab_type": "code",
    "id": "jY2am0Wvvxjq"
   },
   "outputs": [],
   "source": [
    "# Создадим объект чтения корпуса\n",
    "# data = CSVCorpusReader('../../../data/interim')\n",
    "data = CSVCorpusReader('/content/gdrive/My Drive/data/interim/')"
   ]
  },
  {
   "cell_type": "code",
   "execution_count": 9,
   "metadata": {
    "colab": {
     "base_uri": "https://localhost:8080/",
     "height": 34
    },
    "colab_type": "code",
    "executionInfo": {
     "elapsed": 518,
     "status": "ok",
     "timestamp": 1572937488232,
     "user": {
      "displayName": "Egor Silaev",
      "photoUrl": "",
      "userId": "17939097308196895647"
     },
     "user_tz": -180
    },
    "id": "CO3bVW6Pvxjt",
    "outputId": "2fbb6252-3aa1-4b62-9710-f18ea1d3ca86"
   },
   "outputs": [
    {
     "data": {
      "text/plain": [
       "['gazeta', 'interfax', 'rt', 'tass']"
      ]
     },
     "execution_count": 9,
     "metadata": {
      "tags": []
     },
     "output_type": "execute_result"
    }
   ],
   "source": [
    "# Новостные источники\n",
    "data.categories()"
   ]
  },
  {
   "cell_type": "code",
   "execution_count": 10,
   "metadata": {
    "colab": {
     "base_uri": "https://localhost:8080/",
     "height": 34
    },
    "colab_type": "code",
    "executionInfo": {
     "elapsed": 576,
     "status": "ok",
     "timestamp": 1572937490714,
     "user": {
      "displayName": "Egor Silaev",
      "photoUrl": "",
      "userId": "17939097308196895647"
     },
     "user_tz": -180
    },
    "id": "PKwf-W_dvxjx",
    "outputId": "fff88f08-6a74-46cd-8898-06d4525b9f51"
   },
   "outputs": [
    {
     "data": {
      "text/plain": [
       "['gazeta/gazeta.csv', 'interfax/interfax.csv', 'rt/rt.csv', 'tass/tass.csv']"
      ]
     },
     "execution_count": 10,
     "metadata": {
      "tags": []
     },
     "output_type": "execute_result"
    }
   ],
   "source": [
    "# Имеющиеся файлы в корпусе\n",
    "data.fileids()"
   ]
  },
  {
   "cell_type": "markdown",
   "metadata": {
    "colab_type": "text",
    "id": "b-sExa2Jvxj1"
   },
   "source": [
    "## Общий предварительный анализ"
   ]
  },
  {
   "cell_type": "code",
   "execution_count": 11,
   "metadata": {
    "colab": {
     "base_uri": "https://localhost:8080/",
     "height": 255
    },
    "colab_type": "code",
    "executionInfo": {
     "elapsed": 199738,
     "status": "ok",
     "timestamp": 1572937695276,
     "user": {
      "displayName": "Egor Silaev",
      "photoUrl": "",
      "userId": "17939097308196895647"
     },
     "user_tz": -180
    },
    "id": "ksweq0WAvxj2",
    "outputId": "e95c0f47-2b8f-4a97-a94e-48c616605760"
   },
   "outputs": [
    {
     "data": {
      "text/plain": [
       "{'Время обработки в секундах': 199.11666059494019,\n",
       " 'Количество источников новостей': 1,\n",
       " 'Количество обработанных новостей': 106644,\n",
       " 'Количество повторяющихся новостей': 293,\n",
       " 'Количество предложений': 510837,\n",
       " 'Количество пустных новостных элементов': 12,\n",
       " 'Количество слов': 19411353,\n",
       " 'Количество токенов (словарь)': 384046,\n",
       " 'Количество файлов': 1,\n",
       " 'Конечная дата в обработке': '2019-08-02 14:10:00',\n",
       " 'Коэффициент лексического разнообразия (lexical diversity)': 50.544343646334035,\n",
       " 'Начальная дата в обработке': '2014-06-16 18:36:02',\n",
       " 'Среднее количество новостей по отношению к файлам': 106644.0,\n",
       " 'Среднее количество предложений в новостях': 4.790114774389558}"
      ]
     },
     "execution_count": 11,
     "metadata": {
      "tags": []
     },
     "output_type": "execute_result"
    }
   ],
   "source": [
    "# Предварительный анализ всех файлов из каталога новостного источника\n",
    "data.describe(None, 'rt')"
   ]
  },
  {
   "cell_type": "markdown",
   "metadata": {
    "colab_type": "text",
    "id": "TSZBXiIq7778"
   },
   "source": [
    "## EDA"
   ]
  },
  {
   "cell_type": "code",
   "execution_count": 0,
   "metadata": {
    "colab": {},
    "colab_type": "code",
    "id": "Xcj1nX41HtJd"
   },
   "outputs": [],
   "source": []
  },
  {
   "cell_type": "code",
   "execution_count": 0,
   "metadata": {
    "colab": {},
    "colab_type": "code",
    "id": "IFD9JKgDHtem"
   },
   "outputs": [],
   "source": [
    "list_data = list(data.docs(None, 'rt'))"
   ]
  },
  {
   "cell_type": "code",
   "execution_count": 13,
   "metadata": {
    "colab": {
     "base_uri": "https://localhost:8080/",
     "height": 1000
    },
    "colab_type": "code",
    "executionInfo": {
     "elapsed": 555,
     "status": "ok",
     "timestamp": 1572937819400,
     "user": {
      "displayName": "Egor Silaev",
      "photoUrl": "",
      "userId": "17939097308196895647"
     },
     "user_tz": -180
    },
    "id": "4IlBlvz6HthN",
    "outputId": "7127ad0c-f740-435d-fccf-995ae59a517c"
   },
   "outputs": [
    {
     "data": {
      "text/plain": [
       "[OrderedDict([('date', '2019-06-26 14:00:00'),\n",
       "              ('url',\n",
       "               'https://russian.rt.com/russia/news/644595-avto-ekspert-rossiya'),\n",
       "              ('edition', '-'),\n",
       "              ('topics', 'Россия'),\n",
       "              ('authors', ''),\n",
       "              ('title',\n",
       "               'Эксперт прокомментировал ситуацию с возможным лишением прав за нечитаемые номера'),\n",
       "              ('text',\n",
       "               'Как считает эксперт, россиянам не стоит переживать, что их заподозрят в намеренном загрязнении госзнака в непогоду.n«Когда идёт дождь или снег, то у водителя нет никакого умысла, чтобы номер был грязным, — он сам по себе такой. В теории в идеальной ситуации это должно учитываться инспекторами и судом», —nзаявилnон.nРанее пленум Верховного суда Россииnвыпустил постановлениеn, разъясняющее, какие санкции могут быть применены в отношении автолюбителей, которые приняли меры, чтобы государственные знаки, установленные на их автомобилях, стали нечитаемыми.nРуководитель Федерации автовладельцев России Сергей Канаев в беседе с ФАНnоценилnпредложение правительства России ввести штраф до 2500 рублей для автомобилистов, которые не оплачивают проезд по платной дороге.'),\n",
       "              ('reposts_fb', '-'),\n",
       "              ('reposts_vk', '-'),\n",
       "              ('reposts_ok', '-'),\n",
       "              ('reposts_twi', '-'),\n",
       "              ('reposts_lj', '-'),\n",
       "              ('reposts_tg', '-'),\n",
       "              ('likes', '-'),\n",
       "              ('views', '-'),\n",
       "              ('comm_count', '-'),\n",
       "              (None, [''])]),\n",
       " OrderedDict([('date', '2019-06-26 19:56:00'),\n",
       "              ('url',\n",
       "               'https://russian.rt.com/sport/article/644740-nurmagomedov-makgregor-dzhons-yan'),\n",
       "              ('edition', '-'),\n",
       "              ('topics', 'Спорт'),\n",
       "              ('authors', ''),\n",
       "              ('title',\n",
       "               'Встреча Нурмагомедова с Макгрегором, восстановление Яна и поражение Джонса: что обсуждают в мире UFC'),\n",
       "              ('text',\n",
       "               '«Конор может посетить поединок Хабиба с Порье»nЧерез два с половиной месяца действующий чемпион UFC в лёгком весе Хабиб Нурмагомедов проведёт свою вторую защиту титула. На турнире в Абу-Даби россиянин померится силами с обладателем временного пояса Дастином Порье иnпостарается укрепить наследиеn, о котором он часто говорил в последнее время. Однако сражение с американцем может стать не самым значимым событием дня, ведь не исключено, что бой посетит Конор Макгрегор.nУчитывая напряжённые взаимоотношения двух спортсменов и огромное количество поклонников Хабиба в Абу-Даби, приезд в эту страну может стать для Макгрегора рискованным шагом. Ещё совсем недавно ирландец позволил себе грубые комментарии в адрес жены россиянина, что вызвало гнев мусульманского сообщества. Однако президент UFC Дана Уайт считает, что подобное вряд ли остановит Конора.nТакже по темеn«Чувствую, что нокаутирую Хабиба»: как Порье готовится к поединку с НурмагомедовымnОбладатель временного титула UFC в лёгком весе Дастин Порье пообещал нокаутировать россиянина Хабиба Нурмагомедова в титульном бою. Он...n«Макгрегор может появиться там. Лично он не говорил мне об этом. Не хочу делать громких заявлений, но Конор может посетить поединок Хабиба с Дастином», — заявил Уайт в интервью ESPN.nПри этом глава промоушена выразил мнение, что у экс-чемпиона UFC в двух весовых категориях могут быть болельщики и на Ближнем Востоке.n«Знаю, что этот народ серьёзно воспринимает любые слова, но Нурмагомедов выиграл тот бой, несмотря на весь треш-ток со стороны ирландца. Эти спортсмены испытывают неприязнь друг к другу, но это бизнес. Не вижу проблем, если Конор появится в Абу-Даби», — заключил Уайт.nНапомним: в апреле 2018-го ирландец в Бруклинеnнапал на автобусn, в котором находился Нурмагомедов. А уже в октябре по окончании очной схватки россиянин выпрыгнул в зал и спровоцировал потасовку, по итогам которой сами атлеты, а также люди из их окружения получили длительные дисквалификации.nПри этом Уайт добавил, что в настоящий момент не\\xa0обладает информацией относительно будущей карьеры Макгрегора. По его словам, несколько дней назад он разговаривал с ирландцем, но не смог получить однозначный ответ о его планах на будущее.n«У нас хорошие взаимоотношения. Мы примем его, когда он будет готов вернуться. Но пока я не знаю, когда это произойдёт. Нужно понимать, что Макгрегор добился успеха, он зарабатывает тонны денег, его виски пользуется огромным спросом… Конор находится в таком положении, что либо выберет себе соперника, либо уйдёт из боёв навсегда», — приводит слова Уайта Las Vegas Review-Journal.nБеспроигрышная серия ДжонсаnТакже стало известно, что в настоящее время Уайт намерен провести переговоры с Атлетической комиссией штата Невада (NSAC) и добиться аннулирования единственного поражения в карьере легендарного Джона Джонса.nНа данный момент в послужном списке действующего чемпиона UFC в полутяжёлом весе значится 26 боёв. 24 из них он выиграл, в одном уступил, а ещё один был признан несостоявшимся ввиду проваленного американцем допинг-теста. При этом единственная неудача датирована 5 декабря 2009 года, когда Джонс был дисквалифицирован в схватке с Мэттом Хэмиллом, известным глухим бойцом.nДжонс\\xa0безраздельно доминировал на протяжении всего первого раунда и уже на третьей минуте красивым броском повалил Хэмилла на настил. На протяжении минуты он избивал своего соперника, но судья Стив Маззагатти не реагировал. В один момент Джон немного потерял контроль и нанёс несколько запрещённых ударов локтем сверху вниз под прямым углом (12 to 6 elbow), чем вызвал глубокое рассечение на лице Мэтта. Рефери сначала снял с будущего чемпиона один балл, а затем и вовсе остановил битву, присудив победу его оппоненту.nВпоследствии многие признавали, что в том эпизоде Маззагатти допустил грубую ошибку и фактически вынудил Джонса нарушить правила. А сам рефери успел отметиться целым рядом спорных решений и стать одним из наиболее горячо критикуемых в истории смешанных боевых искусств. В свете этого решение Уайта восстановить справедливость не кажется странным.nПоддержал его в этом начинании и известный комментатор Джо Роган. На своей странице в Twitter он написал, что на 100% солидарен с мнением Уайта.n«Правило об ударах локтем под прямым углом — одно из тупейших в единоборствах. Как минимум, этот поединок должен быть признан несостоявшимся. Он (Джонс. —nRTn) превосходил своего соперника по всем статьям», — заявил Роган.nОперация Яна и новый бой для ЛоулераnТем временем четвёртый номер рейтинга легчайшего веса UFC Пётр Ян перенёс операцию на руке. В июне он одержал пятую подряд победу в UFC и укрепил позиции в организации. При этом сам спортсмен признался, что травма серьёзно мешала ему как в ходе подготовки к бою, так и в самой схватке с американцем.n«Всем привет, у меня всё хорошо! Операция прошла по плану доктора, через 1,5—2 месяца я буду в строю… Теперь будем пахать ещё усерднее. Всем терпения и верьте в себя, всё получится», — написал спортсмен на своей официальной странице в Instagram.nТаким образом, уже осенью спортсмен сможет приступить к тренировкам и вполне может вернуться в октагон до конца 2019 года. При этом не исключено, что этот бой состоится на втором в истории UFC турнире в Москве, а победа в нём может гарантировать Яну встречу с действующим чемпионом в легчайшем весе Генри Сехудо. Правда, для этого ему необходимо расправиться с одним из топ-атлетов дивизиона.nНа данный момент выше Яна в рейтинге находятся лишь трое бойцов. При этом кандидатура Рафаэла Ассунсао, вероятнее всего, отпадает, ведь он проведёт свой следующий поединок в середине августа и рискует не успеть восстановиться к концу года. Остаются Алджамейн Стерлинг и Марлон Мораес, однако последний из них совсем недавно уступил Сехудо и не смог завоевать пояс.nВ UFC ему вряд ли предоставят возможность вновь побороться за титульный бой в такой короткий срок, поэтому самый очевидный вариант — встреча между Яном и Стерлингом. Россиянин уже поспешил выразить готовность сразиться с американцем, подтолкнув руководство в нужном направлении.nПри этом уже в ближайшее время в Абсолютном бойцовском чемпионате может произойти одно из самых ожидаемых сражений лета. Как заявил Уайт, на турнире UFC Fight Night в Ньюарке состоится схватка между экс-чемпионом в полусреднем весе Робби Лоулером и бывшим обладателем временного пояса Колби Ковингтоном. Сражение станет главным событием шоу, одним из участников которого будет россиянин Рамазан Эмеев.nЗа последние годы Ковингтон стал одним из самых обсуждаемых бойцов организации, причём в негативном свете. Так, он запомнился своими расистскими комментариями в адрес бразильцев, которых прямо во время шоу назвал грязными животными, а также отличился другими скандальными выходками. Досталось и Нурмагомедову. Американец жёстко прокомментировал прыжок россиянина в зал по окончании боя с Макгрегором,nназвав его любителем овецn.nПобеда над Лоулером может дать Ковингтону возможность получить бой за титул. В июне 2018 года он одолел Рафаэла Дус Анжуса и получил временный пояс, однако так и не сразился с абсолютным чемпионом. Колби неоднократно бросал вызов Тайрону Вудли, но в нужный момент сам отказался выходить в клетку, сославшись на операцию. Руководство UFC оказалось крайне недовольно действиями американца и лишило его права претендовать на поединок за почётное звание.nВпоследствии Вудли уступил пояс Камару Усману, в результате Ковингтон обратил всё своё внимание на нигерийца. Он неоднократно пытался сорвать тренировку спортсмена и предлагал ему встретиться в октагоне, но тот получил травму.nЧто касается Лоулера, в последние годы один из самых зрелищных бойцов в истории UFC нечасто радовал своих поклонников успехами. В последних четырёх боях он потерпел три поражения и теперь вряд ли сможет с ходу обеспечить себе встречу с чемпионом. И это даже несмотря на тот факт, что его проигрыш Бену Аскрену является весьма спорным. Так, рефери Хёрб Дин остановил схватку, посчитав, что Робби потерял сознание в результате удушающего приёма, однако спортсмен мог продолжить бой.'),\n",
       "              ('reposts_fb', '-'),\n",
       "              ('reposts_vk', '-'),\n",
       "              ('reposts_ok', '-'),\n",
       "              ('reposts_twi', '-'),\n",
       "              ('reposts_lj', '-'),\n",
       "              ('reposts_tg', '-'),\n",
       "              ('likes', '-'),\n",
       "              ('views', '-'),\n",
       "              ('comm_count', '-'),\n",
       "              (None, [''])]),\n",
       " OrderedDict([('date', '2019-06-26 14:52:00'),\n",
       "              ('url',\n",
       "               'https://russian.rt.com/russia/news/644619-putin-podaril-zyuganovu'),\n",
       "              ('edition', '-'),\n",
       "              ('topics', 'Россия'),\n",
       "              ('authors', ''),\n",
       "              ('title',\n",
       "               'Путин подарил Зюганову на\\xa0юбилей материалы съезда КПСС'),\n",
       "              ('text',\n",
       "               'Открывая заседание Госсовета в Кремле, Путин предложил поздравить Зюганова.n«Он вступил в КПСС, насколько мы помним, в 1966 году. В этом же году состоялся и 23-й съезд партии. Чтобы напомнить вам о событиях этого времени, хочу передать вам подарок», — сказал Путин.nПутин вручил Зюганову книгу «Материалы XXIII съезда КПСС», а также картину с изображением площади перед Дворцом съездов.nРанее Путин до официального начала саммита Совещания по взаимодействию и мерам доверия в Азии поздравил председателя КНР Си Цзиньпинаnс днём рождения и подарил ему мороженое российского производстваn.'),\n",
       "              ('reposts_fb', '-'),\n",
       "              ('reposts_vk', '-'),\n",
       "              ('reposts_ok', '-'),\n",
       "              ('reposts_twi', '-'),\n",
       "              ('reposts_lj', '-'),\n",
       "              ('reposts_tg', '-'),\n",
       "              ('likes', '-'),\n",
       "              ('views', '-'),\n",
       "              ('comm_count', '-'),\n",
       "              (None, [''])]),\n",
       " OrderedDict([('date', '2019-06-26 14:44:00'),\n",
       "              ('url',\n",
       "               'https://russian.rt.com/world/news/644618-parlamentarii-vstrecha-berlin'),\n",
       "              ('edition', '-'),\n",
       "              ('topics', 'Мир'),\n",
       "              ('authors', ''),\n",
       "              ('title',\n",
       "               'Парламентарии США, ФРГ и России\\xa0проведут встречу в Берлине'),\n",
       "              ('text',\n",
       "               'Об этом информируетnРИА Новостиnсо ссылкой на план зарубежных поездок членов Совета Федерации.nУказывается, что встреча пройдёт по приглашению германского отделения Института Аспена.nПри этом Совет Федерации России на мероприятии представят сенаторы Алексей Пушков и Игорь Морозов.nРанееnделегация парламентариев из России прибыла в Страсбургnс целью возможного участия в сессии ПАСЕ.'),\n",
       "              ('reposts_fb', '-'),\n",
       "              ('reposts_vk', '-'),\n",
       "              ('reposts_ok', '-'),\n",
       "              ('reposts_twi', '-'),\n",
       "              ('reposts_lj', '-'),\n",
       "              ('reposts_tg', '-'),\n",
       "              ('likes', '-'),\n",
       "              ('views', '-'),\n",
       "              ('comm_count', '-'),\n",
       "              (None, [''])]),\n",
       " OrderedDict([('date', '2019-06-26 14:42:00'),\n",
       "              ('url',\n",
       "               'https://russian.rt.com/sport/news/644617-mok-aiba-priznanie'),\n",
       "              ('edition', '-'),\n",
       "              ('topics', 'Спорт'),\n",
       "              ('authors', ''),\n",
       "              ('title', 'МОК принял решение лишить признания AIBA'),\n",
       "              ('text',\n",
       "               'Решением 134-й сессии МОК в швейцарской Лозанне AIBA лишена статуса признания. Ассоциация бокса не сумела выполнить требования организации по вопросам управления финансами, судейства и этики.nВосстановление статуса AIBA возможно только после проведения Олимпийских игр в Токио, которые\\xa0пройдут с 24 июля по 9 августа 2020 года.nРанее\\xa0было объявлено оnсозданииnВсемирного боксёрского фонда.'),\n",
       "              ('reposts_fb', '-'),\n",
       "              ('reposts_vk', '-'),\n",
       "              ('reposts_ok', '-'),\n",
       "              ('reposts_twi', '-'),\n",
       "              ('reposts_lj', '-'),\n",
       "              ('reposts_tg', '-'),\n",
       "              ('likes', '-'),\n",
       "              ('views', '-'),\n",
       "              ('comm_count', '-'),\n",
       "              (None, [''])])]"
      ]
     },
     "execution_count": 13,
     "metadata": {
      "tags": []
     },
     "output_type": "execute_result"
    }
   ],
   "source": [
    "# Так выглядет датасет RT\n",
    "list_data[:5]"
   ]
  },
  {
   "cell_type": "code",
   "execution_count": 0,
   "metadata": {
    "colab": {},
    "colab_type": "code",
    "id": "CdWVxQ6WHtkN"
   },
   "outputs": [],
   "source": []
  },
  {
   "cell_type": "code",
   "execution_count": 0,
   "metadata": {
    "colab": {},
    "colab_type": "code",
    "id": "XGiZjtMVJPxO"
   },
   "outputs": [],
   "source": [
    "# Можно в пандас загрузить и посмотреть"
   ]
  },
  {
   "cell_type": "code",
   "execution_count": 0,
   "metadata": {
    "colab": {},
    "colab_type": "code",
    "id": "xR_zfJTvJP07"
   },
   "outputs": [],
   "source": [
    "import pandas as pd"
   ]
  },
  {
   "cell_type": "code",
   "execution_count": 0,
   "metadata": {
    "colab": {},
    "colab_type": "code",
    "id": "3ekNw8AgJYLe"
   },
   "outputs": [],
   "source": [
    "df = pd.DataFrame(list_data)"
   ]
  },
  {
   "cell_type": "code",
   "execution_count": 16,
   "metadata": {
    "colab": {
     "base_uri": "https://localhost:8080/",
     "height": 479
    },
    "colab_type": "code",
    "executionInfo": {
     "elapsed": 506,
     "status": "ok",
     "timestamp": 1572937827812,
     "user": {
      "displayName": "Egor Silaev",
      "photoUrl": "",
      "userId": "17939097308196895647"
     },
     "user_tz": -180
    },
    "id": "4NiEgOboJYOE",
    "outputId": "0e412137-88f3-47a5-ad1e-bc3b94f163a1"
   },
   "outputs": [
    {
     "data": {
      "text/html": [
       "<div>\n",
       "<style scoped>\n",
       "    .dataframe tbody tr th:only-of-type {\n",
       "        vertical-align: middle;\n",
       "    }\n",
       "\n",
       "    .dataframe tbody tr th {\n",
       "        vertical-align: top;\n",
       "    }\n",
       "\n",
       "    .dataframe thead th {\n",
       "        text-align: right;\n",
       "    }\n",
       "</style>\n",
       "<table border=\"1\" class=\"dataframe\">\n",
       "  <thead>\n",
       "    <tr style=\"text-align: right;\">\n",
       "      <th></th>\n",
       "      <th>date</th>\n",
       "      <th>url</th>\n",
       "      <th>edition</th>\n",
       "      <th>topics</th>\n",
       "      <th>authors</th>\n",
       "      <th>title</th>\n",
       "      <th>text</th>\n",
       "      <th>reposts_fb</th>\n",
       "      <th>reposts_vk</th>\n",
       "      <th>reposts_ok</th>\n",
       "      <th>reposts_twi</th>\n",
       "      <th>reposts_lj</th>\n",
       "      <th>reposts_tg</th>\n",
       "      <th>likes</th>\n",
       "      <th>views</th>\n",
       "      <th>comm_count</th>\n",
       "      <th>NaN</th>\n",
       "    </tr>\n",
       "  </thead>\n",
       "  <tbody>\n",
       "    <tr>\n",
       "      <th>0</th>\n",
       "      <td>2019-06-26 14:00:00</td>\n",
       "      <td>https://russian.rt.com/russia/news/644595-avto...</td>\n",
       "      <td>-</td>\n",
       "      <td>Россия</td>\n",
       "      <td></td>\n",
       "      <td>Эксперт прокомментировал ситуацию с возможным ...</td>\n",
       "      <td>Как считает эксперт, россиянам не стоит пережи...</td>\n",
       "      <td>-</td>\n",
       "      <td>-</td>\n",
       "      <td>-</td>\n",
       "      <td>-</td>\n",
       "      <td>-</td>\n",
       "      <td>-</td>\n",
       "      <td>-</td>\n",
       "      <td>-</td>\n",
       "      <td>-</td>\n",
       "      <td>[]</td>\n",
       "    </tr>\n",
       "    <tr>\n",
       "      <th>1</th>\n",
       "      <td>2019-06-26 19:56:00</td>\n",
       "      <td>https://russian.rt.com/sport/article/644740-nu...</td>\n",
       "      <td>-</td>\n",
       "      <td>Спорт</td>\n",
       "      <td></td>\n",
       "      <td>Встреча Нурмагомедова с Макгрегором, восстанов...</td>\n",
       "      <td>«Конор может посетить поединок Хабиба с Порье»...</td>\n",
       "      <td>-</td>\n",
       "      <td>-</td>\n",
       "      <td>-</td>\n",
       "      <td>-</td>\n",
       "      <td>-</td>\n",
       "      <td>-</td>\n",
       "      <td>-</td>\n",
       "      <td>-</td>\n",
       "      <td>-</td>\n",
       "      <td>[]</td>\n",
       "    </tr>\n",
       "    <tr>\n",
       "      <th>2</th>\n",
       "      <td>2019-06-26 14:52:00</td>\n",
       "      <td>https://russian.rt.com/russia/news/644619-puti...</td>\n",
       "      <td>-</td>\n",
       "      <td>Россия</td>\n",
       "      <td></td>\n",
       "      <td>Путин подарил Зюганову на юбилей материалы съе...</td>\n",
       "      <td>Открывая заседание Госсовета в Кремле, Путин п...</td>\n",
       "      <td>-</td>\n",
       "      <td>-</td>\n",
       "      <td>-</td>\n",
       "      <td>-</td>\n",
       "      <td>-</td>\n",
       "      <td>-</td>\n",
       "      <td>-</td>\n",
       "      <td>-</td>\n",
       "      <td>-</td>\n",
       "      <td>[]</td>\n",
       "    </tr>\n",
       "    <tr>\n",
       "      <th>3</th>\n",
       "      <td>2019-06-26 14:44:00</td>\n",
       "      <td>https://russian.rt.com/world/news/644618-parla...</td>\n",
       "      <td>-</td>\n",
       "      <td>Мир</td>\n",
       "      <td></td>\n",
       "      <td>Парламентарии США, ФРГ и России проведут встре...</td>\n",
       "      <td>Об этом информируетnРИА Новостиnсо ссылкой на ...</td>\n",
       "      <td>-</td>\n",
       "      <td>-</td>\n",
       "      <td>-</td>\n",
       "      <td>-</td>\n",
       "      <td>-</td>\n",
       "      <td>-</td>\n",
       "      <td>-</td>\n",
       "      <td>-</td>\n",
       "      <td>-</td>\n",
       "      <td>[]</td>\n",
       "    </tr>\n",
       "    <tr>\n",
       "      <th>4</th>\n",
       "      <td>2019-06-26 14:42:00</td>\n",
       "      <td>https://russian.rt.com/sport/news/644617-mok-a...</td>\n",
       "      <td>-</td>\n",
       "      <td>Спорт</td>\n",
       "      <td></td>\n",
       "      <td>МОК принял решение лишить признания AIBA</td>\n",
       "      <td>Решением 134-й сессии МОК в швейцарской Лозанн...</td>\n",
       "      <td>-</td>\n",
       "      <td>-</td>\n",
       "      <td>-</td>\n",
       "      <td>-</td>\n",
       "      <td>-</td>\n",
       "      <td>-</td>\n",
       "      <td>-</td>\n",
       "      <td>-</td>\n",
       "      <td>-</td>\n",
       "      <td>[]</td>\n",
       "    </tr>\n",
       "  </tbody>\n",
       "</table>\n",
       "</div>"
      ],
      "text/plain": [
       "                  date  ... NaN\n",
       "0  2019-06-26 14:00:00  ...  []\n",
       "1  2019-06-26 19:56:00  ...  []\n",
       "2  2019-06-26 14:52:00  ...  []\n",
       "3  2019-06-26 14:44:00  ...  []\n",
       "4  2019-06-26 14:42:00  ...  []\n",
       "\n",
       "[5 rows x 17 columns]"
      ]
     },
     "execution_count": 16,
     "metadata": {
      "tags": []
     },
     "output_type": "execute_result"
    }
   ],
   "source": [
    "df.head()"
   ]
  },
  {
   "cell_type": "code",
   "execution_count": 0,
   "metadata": {
    "colab": {},
    "colab_type": "code",
    "id": "SHGE4jMkJYQa"
   },
   "outputs": [],
   "source": []
  },
  {
   "cell_type": "code",
   "execution_count": 0,
   "metadata": {
    "colab": {},
    "colab_type": "code",
    "id": "q0CYb-0rJPu0"
   },
   "outputs": [],
   "source": []
  },
  {
   "cell_type": "markdown",
   "metadata": {
    "colab_type": "text",
    "id": "e28l6e198L9u"
   },
   "source": [
    "### Обработка словаря"
   ]
  },
  {
   "cell_type": "code",
   "execution_count": 0,
   "metadata": {
    "colab": {},
    "colab_type": "code",
    "id": "OqjEhgaDvxj7"
   },
   "outputs": [],
   "source": [
    "# Соберем токены\n",
    "tokens = data.gettokens"
   ]
  },
  {
   "cell_type": "code",
   "execution_count": 0,
   "metadata": {
    "colab": {},
    "colab_type": "code",
    "id": "J5l3M6q38Qqr"
   },
   "outputs": [],
   "source": []
  },
  {
   "cell_type": "code",
   "execution_count": 0,
   "metadata": {
    "colab": {},
    "colab_type": "code",
    "id": "EPvhaJLR8Qte"
   },
   "outputs": [],
   "source": [
    "punctuation = list(punctuation)"
   ]
  },
  {
   "cell_type": "code",
   "execution_count": 0,
   "metadata": {
    "colab": {},
    "colab_type": "code",
    "id": "CBlrlrxj8QyH"
   },
   "outputs": [],
   "source": [
    "punctuation += ['«','»','—', 'n','»,','».', '–', '...']"
   ]
  },
  {
   "cell_type": "code",
   "execution_count": 0,
   "metadata": {
    "colab": {},
    "colab_type": "code",
    "id": "y5fevKURI-gg"
   },
   "outputs": [],
   "source": [
    "garbage_words = ['nранее', 'nв', 'nпо', 'nтакже','u','n—', 'nn']"
   ]
  },
  {
   "cell_type": "code",
   "execution_count": 0,
   "metadata": {
    "colab": {},
    "colab_type": "code",
    "id": "DmFxTeif8Q47"
   },
   "outputs": [],
   "source": [
    "tokens = {item:tokens[item] for item in tokens if item not in punctuation}"
   ]
  },
  {
   "cell_type": "code",
   "execution_count": 0,
   "metadata": {
    "colab": {},
    "colab_type": "code",
    "id": "JYh39TiPJTJ1"
   },
   "outputs": [],
   "source": [
    "tokens = {item:tokens[item] for item in tokens if item not in garbage_words}"
   ]
  },
  {
   "cell_type": "code",
   "execution_count": 0,
   "metadata": {
    "colab": {},
    "colab_type": "code",
    "id": "XDWAFsST8Q0f"
   },
   "outputs": [],
   "source": [
    "stopwords_01 = open('/content/gdrive/My Drive/data/another/stopwords.txt', 'r', encoding='UTF-8')\n",
    "stopwords_01 = stopwords_01.read().split('\\n')\n",
    "stopwords_02 = open('/content/gdrive/My Drive/data/another/stopwords_02.txt', 'r', encoding='UTF-8')\n",
    "stopwords_02 = stopwords_02.read().split('\\n')"
   ]
  },
  {
   "cell_type": "code",
   "execution_count": 0,
   "metadata": {
    "colab": {},
    "colab_type": "code",
    "id": "qOGMPuwo8Qw2"
   },
   "outputs": [],
   "source": [
    "stopwords = stopwords_01 + stopwords_02"
   ]
  },
  {
   "cell_type": "code",
   "execution_count": 0,
   "metadata": {
    "colab": {},
    "colab_type": "code",
    "id": "ED9DjQjc9R05"
   },
   "outputs": [],
   "source": [
    "tokens_without_stopwords = {item:tokens[item] for item in tokens if item not in stopwords}"
   ]
  },
  {
   "cell_type": "code",
   "execution_count": 0,
   "metadata": {
    "colab": {},
    "colab_type": "code",
    "id": "6M4gXZsu9R7L"
   },
   "outputs": [],
   "source": []
  },
  {
   "cell_type": "markdown",
   "metadata": {
    "colab_type": "text",
    "id": "ym3H5f0G-NLt"
   },
   "source": [
    "### Аналитика по словам"
   ]
  },
  {
   "cell_type": "markdown",
   "metadata": {
    "colab_type": "text",
    "id": "B3_A4DrY-hQq"
   },
   "source": [
    "#### Топ-20 слов без удаления стоп-слов"
   ]
  },
  {
   "cell_type": "code",
   "execution_count": 51,
   "metadata": {
    "colab": {
     "base_uri": "https://localhost:8080/",
     "height": 357
    },
    "colab_type": "code",
    "executionInfo": {
     "elapsed": 575,
     "status": "ok",
     "timestamp": 1572938767253,
     "user": {
      "displayName": "Egor Silaev",
      "photoUrl": "",
      "userId": "17939097308196895647"
     },
     "user_tz": -180
    },
    "id": "KFqnUUCevxkA",
    "outputId": "638dabaf-82db-4283-9a48-536d59d557e9"
   },
   "outputs": [
    {
     "data": {
      "text/plain": [
       "[('в', 656403),\n",
       " ('и', 339005),\n",
       " ('на', 276070),\n",
       " ('что', 230565),\n",
       " ('с', 171243),\n",
       " ('по', 162915),\n",
       " ('не', 150149),\n",
       " ('ранее', 73704),\n",
       " ('о', 63981),\n",
       " ('как', 63264),\n",
       " ('он', 62068),\n",
       " ('для', 59815),\n",
       " ('это', 59210),\n",
       " ('к', 56653),\n",
       " ('россии', 56185),\n",
       " ('из', 55137),\n",
       " ('за', 54938),\n",
       " ('а', 52405),\n",
       " ('также', 49500),\n",
       " ('его', 46686)]"
      ]
     },
     "execution_count": 51,
     "metadata": {
      "tags": []
     },
     "output_type": "execute_result"
    }
   ],
   "source": [
    "Counter(tokens).most_common(20)"
   ]
  },
  {
   "cell_type": "code",
   "execution_count": 52,
   "metadata": {
    "colab": {
     "base_uri": "https://localhost:8080/",
     "height": 404
    },
    "colab_type": "code",
    "executionInfo": {
     "elapsed": 1070,
     "status": "ok",
     "timestamp": 1572938770838,
     "user": {
      "displayName": "Egor Silaev",
      "photoUrl": "",
      "userId": "17939097308196895647"
     },
     "user_tz": -180
    },
    "id": "RrvScy8hvxkE",
    "outputId": "c8846a40-c431-4212-bbb1-6d94d2f7aa47"
   },
   "outputs": [
    {
     "data": {
      "image/png": "[encoded data removed]",
      "text/plain": [
       "<Figure size 864x432 with 1 Axes>"
      ]
     },
     "metadata": {
      "tags": []
     },
     "output_type": "display_data"
    }
   ],
   "source": [
    "x = dict(Counter(tokens).most_common(20)).keys()\n",
    "y = dict(Counter(tokens).most_common(20)).values()\n",
    "\n",
    "fig, ax = plt.subplots()\n",
    "\n",
    "ax.bar(x, y)\n",
    "ax.set_title('TOP-20 слов без удаления стопслов')\n",
    "ax.set_ylabel('Частота')\n",
    "ax.set_xlabel('Слова')\n",
    "\n",
    "ax.set_facecolor('seashell')\n",
    "fig.set_facecolor('floralwhite')\n",
    "fig.set_figwidth(12)    #  ширина Figure\n",
    "fig.set_figheight(6)    #  высота Figure\n",
    "\n",
    "\n",
    "plt.show()"
   ]
  },
  {
   "cell_type": "markdown",
   "metadata": {
    "colab_type": "text",
    "id": "oyibo5Ui-lzi"
   },
   "source": [
    "#### Топ-20 слов после удаления стоп-слов"
   ]
  },
  {
   "cell_type": "code",
   "execution_count": 53,
   "metadata": {
    "colab": {
     "base_uri": "https://localhost:8080/",
     "height": 357
    },
    "colab_type": "code",
    "executionInfo": {
     "elapsed": 519,
     "status": "ok",
     "timestamp": 1572938773647,
     "user": {
      "displayName": "Egor Silaev",
      "photoUrl": "",
      "userId": "17939097308196895647"
     },
     "user_tz": -180
    },
    "id": "dsegoWWy-rod",
    "outputId": "02589a96-63ad-4a08-e871-8b4576d85001"
   },
   "outputs": [
    {
     "data": {
      "text/plain": [
       "[('россии', 56185),\n",
       " ('сша', 38624),\n",
       " ('заявил', 30197),\n",
       " ('сообщалось', 23040),\n",
       " ('словам', 22485),\n",
       " ('новости', 21864),\n",
       " ('отметил', 21257),\n",
       " ('риа', 21067),\n",
       " ('сообщает', 18260),\n",
       " ('отмечается', 16484),\n",
       " ('украины', 16193),\n",
       " ('1', 16054),\n",
       " ('2', 16037),\n",
       " ('rt', 15362),\n",
       " ('слова', 15296),\n",
       " ('приводит', 15146),\n",
       " ('страны', 13892),\n",
       " ('цитирует', 13827),\n",
       " ('мая', 13049),\n",
       " ('решение', 12689)]"
      ]
     },
     "execution_count": 53,
     "metadata": {
      "tags": []
     },
     "output_type": "execute_result"
    }
   ],
   "source": [
    "Counter(tokens_without_stopwords).most_common(20)"
   ]
  },
  {
   "cell_type": "code",
   "execution_count": 54,
   "metadata": {
    "colab": {
     "base_uri": "https://localhost:8080/",
     "height": 404
    },
    "colab_type": "code",
    "executionInfo": {
     "elapsed": 1167,
     "status": "ok",
     "timestamp": 1572938777248,
     "user": {
      "displayName": "Egor Silaev",
      "photoUrl": "",
      "userId": "17939097308196895647"
     },
     "user_tz": -180
    },
    "id": "ULvxekUF-r4a",
    "outputId": "8ca571ac-56e8-4175-cd4e-1939bd9ea3e5"
   },
   "outputs": [
    {
     "data": {
      "image/png": "[encoded data removed]",
      "text/plain": [
       "<Figure size 1584x432 with 1 Axes>"
      ]
     },
     "metadata": {
      "tags": []
     },
     "output_type": "display_data"
    }
   ],
   "source": [
    "x = dict(Counter(tokens_without_stopwords).most_common(20)).keys()\n",
    "y = dict(Counter(tokens_without_stopwords).most_common(20)).values()\n",
    "\n",
    "fig, ax = plt.subplots()\n",
    "\n",
    "ax.bar(x, y)\n",
    "ax.set_title('TOP-20 слов без удаления стопслов')\n",
    "ax.set_ylabel('Частота')\n",
    "ax.set_xlabel('Слова')\n",
    "\n",
    "ax.set_facecolor('seashell')\n",
    "fig.set_facecolor('floralwhite')\n",
    "fig.set_figwidth(22)    #  ширина Figure\n",
    "fig.set_figheight(6)    #  высота Figure\n",
    "\n",
    "\n",
    "plt.show()"
   ]
  },
  {
   "cell_type": "markdown",
   "metadata": {
    "colab_type": "text",
    "id": "VJ6w-wJ2vxkH"
   },
   "source": [
    "## Рубрики в разрезе новостей"
   ]
  },
  {
   "cell_type": "markdown",
   "metadata": {
    "colab_type": "text",
    "id": "IwvkOJgzvxkH"
   },
   "source": [
    "### Количество рубрик"
   ]
  },
  {
   "cell_type": "code",
   "execution_count": 0,
   "metadata": {
    "colab": {},
    "colab_type": "code",
    "id": "FHEEEtf2vxkI"
   },
   "outputs": [],
   "source": [
    "list_topics = list(data.listcolumns(None, 'rt', 'topics'))"
   ]
  },
  {
   "cell_type": "code",
   "execution_count": 56,
   "metadata": {
    "colab": {
     "base_uri": "https://localhost:8080/",
     "height": 34
    },
    "colab_type": "code",
    "executionInfo": {
     "elapsed": 531,
     "status": "ok",
     "timestamp": 1572938788268,
     "user": {
      "displayName": "Egor Silaev",
      "photoUrl": "",
      "userId": "17939097308196895647"
     },
     "user_tz": -180
    },
    "id": "Z8BTRTl7vxkK",
    "outputId": "6856ecda-1071-41fa-ecc8-7ed133040be2"
   },
   "outputs": [
    {
     "data": {
      "text/plain": [
       "10"
      ]
     },
     "execution_count": 56,
     "metadata": {
      "tags": []
     },
     "output_type": "execute_result"
    }
   ],
   "source": [
    "len(set(list_topics))"
   ]
  },
  {
   "cell_type": "markdown",
   "metadata": {
    "colab_type": "text",
    "id": "597r_Fl3vxkM"
   },
   "source": [
    "### Рубрики в разрезе количества новостей"
   ]
  },
  {
   "cell_type": "code",
   "execution_count": 57,
   "metadata": {
    "colab": {
     "base_uri": "https://localhost:8080/",
     "height": 187
    },
    "colab_type": "code",
    "executionInfo": {
     "elapsed": 536,
     "status": "ok",
     "timestamp": 1572938791345,
     "user": {
      "displayName": "Egor Silaev",
      "photoUrl": "",
      "userId": "17939097308196895647"
     },
     "user_tz": -180
    },
    "id": "ccIvRH-SvxkM",
    "outputId": "d4a13e7b-1831-4e83-bd68-35679eb64b9a"
   },
   "outputs": [
    {
     "data": {
      "text/plain": [
       "[('Россия', 32963),\n",
       " ('Спорт', 26702),\n",
       " ('Мир', 26476),\n",
       " ('Бывший СССР', 10078),\n",
       " ('Без политики', 4489),\n",
       " ('Экономика', 4321),\n",
       " ('Наука', 1496),\n",
       " ('Пресс-релизы', 92),\n",
       " ('Новости партнёров', 14),\n",
       " ('Мероприятия RT', 13)]"
      ]
     },
     "execution_count": 57,
     "metadata": {
      "tags": []
     },
     "output_type": "execute_result"
    }
   ],
   "source": [
    "Counter(list_topics).most_common(10)"
   ]
  },
  {
   "cell_type": "markdown",
   "metadata": {
    "colab_type": "text",
    "id": "LzbLPu6G7Xit"
   },
   "source": [
    "## Распределение количества новостей по месяцам"
   ]
  },
  {
   "cell_type": "markdown",
   "metadata": {
    "colab_type": "text",
    "id": "q4iwekIsbT83"
   },
   "source": [
    "### Удаление дубликатов"
   ]
  },
  {
   "cell_type": "code",
   "execution_count": 0,
   "metadata": {
    "colab": {},
    "colab_type": "code",
    "id": "G6jvO-K_awHn"
   },
   "outputs": [],
   "source": [
    "# Новый словарь, ключами которого будут новости, таким образом будет создан\n",
    "# новый словарь, без дубликатов\n",
    "news_by_dict = {i['text']: i for i in list_data}\n",
    "new_items = list(news_by_dict.values())"
   ]
  },
  {
   "cell_type": "code",
   "execution_count": 25,
   "metadata": {
    "colab": {
     "base_uri": "https://localhost:8080/",
     "height": 34
    },
    "colab_type": "code",
    "executionInfo": {
     "elapsed": 529,
     "status": "ok",
     "timestamp": 1572938406092,
     "user": {
      "displayName": "Egor Silaev",
      "photoUrl": "",
      "userId": "17939097308196895647"
     },
     "user_tz": -180
    },
    "id": "EKLaMphKbnHQ",
    "outputId": "a1d1125c-887c-4c63-ffea-7b59c512b34c"
   },
   "outputs": [
    {
     "data": {
      "text/plain": [
       "293"
      ]
     },
     "execution_count": 25,
     "metadata": {
      "tags": []
     },
     "output_type": "execute_result"
    }
   ],
   "source": [
    "# Проверь, что количество дубликатов совпало с тем, что были в предварительном анализе\n",
    "# все верно\n",
    "len(list_data) - len(new_items)"
   ]
  },
  {
   "cell_type": "markdown",
   "metadata": {
    "colab_type": "text",
    "id": "PBIMnPKec8bA"
   },
   "source": [
    "### Получение распределения"
   ]
  },
  {
   "cell_type": "code",
   "execution_count": 0,
   "metadata": {
    "colab": {},
    "colab_type": "code",
    "id": "IsfBLATW02PS"
   },
   "outputs": [],
   "source": [
    "def getMonthDate(date):\n",
    "  \"\"\"\n",
    "  Возвращает дату в формате ММ-ГГГГ\n",
    "  \"\"\"\n",
    "  date = datetime.datetime.strptime(date, \"%Y-%m-%d %H:%M:%S\")\n",
    "  return '-'.join(['0' + str(date.month) if date.month<10 else str(date.month), str(date.year)])"
   ]
  },
  {
   "cell_type": "code",
   "execution_count": 0,
   "metadata": {
    "colab": {},
    "colab_type": "code",
    "id": "86cWiHJV1dKu"
   },
   "outputs": [],
   "source": [
    "# Подсчет количества новостей в разрезе месяца и года\n",
    "list_dates = [getMonthDate(x['date']) for x in new_items]"
   ]
  },
  {
   "cell_type": "code",
   "execution_count": 0,
   "metadata": {
    "colab": {},
    "colab_type": "code",
    "id": "EhWOAaaC29e0"
   },
   "outputs": [],
   "source": [
    "month_year = Counter(list_dates)"
   ]
  },
  {
   "cell_type": "code",
   "execution_count": 39,
   "metadata": {
    "colab": {
     "base_uri": "https://localhost:8080/",
     "height": 34
    },
    "colab_type": "code",
    "executionInfo": {
     "elapsed": 515,
     "status": "ok",
     "timestamp": 1572938644083,
     "user": {
      "displayName": "Egor Silaev",
      "photoUrl": "",
      "userId": "17939097308196895647"
     },
     "user_tz": -180
    },
    "id": "9v6Jd6nq6kig",
    "outputId": "82b434b7-9333-499c-eb84-42be2bdcadc4"
   },
   "outputs": [
    {
     "data": {
      "text/plain": [
       "33"
      ]
     },
     "execution_count": 39,
     "metadata": {
      "tags": []
     },
     "output_type": "execute_result"
    }
   ],
   "source": [
    "len(month_year)"
   ]
  },
  {
   "cell_type": "code",
   "execution_count": 40,
   "metadata": {
    "colab": {
     "base_uri": "https://localhost:8080/",
     "height": 578
    },
    "colab_type": "code",
    "executionInfo": {
     "elapsed": 506,
     "status": "ok",
     "timestamp": 1572938646056,
     "user": {
      "displayName": "Egor Silaev",
      "photoUrl": "",
      "userId": "17939097308196895647"
     },
     "user_tz": -180
    },
    "id": "rKYcNky04hgi",
    "outputId": "4f644a39-1c18-470b-ba43-6909df1a3ee7"
   },
   "outputs": [
    {
     "data": {
      "text/plain": [
       "[('05-2019', 8268),\n",
       " ('12-2017', 8264),\n",
       " ('11-2018', 8131),\n",
       " ('05-2018', 8088),\n",
       " ('11-2017', 7794),\n",
       " ('06-2019', 7537),\n",
       " ('06-2017', 6998),\n",
       " ('05-2017', 6083),\n",
       " ('10-2018', 5234),\n",
       " ('12-2018', 4473),\n",
       " ('06-2018', 4302),\n",
       " ('10-2016', 3965),\n",
       " ('07-2017', 3751),\n",
       " ('04-2018', 2612),\n",
       " ('09-2016', 2315),\n",
       " ('08-2016', 2229),\n",
       " ('08-2015', 2205),\n",
       " ('07-2015', 2094),\n",
       " ('06-2015', 2020),\n",
       " ('07-2016', 1924),\n",
       " ('04-2019', 1917),\n",
       " ('12-2014', 1655),\n",
       " ('11-2014', 1390),\n",
       " ('09-2015', 1228),\n",
       " ('10-2014', 1037),\n",
       " ('11-2016', 423),\n",
       " ('09-2014', 396),\n",
       " ('07-2019', 13),\n",
       " ('08-2018', 1),\n",
       " ('09-2017', 1),\n",
       " ('08-2019', 1),\n",
       " ('08-2017', 1),\n",
       " ('06-2014', 1)]"
      ]
     },
     "execution_count": 40,
     "metadata": {
      "tags": []
     },
     "output_type": "execute_result"
    }
   ],
   "source": [
    "month_year.most_common(33)"
   ]
  },
  {
   "cell_type": "code",
   "execution_count": 41,
   "metadata": {
    "colab": {
     "base_uri": "https://localhost:8080/",
     "height": 653
    },
    "colab_type": "code",
    "executionInfo": {
     "elapsed": 1118,
     "status": "ok",
     "timestamp": 1572938652010,
     "user": {
      "displayName": "Egor Silaev",
      "photoUrl": "",
      "userId": "17939097308196895647"
     },
     "user_tz": -180
    },
    "id": "g97uKlaT5UXh",
    "outputId": "3614513f-98e1-43cb-c4a3-61877fc3d06f"
   },
   "outputs": [
    {
     "data": {
      "image/png": "[encoded data removed]",
      "text/plain": [
       "<Figure size 1440x720 with 1 Axes>"
      ]
     },
     "metadata": {
      "tags": []
     },
     "output_type": "display_data"
    }
   ],
   "source": [
    "fig, ax = plt.subplots(figsize=(20, 10))\n",
    "plt.bar(x = month_year.keys(),\n",
    "        height = month_year.values())\n",
    "plt.xticks(rotation='vertical')\n",
    "ax.set_facecolor('seashell')\n",
    "fig.set_facecolor('floralwhite')\n",
    "\n",
    "ax.set_title('Количество новостей по месяцам')\n",
    "ax.set_ylabel('Количество')\n",
    "ax.set_xlabel('Дата')\n",
    "plt.show()"
   ]
  },
  {
   "cell_type": "code",
   "execution_count": 0,
   "metadata": {
    "colab": {},
    "colab_type": "code",
    "id": "YiN8O2xYvxlV"
   },
   "outputs": [],
   "source": []
  },
  {
   "cell_type": "code",
   "execution_count": 0,
   "metadata": {
    "colab": {},
    "colab_type": "code",
    "id": "CYN55mRavxlX"
   },
   "outputs": [],
   "source": []
  }
 ],
 "metadata": {
  "accelerator": "TPU",
  "colab": {
   "collapsed_sections": [],
   "name": "rt-05-11-2019.ipynb",
   "provenance": [],
   "toc_visible": true
  },
  "kernelspec": {
   "display_name": "Python 3",
   "language": "python",
   "name": "python3"
  },
  "language_info": {
   "codemirror_mode": {
    "name": "ipython",
    "version": 3
   },
   "file_extension": ".py",
   "mimetype": "text/x-python",
   "name": "python",
   "nbconvert_exporter": "python",
   "pygments_lexer": "ipython3",
   "version": "3.7.4"
  }
 },
 "nbformat": 4,
 "nbformat_minor": 1
}
