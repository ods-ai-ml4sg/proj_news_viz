{
 "cells": [
  {
   "cell_type": "markdown",
   "metadata": {
    "colab_type": "text",
    "id": "Y9ddZBr2vxjW"
   },
   "source": [
    "# interfax"
   ]
  },
  {
   "cell_type": "code",
   "execution_count": 0,
   "metadata": {
    "colab": {},
    "colab_type": "code",
    "id": "Caslc8Q9iHPH"
   },
   "outputs": [],
   "source": [
    "\n"
   ]
  },
  {
   "cell_type": "code",
   "execution_count": 1,
   "metadata": {
    "colab": {
     "base_uri": "https://localhost:8080/",
     "height": 122
    },
    "colab_type": "code",
    "executionInfo": {
     "elapsed": 16237,
     "status": "ok",
     "timestamp": 1572942642809,
     "user": {
      "displayName": "Egor Silaev",
      "photoUrl": "",
      "userId": "17939097308196895647"
     },
     "user_tz": -180
    },
    "id": "n60HNchhv48O",
    "outputId": "4347f8e1-40de-48c0-c0bb-3e0870c61739"
   },
   "outputs": [
    {
     "name": "stdout",
     "output_type": "stream",
     "text": [
      "Go to this URL in a browser: https://accounts.google.com/o/oauth2/auth?client_id=947318989803-6bn6qk8qdgf4n4g3pfee6491hc0brc4i.apps.googleusercontent.com&redirect_uri=urn%3Aietf%3Awg%3Aoauth%3A2.0%3Aoob&scope=email%20https%3A%2F%2Fwww.googleapis.com%2Fauth%2Fdocs.test%20https%3A%2F%2Fwww.googleapis.com%2Fauth%2Fdrive%20https%3A%2F%2Fwww.googleapis.com%2Fauth%2Fdrive.photos.readonly%20https%3A%2F%2Fwww.googleapis.com%2Fauth%2Fpeopleapi.readonly&response_type=code\n",
      "\n",
      "Enter your authorization code:\n",
      "··········\n",
      "Mounted at /content/gdrive\n"
     ]
    }
   ],
   "source": [
    "from google.colab import drive\n",
    "drive.mount('/content/gdrive')"
   ]
  },
  {
   "cell_type": "code",
   "execution_count": 2,
   "metadata": {
    "colab": {
     "base_uri": "https://localhost:8080/",
     "height": 1000
    },
    "colab_type": "code",
    "executionInfo": {
     "elapsed": 3163,
     "status": "ok",
     "timestamp": 1572942670690,
     "user": {
      "displayName": "Egor Silaev",
      "photoUrl": "",
      "userId": "17939097308196895647"
     },
     "user_tz": -180
    },
    "id": "jV5jr0hov_zN",
    "outputId": "4138021c-b889-426b-d88b-76b68acc2388"
   },
   "outputs": [
    {
     "name": "stdout",
     "output_type": "stream",
     "text": [
      "import codecs\n",
      "import os\n",
      "import time\n",
      "import csv\n",
      "import sys\n",
      "\n",
      "from enum import Enum\n",
      "from collections import Counter\n",
      "from razdel import tokenize\n",
      "from razdel import sentenize\n",
      "\n",
      "from nltk.corpus.reader.api import CorpusReader\n",
      "from nltk.corpus.reader.api import CategorizedCorpusReader\n",
      "\n",
      "\n",
      "class PathPattern(Enum):\n",
      "\n",
      "    doc_pattern = r\".*\\.csv\"\n",
      "    cat_pattern = r\"(\\w+)/*\"\n",
      "\n",
      "\n",
      "class CSVCorpusReader(CategorizedCorpusReader, CorpusReader):\n",
      "    \"\"\"\n",
      "    Объект чтения csv файлов для получения возможности\n",
      "    дополнительной предварительной обработки.\n",
      "    \"\"\"\n",
      "\n",
      "    def __init__(self, root, fileids=PathPattern.doc_pattern.value, encoding='utf8', **kwargs):\n",
      "        \"\"\"\n",
      "        Инициализирует объект чтения промежуточного обработанных файлов\n",
      "        корпуса.\n",
      "        \"\"\"\n",
      "\n",
      "        # Добавить шаблон категорий, если он не был передан в класс явно\n",
      "        if not any(key.startswitch('cat_') for key in kwargs.keys()):\n",
      "            kwargs['cat_pattern'] = PathPattern.cat_pattern.value\n",
      "\n",
      "        # Инициализировать объекты чтения корпуса из NLTK\n",
      "        CategorizedCorpusReader.__init__(self, kwargs)\n",
      "        CorpusReader.__init__(self, root, fileids, encoding)\n",
      "\n",
      "        # Инициировать список для сбора токенов\n",
      "        self.__tokens = Counter()\n",
      "\n",
      "    @property\n",
      "    def gettokens(self):\n",
      "        \"\"\"\n",
      "        Возвращает список токенов, полученных в ходе метода describe\n",
      "        \"\"\"\n",
      "        return self.__tokens\n",
      "\n",
      "    def resolve(self, fileids, categories):\n",
      "        \"\"\"\n",
      "        Возвращает список идентификаторов файлов или названий директорий,\n",
      "        которые передаются каждой внутренний функции объекта чтения корпуса.\n",
      "        \"\"\"\n",
      "        if fileids is not None and categories is not None:\n",
      "            raise ValueError(\"Укажите либо файлы, либо категории, а не оба параметра\")\n",
      "\n",
      "        if categories is not None:\n",
      "            return self.fileids(categories)\n",
      "        return fileids\n",
      "\n",
      "    def docs(self, fileids=None, categories=None):\n",
      "        \"\"\"\n",
      "        Возвращает содержимое документа csv, закрывая его\n",
      "        по завершении чтения.\n",
      "        \"\"\"\n",
      "        # Получить список файлов для чтения\n",
      "        fileids = self.resolve(fileids, categories)\n",
      "\n",
      "        # Создать генератор загружающий документы в память\n",
      "        # по одному. Следующий блок увеличивает размер ячейки\n",
      "        # чтения csv файла\n",
      "        maxInt = sys.maxsize\n",
      "        decrement = True\n",
      "\n",
      "        while decrement:\n",
      "            # decrease the maxInt value by factor 10\n",
      "            # as long as the OverflowError occurs.\n",
      "\n",
      "            decrement = False\n",
      "            try:\n",
      "                csv.field_size_limit(maxInt)\n",
      "            except OverflowError:\n",
      "                maxInt = int(maxInt/10)\n",
      "                decrement = True\n",
      "\n",
      "        for path, encoding in self.abspaths(fileids, include_encoding=True):\n",
      "            with codecs.open(path, 'r', encoding=encoding) as f:\n",
      "                reader = list(csv.DictReader(f, delimiter=',', quotechar='\"', escapechar='\\\\'))\n",
      "                for row in reader:\n",
      "                    yield(row)\n",
      "\n",
      "    def sizes(self, fileids=None, categories=None):\n",
      "        \"\"\"\n",
      "        Возвращает список из идентификатора файла и его размера.\n",
      "        Эта функция используется для выявления необычно больших файлов.\n",
      "        \"\"\"\n",
      "        # Получить список файлов\n",
      "        fileids = self.resolve(fileids, categories)\n",
      "\n",
      "        # Создать генератор, возвращающий имена и размеры файла\n",
      "        for path in self.abspaths(fileids):\n",
      "            yield path, os.path.getsize(path)\n",
      "\n",
      "    def listcolumns(self, fileids=None, categories=None, key='text'):\n",
      "        \"\"\"\n",
      "        Возвращает содержимое по указанному имени столбца из файла csv, в виде списка\n",
      "        \"\"\"\n",
      "        for doc in self.docs(fileids, categories):\n",
      "            yield(doc[key])\n",
      "\n",
      "    def sents(self, fileids=None, categories=None):\n",
      "        \"\"\"\n",
      "        Функция возвращает каждую новость в виде отдельных предложений,\n",
      "        для всех новостей из обрабатываемых файлов\n",
      "        \"\"\"\n",
      "        for sentence in self.listcolumns(fileids, categories):\n",
      "            sents = list(sentenize(sentence))\n",
      "            yield([_.text for _ in sents])\n",
      "\n",
      "    def words(self, fileids=None, categories=None):\n",
      "        \"\"\"\n",
      "        Функция проводит токенизацию всех предложений по каждой новости,\n",
      "        возвращает список токенизированных предложений по всем новостям\n",
      "        \"\"\"\n",
      "        for sentence in self.sents(fileids, categories):\n",
      "            for word in sentence:\n",
      "                if len(word) == 0:\n",
      "                    continue\n",
      "                tokens = list(tokenize(word))\n",
      "                yield([_.text for _ in tokens])\n",
      "\n",
      "    def describe(self, fileids=None, categories=None):\n",
      "        \"\"\"\n",
      "        Обходит все документы и возвращает словарь с разнообразными\n",
      "        оценками, описывающими состояние корпуса\n",
      "        \"\"\"\n",
      "        started = time.time()\n",
      "\n",
      "        # Структура для подсчета\n",
      "        counts = Counter()\n",
      "\n",
      "        # Выполнить обход всех новостей из csv, выделить предложения и слова,\n",
      "        # подсчитать их\n",
      "        for i in self.docs(fileids, categories):\n",
      "            counts['rows'] += 1\n",
      "            sents = list(sentenize(i['text']))\n",
      "            sentence = [_.text for _ in sents]\n",
      "\n",
      "            for sent in sentence:\n",
      "                counts['sents'] += 1\n",
      "                if len(sent) == 0:\n",
      "                    continue\n",
      "                for word in [_.text for _ in list(tokenize(sent))]:\n",
      "                    counts['words'] += 1\n",
      "                    self.__tokens[word.lower()] += 1\n",
      "\n",
      "        # Определить число файлов и категорий в корпусе\n",
      "        n_fileids = len(self.resolve(fileids, categories) or self.fileids())\n",
      "        n_topics = len(self.categories(self.resolve(fileids, categories)))\n",
      "\n",
      "        # Составить список новостей\n",
      "        list_news = list(self.listcolumns(fileids, categories))\n",
      "        # Вернуть структуру с информацией\n",
      "        return {\n",
      "          'Количество файлов': n_fileids,\n",
      "          'Количество источников новостей': n_topics,\n",
      "          'Количество обработанных новостей': counts['rows'],\n",
      "          'Количество предложений': counts['sents'],\n",
      "          'Количество слов': counts['words'],\n",
      "          'Количество токенов (словарь)': len(self.gettokens),\n",
      "          'Коэффициент лексического разнообразия (lexical diversity)': float(counts['words']) / float(len(self.gettokens)),\n",
      "          'Среднее количество новостей по отношению к файлам': float(counts['rows']) / float(n_fileids),\n",
      "          'Среднее количество предложений в новостях': float(counts['sents']) / float(counts['rows']),\n",
      "          'Начальная дата в обработке': min(self.listcolumns(fileids, categories, 'date')),\n",
      "          'Конечная дата в обработке': max(self.listcolumns(fileids, categories, 'date')),\n",
      "          'Количество повторяющихся новостей': len(list_news) - len(set(list_news)),\n",
      "          'Количество пустных новостных элементов': len([item for item in list_news if len(item) == 0]),\n",
      "          'Время обработки в секундах': time.time() - started,\n",
      "        }\n"
     ]
    }
   ],
   "source": [
    "!cat '/content/gdrive/My Drive/experiments/001-exp/scripts/reader.py'"
   ]
  },
  {
   "cell_type": "code",
   "execution_count": 3,
   "metadata": {
    "colab": {
     "base_uri": "https://localhost:8080/",
     "height": 34
    },
    "colab_type": "code",
    "executionInfo": {
     "elapsed": 2149,
     "status": "ok",
     "timestamp": 1572942675376,
     "user": {
      "displayName": "Egor Silaev",
      "photoUrl": "",
      "userId": "17939097308196895647"
     },
     "user_tz": -180
    },
    "id": "H19kw_ktv_1X",
    "outputId": "7c976324-8104-4f03-eaca-6745ce6269f4"
   },
   "outputs": [
    {
     "name": "stdout",
     "output_type": "stream",
     "text": [
      "'/content/gdrive/My Drive/experiments/001-exp/scripts/reader.py'\n"
     ]
    }
   ],
   "source": [
    "!ls /content/gdrive/My\\ Drive/experiments/001-exp/scripts/*.py"
   ]
  },
  {
   "cell_type": "code",
   "execution_count": 0,
   "metadata": {
    "colab": {},
    "colab_type": "code",
    "id": "ho_6nePUv_3z"
   },
   "outputs": [],
   "source": [
    "import sys\n",
    "sys.path.append('/content/gdrive/My Drive/experiments/001-exp/scripts/')"
   ]
  },
  {
   "cell_type": "code",
   "execution_count": 5,
   "metadata": {
    "colab": {
     "base_uri": "https://localhost:8080/",
     "height": 85
    },
    "colab_type": "code",
    "executionInfo": {
     "elapsed": 4684,
     "status": "ok",
     "timestamp": 1572942683724,
     "user": {
      "displayName": "Egor Silaev",
      "photoUrl": "",
      "userId": "17939097308196895647"
     },
     "user_tz": -180
    },
    "id": "NkNLYRZBv_6B",
    "outputId": "9c626b98-c2f4-49f0-8cff-6ed53cd01650"
   },
   "outputs": [
    {
     "name": "stdout",
     "output_type": "stream",
     "text": [
      "Collecting razdel\n",
      "  Downloading https://files.pythonhosted.org/packages/cf/f0/664eb27854d7de7c3605b5cd2a155cf069143fb00902ac479325bf1a98b7/razdel-0.4.0-py2.py3-none-any.whl\n",
      "Installing collected packages: razdel\n",
      "Successfully installed razdel-0.4.0\n"
     ]
    }
   ],
   "source": [
    "!pip install razdel"
   ]
  },
  {
   "cell_type": "code",
   "execution_count": 0,
   "metadata": {
    "colab": {},
    "colab_type": "code",
    "id": "T79SAlG8v_75"
   },
   "outputs": [],
   "source": []
  },
  {
   "cell_type": "code",
   "execution_count": 0,
   "metadata": {
    "colab": {},
    "colab_type": "code",
    "id": "SC-wpuUNvxjb"
   },
   "outputs": [],
   "source": [
    "from string import punctuation\n",
    "from collections import Counter\n",
    "import datetime\n",
    "import matplotlib.pyplot as plt"
   ]
  },
  {
   "cell_type": "code",
   "execution_count": 0,
   "metadata": {
    "colab": {},
    "colab_type": "code",
    "id": "cSFwYEPTvxjh"
   },
   "outputs": [],
   "source": [
    "import sys"
   ]
  },
  {
   "cell_type": "code",
   "execution_count": 0,
   "metadata": {
    "colab": {},
    "colab_type": "code",
    "id": "tRure0Wevxjl"
   },
   "outputs": [],
   "source": [
    "sys.path.append('C:\\\\projects\\\\datascience\\\\proj_news_viz\\\\nlp\\\\experiments\\\\exp-001_Prepare_csv_for_EDA\\\\scripts')"
   ]
  },
  {
   "cell_type": "code",
   "execution_count": 0,
   "metadata": {
    "colab": {},
    "colab_type": "code",
    "id": "a0bKN2JLvxjo"
   },
   "outputs": [],
   "source": [
    "from reader import CSVCorpusReader"
   ]
  },
  {
   "cell_type": "code",
   "execution_count": 0,
   "metadata": {
    "colab": {},
    "colab_type": "code",
    "id": "jY2am0Wvvxjq"
   },
   "outputs": [],
   "source": [
    "# Создадим объект чтения корпуса\n",
    "# data = CSVCorpusReader('../../../data/interim')\n",
    "data = CSVCorpusReader('/content/gdrive/My Drive/data/interim/')"
   ]
  },
  {
   "cell_type": "code",
   "execution_count": 9,
   "metadata": {
    "colab": {
     "base_uri": "https://localhost:8080/",
     "height": 34
    },
    "colab_type": "code",
    "executionInfo": {
     "elapsed": 501,
     "status": "ok",
     "timestamp": 1572942693888,
     "user": {
      "displayName": "Egor Silaev",
      "photoUrl": "",
      "userId": "17939097308196895647"
     },
     "user_tz": -180
    },
    "id": "CO3bVW6Pvxjt",
    "outputId": "b1ab326f-4ae4-4982-e7d9-5e5617a00948"
   },
   "outputs": [
    {
     "data": {
      "text/plain": [
       "['gazeta', 'interfax', 'rt', 'tass']"
      ]
     },
     "execution_count": 9,
     "metadata": {
      "tags": []
     },
     "output_type": "execute_result"
    }
   ],
   "source": [
    "# Новостные источники\n",
    "data.categories()"
   ]
  },
  {
   "cell_type": "code",
   "execution_count": 10,
   "metadata": {
    "colab": {
     "base_uri": "https://localhost:8080/",
     "height": 34
    },
    "colab_type": "code",
    "executionInfo": {
     "elapsed": 500,
     "status": "ok",
     "timestamp": 1572942695514,
     "user": {
      "displayName": "Egor Silaev",
      "photoUrl": "",
      "userId": "17939097308196895647"
     },
     "user_tz": -180
    },
    "id": "PKwf-W_dvxjx",
    "outputId": "a9679762-b372-4d45-af28-623b45f0b4ab"
   },
   "outputs": [
    {
     "data": {
      "text/plain": [
       "['gazeta/gazeta.csv', 'interfax/interfax.csv', 'rt/rt.csv', 'tass/tass.csv']"
      ]
     },
     "execution_count": 10,
     "metadata": {
      "tags": []
     },
     "output_type": "execute_result"
    }
   ],
   "source": [
    "# Имеющиеся файлы в корпусе\n",
    "data.fileids()"
   ]
  },
  {
   "cell_type": "markdown",
   "metadata": {
    "colab_type": "text",
    "id": "b-sExa2Jvxj1"
   },
   "source": [
    "## Общий предварительный анализ"
   ]
  },
  {
   "cell_type": "code",
   "execution_count": 11,
   "metadata": {
    "colab": {
     "base_uri": "https://localhost:8080/",
     "height": 255
    },
    "colab_type": "code",
    "executionInfo": {
     "elapsed": 1305974,
     "status": "ok",
     "timestamp": 1572944006645,
     "user": {
      "displayName": "Egor Silaev",
      "photoUrl": "",
      "userId": "17939097308196895647"
     },
     "user_tz": -180
    },
    "id": "ksweq0WAvxj2",
    "outputId": "342cc363-3d7d-4af9-ea57-15149f559451"
   },
   "outputs": [
    {
     "data": {
      "text/plain": [
       "{'Время обработки в секундах': 1304.9783427715302,\n",
       " 'Количество источников новостей': 1,\n",
       " 'Количество обработанных новостей': 543964,\n",
       " 'Количество повторяющихся новостей': 241,\n",
       " 'Количество предложений': 3912978,\n",
       " 'Количество пустных новостных элементов': 0,\n",
       " 'Количество слов': 124829733,\n",
       " 'Количество токенов (словарь)': 874994,\n",
       " 'Количество файлов': 1,\n",
       " 'Конечная дата в обработке': '2019-05-27 08:09:00',\n",
       " 'Коэффициент лексического разнообразия (lexical diversity)': 142.66353026420754,\n",
       " 'Начальная дата в обработке': '2008-02-11 03:47:00',\n",
       " 'Среднее количество новостей по отношению к файлам': 543964.0,\n",
       " 'Среднее количество предложений в новостях': 7.193450301858211}"
      ]
     },
     "execution_count": 11,
     "metadata": {
      "tags": []
     },
     "output_type": "execute_result"
    }
   ],
   "source": [
    "# Предварительный анализ всех файлов из каталога новостного источника\n",
    "data.describe(None, 'interfax')"
   ]
  },
  {
   "cell_type": "markdown",
   "metadata": {
    "colab_type": "text",
    "id": "TSZBXiIq7778"
   },
   "source": [
    "## EDA"
   ]
  },
  {
   "cell_type": "code",
   "execution_count": 0,
   "metadata": {
    "colab": {},
    "colab_type": "code",
    "id": "Xcj1nX41HtJd"
   },
   "outputs": [],
   "source": []
  },
  {
   "cell_type": "code",
   "execution_count": 0,
   "metadata": {
    "colab": {},
    "colab_type": "code",
    "id": "IFD9JKgDHtem"
   },
   "outputs": [],
   "source": [
    "list_data = list(data.docs(None, 'interfax'))"
   ]
  },
  {
   "cell_type": "code",
   "execution_count": 13,
   "metadata": {
    "colab": {
     "base_uri": "https://localhost:8080/",
     "height": 1000
    },
    "colab_type": "code",
    "executionInfo": {
     "elapsed": 547,
     "status": "ok",
     "timestamp": 1572944491901,
     "user": {
      "displayName": "Egor Silaev",
      "photoUrl": "",
      "userId": "17939097308196895647"
     },
     "user_tz": -180
    },
    "id": "4IlBlvz6HthN",
    "outputId": "98354962-5661-4185-9d55-336afba32afd"
   },
   "outputs": [
    {
     "data": {
      "text/plain": [
       "[OrderedDict([('date', '2019-04-30 13:26:00'),\n",
       "              ('url', 'https://www.sport-interfax.ru/659837'),\n",
       "              ('edition', 'www.sport-interfax.ru'),\n",
       "              ('topics', 'Спорт'),\n",
       "              ('authors', ''),\n",
       "              ('title',\n",
       "               'Российского чемпиона мира по греко-римской борьбе отстранили за допинг'),\n",
       "              ('text',\n",
       "               'Москва. 30 апреля. INTERFAX.RU - Чемпион мира по греко-римской борьбе 2014 года Чингиз Лабазанов наказан дисквалификацией сроком на один год за нарушение антидопинговых правил, сообщает во вторник пресс-служба Российского антидопингового агентства во вторник.n\"Федерация борьбы России, по решению РАА РУСАДА, вынесла решение, по которому спортсмен Лабазанов Чингиз лишен права на 1 год за нарушение ст. 2.4 Всероссийских антидопинговых правил, период, начинающийся 11 апреля 2019 года\", - говорится в сообщении.nКроме этого, на четыре года за нарушение антидопинговых правил отстранен еще один отечественный борец - Валерий Гусаров. Его наказание начинается с 31 июля 2018 года.'),\n",
       "              ('reposts_fb', '-'),\n",
       "              ('reposts_vk', '-'),\n",
       "              ('reposts_ok', '-'),\n",
       "              ('reposts_twi', '-'),\n",
       "              ('reposts_lj', '-'),\n",
       "              ('reposts_tg', '-'),\n",
       "              ('likes', '-'),\n",
       "              ('views', '-'),\n",
       "              ('comm_count', '-'),\n",
       "              (None, [''])]),\n",
       " OrderedDict([('date', '2019-05-07 12:46:00'),\n",
       "              ('url', 'https://www.sport-interfax.ru/660425'),\n",
       "              ('edition', 'www.sport-interfax.ru'),\n",
       "              ('topics', 'Спорт'),\n",
       "              ('authors', ''),\n",
       "              ('title',\n",
       "               'Первый канал покажет все матчи россиян на ЧМ по хоккею в прямом эфире'),\n",
       "              ('text',\n",
       "               'Москва. 7 мая. INTERFAX.RU - Первый канал объявил о том, что все матчи сборной России по хоккею в рамках стартующего 10 мая в Словакии чемпионата мира будут транслироваться на платформах телеканала в режиме реального времени.n\"Первый канал покажет ключевые матчи сборной России в прямом телеэфире и эксклюзивно все матчи сборной России на сайте Первого\", - говорится в сообщении телеканала, поступившем в \"Интерфакс\".nОтмечается, что в телеэфире будут показаны матчи группового этапа россиян против Норвегии (10 мая), Чехии (13 мая), Швейцарии (19 мая) и Швеции (21 мая). Помимо этих команд, соперниками сборной России по группе B стали Латвия, Австрия и Италия.nКроме того, \"Первый канал покажет все матчи с участием сборной России на стадии (если туда пробьется - ИФ) плей-офф\", - говорится в сообщении.nКомментировать ЧМ по хоккею 2019 на Первом будут Александр Кузмак и Андрей Юртаев, приглашенный эксперт - двукратный Олимпийский чемпион и четырехкратный чемпион мира Игорь Ларионов.nДействующим чемпионом мира является сборная Швеции. Команда России в последний раз выигрывала золото ЧМ в 2014 году.'),\n",
       "              ('reposts_fb', '-'),\n",
       "              ('reposts_vk', '-'),\n",
       "              ('reposts_ok', '-'),\n",
       "              ('reposts_twi', '-'),\n",
       "              ('reposts_lj', '-'),\n",
       "              ('reposts_tg', '-'),\n",
       "              ('likes', '-'),\n",
       "              ('views', '-'),\n",
       "              ('comm_count', '-'),\n",
       "              (None, [''])]),\n",
       " OrderedDict([('date', '2019-05-08 12:57:00'),\n",
       "              ('url', 'https://www.sport-interfax.ru/660543'),\n",
       "              ('edition', 'www.sport-interfax.ru'),\n",
       "              ('topics', 'Спорт'),\n",
       "              ('authors', ''),\n",
       "              ('title',\n",
       "               'Семак выразил надежду на новый контракт Кокорина с \"Зенитом\"'),\n",
       "              ('text',\n",
       "               'Москва. 8 мая. INTERFAX.RU - Главный тренер петербургского ФК \"Зенит\" Сергей Семак считает, что адекватным приговором нападающему Александру Кокорину и полузащитнику \"Краснодара\" Павла Мамаева, обвиняемых в хулиганстве, будет освобождение в зале суда.nСемак надеется, что этот приговор позволит \"Зениту\" подписать новый контракт с Кокориным.n\"Я надеюсь, что его все-таки выпустят, и что он все-таки подпишет контракт с нашим клубом - естественно, мне бы этого хотелось очень\", - сказал Семак в интервью телеканалу \"Россия-24\" (ВГТРК).nОн добавил: \"Думаю, за несколько месяцев функционально он сможет выйти на хороший уровень\".nПресненский суд Москвы 8 мая в 14:00 огласит приговор полузащитнику футбольного клуба \"Краснодар\" Павлу Мамаеву, нападающему \"Зенита\" Александру Кокорину, его младшему брату Кириллу, а также их приятелю Александру Протасовицкому по делу о двух драках в столице.nФутболисты обвиняются в участии в двух драках утром 8 октября 2018 года в Москве. Одна из них произошла у гостиницы \"Пекин\", где пострадал водитель сотрудницы \"Первого канала\" Ольги Ушаковой - Виталий Соловчук. Вторая потасовка - с федеральными чиновниками Денисом Паком и Сергеем Гайсиным - случилась в \"Кофемании\" на Большой Никитской улице.nСпортсмены частично признают вину - каждый, в зависимости от эпизодов конфликтов, в котором он непосредственно участвовал. Кроме того, они категорически отрицают наличие в их действиях состава хулиганства. На очных ставках с потерпевшими обвиняемые принесли извинения, а также заявили о готовности загладить вину и возместить причиненный ущерб.'),\n",
       "              ('reposts_fb', '-'),\n",
       "              ('reposts_vk', '-'),\n",
       "              ('reposts_ok', '-'),\n",
       "              ('reposts_twi', '-'),\n",
       "              ('reposts_lj', '-'),\n",
       "              ('reposts_tg', '-'),\n",
       "              ('likes', '-'),\n",
       "              ('views', '-'),\n",
       "              ('comm_count', '-'),\n",
       "              (None, [''])]),\n",
       " OrderedDict([('date', '2019-05-09 00:06:00'),\n",
       "              ('url', 'https://www.sport-interfax.ru/660618'),\n",
       "              ('edition', 'www.sport-interfax.ru'),\n",
       "              ('topics', 'Спорт'),\n",
       "              ('authors', ''),\n",
       "              ('title', '\"Тоттенхэм\" стал вторым финалистом Лиги чемпионов'),\n",
       "              ('text',\n",
       "               'В финале он сыграет с другим представителем Англии, \"Ливерпулем\"nМосква. 9 мая. INTERFAX.RU - Лондонский \"Тоттенхэм\" со счетом 3:2 победил в Голландии местный \"Аякс\" в ответном матче 1/2 финала Лиги чемпионов УЕФА.nПо ходу встречи английская команда уступала с разницей в два гола, но смогла отыграться, а на шестой минуте компенсированного ко второму тайму времени забить победный мяч.nЭмоции после финального свисткаnНа пятой минуте \"Аякс\" вышел вперед благодаря голу Матейса де Лигта. Спустя 30 минут и Хаким Зиеш укрепил преимущество голландского клуба.n2:0 к перерыву - казалось, более чем комфортное преимущество, если честь, что сопернику за оставшуюся половину игры необходимо было забивать как минимум трижды (и при этом не пропускать).nИ во втором тайме \"Тоттенхэм\" смог забить три мяча, автором каждого из этих голов стал Лукас Моура – на 55, 59 и 90+6 минутах. После этого игроки \"Аякса\" чуть ли не в полном составе рухнули от досады на газон, тогда как футболисты \"Тоттенхэма\", будучи вне себя от счастья, бросились поздравлять друг друга с успехом.nМежду тем, несмотря на уже прошедшие пять добавленных минут (при том, что решающий гол состоялся на шестой), судья позволил командам поиграть еще, однако завал \"Аякса\" к успеху не привел. С другой стороны, голландский клуб имел шансы развить свой успех еще при победном для себя счете, а также при счете 2:2, но голевые моменты не использовал. Как правило, эти моменты создавались в контратаках.nНо и развязка в пользу \"Тоттенхэма\" могла наступить еще в основное время матча: голкипер \"Аякса\" Андре Онана вытаскивал мячи после ударов в упор с близкого расстояния. Сам Онана на исходе компенсированного времени получил желтую карточку за затяжку времени. Он все же ввел мяч в игру от своих ворот, после чего соперник перехватил мяч и начал атаку, ставшую голевой.nНет словnПервый матч, прошедший ранее в Англии, завершился победой \"Аякса\" со счетом 1:0. В финал вышел \"Тоттенхэм\" за счет лучшего показателя по голам на выезде. \"Тоттенхэм\" стал финалистом Лиги чемпионов впервые в истории.nВ финале \"Тоттенхэм\" сыграет с английским \"Ливерпулем\", который в полуфинале по сумме двух встречnодолел испанскую \"Барселону\"n. Матч пройдет 1 июня в Мадриде.n\"Интерфакс\" велnтекстовую трансляциюnматча \"Аякс\" - \"Тоттенхэм\".'),\n",
       "              ('reposts_fb', '-'),\n",
       "              ('reposts_vk', '-'),\n",
       "              ('reposts_ok', '-'),\n",
       "              ('reposts_twi', '-'),\n",
       "              ('reposts_lj', '-'),\n",
       "              ('reposts_tg', '-'),\n",
       "              ('likes', '-'),\n",
       "              ('views', '-'),\n",
       "              ('comm_count', '-'),\n",
       "              (None, [''])]),\n",
       " OrderedDict([('date', '2019-05-14 14:32:00'),\n",
       "              ('url', 'https://www.sport-interfax.ru/661091'),\n",
       "              ('edition', 'www.sport-interfax.ru'),\n",
       "              ('topics', 'Спорт'),\n",
       "              ('authors', ''),\n",
       "              ('title',\n",
       "               'Претендовавшего на участие в ОИ скейтбордиста из РФ отстранили на четыре года'),\n",
       "              ('text',\n",
       "               'Москва. 14 мая. INTERFAX.RU - Российский скейтбордист Максим Круглов дисквалифицирован на четыре года за нарушение антидопинговых правил, сообщает пресс-служба Российского антидопингового агентства (РУСАДА) во вторник.n\"Федерация скейтбординга России на основании и во исполнение решения РАА \"РУСАДА\" приняла решение дисквалифицировать спортсмена Круглова Максима на четыре года за нарушение п. 2.3 Общероссийских антидопинговых правил (отказ или неявка на процедуру сдачи проб - ИФ)\", - говорится в сообщении.nСрок наказания Круглова начинается с 7 февраля 2019 года.nРоссиянин входит в топ-20 элитных скейтбордистов мира и являлся кандидатом на поездку на Олимпиаду 2020 года в Токио.'),\n",
       "              ('reposts_fb', '-'),\n",
       "              ('reposts_vk', '-'),\n",
       "              ('reposts_ok', '-'),\n",
       "              ('reposts_twi', '-'),\n",
       "              ('reposts_lj', '-'),\n",
       "              ('reposts_tg', '-'),\n",
       "              ('likes', '-'),\n",
       "              ('views', '-'),\n",
       "              ('comm_count', '-'),\n",
       "              (None, [''])])]"
      ]
     },
     "execution_count": 13,
     "metadata": {
      "tags": []
     },
     "output_type": "execute_result"
    }
   ],
   "source": [
    "# Так выглядет датасет\n",
    "list_data[:5]"
   ]
  },
  {
   "cell_type": "code",
   "execution_count": 0,
   "metadata": {
    "colab": {},
    "colab_type": "code",
    "id": "CdWVxQ6WHtkN"
   },
   "outputs": [],
   "source": []
  },
  {
   "cell_type": "code",
   "execution_count": 0,
   "metadata": {
    "colab": {},
    "colab_type": "code",
    "id": "XGiZjtMVJPxO"
   },
   "outputs": [],
   "source": [
    "# Можно в пандас загрузить и посмотреть"
   ]
  },
  {
   "cell_type": "code",
   "execution_count": 0,
   "metadata": {
    "colab": {},
    "colab_type": "code",
    "id": "xR_zfJTvJP07"
   },
   "outputs": [],
   "source": [
    "import pandas as pd"
   ]
  },
  {
   "cell_type": "code",
   "execution_count": 0,
   "metadata": {
    "colab": {},
    "colab_type": "code",
    "id": "3ekNw8AgJYLe"
   },
   "outputs": [],
   "source": [
    "df = pd.DataFrame(list_data)"
   ]
  },
  {
   "cell_type": "code",
   "execution_count": 16,
   "metadata": {
    "colab": {
     "base_uri": "https://localhost:8080/",
     "height": 513
    },
    "colab_type": "code",
    "executionInfo": {
     "elapsed": 524,
     "status": "ok",
     "timestamp": 1572944538648,
     "user": {
      "displayName": "Egor Silaev",
      "photoUrl": "",
      "userId": "17939097308196895647"
     },
     "user_tz": -180
    },
    "id": "4NiEgOboJYOE",
    "outputId": "aad12176-ff17-4149-d300-3b68ae4a071d"
   },
   "outputs": [
    {
     "data": {
      "text/html": [
       "<div>\n",
       "<style scoped>\n",
       "    .dataframe tbody tr th:only-of-type {\n",
       "        vertical-align: middle;\n",
       "    }\n",
       "\n",
       "    .dataframe tbody tr th {\n",
       "        vertical-align: top;\n",
       "    }\n",
       "\n",
       "    .dataframe thead th {\n",
       "        text-align: right;\n",
       "    }\n",
       "</style>\n",
       "<table border=\"1\" class=\"dataframe\">\n",
       "  <thead>\n",
       "    <tr style=\"text-align: right;\">\n",
       "      <th></th>\n",
       "      <th>date</th>\n",
       "      <th>url</th>\n",
       "      <th>edition</th>\n",
       "      <th>topics</th>\n",
       "      <th>authors</th>\n",
       "      <th>title</th>\n",
       "      <th>text</th>\n",
       "      <th>reposts_fb</th>\n",
       "      <th>reposts_vk</th>\n",
       "      <th>reposts_ok</th>\n",
       "      <th>reposts_twi</th>\n",
       "      <th>reposts_lj</th>\n",
       "      <th>reposts_tg</th>\n",
       "      <th>likes</th>\n",
       "      <th>views</th>\n",
       "      <th>comm_count</th>\n",
       "      <th>NaN</th>\n",
       "    </tr>\n",
       "  </thead>\n",
       "  <tbody>\n",
       "    <tr>\n",
       "      <th>0</th>\n",
       "      <td>2019-04-30 13:26:00</td>\n",
       "      <td>https://www.sport-interfax.ru/659837</td>\n",
       "      <td>www.sport-interfax.ru</td>\n",
       "      <td>Спорт</td>\n",
       "      <td></td>\n",
       "      <td>Российского чемпиона мира по греко-римской бор...</td>\n",
       "      <td>Москва. 30 апреля. INTERFAX.RU - Чемпион мира ...</td>\n",
       "      <td>-</td>\n",
       "      <td>-</td>\n",
       "      <td>-</td>\n",
       "      <td>-</td>\n",
       "      <td>-</td>\n",
       "      <td>-</td>\n",
       "      <td>-</td>\n",
       "      <td>-</td>\n",
       "      <td>-</td>\n",
       "      <td>[]</td>\n",
       "    </tr>\n",
       "    <tr>\n",
       "      <th>1</th>\n",
       "      <td>2019-05-07 12:46:00</td>\n",
       "      <td>https://www.sport-interfax.ru/660425</td>\n",
       "      <td>www.sport-interfax.ru</td>\n",
       "      <td>Спорт</td>\n",
       "      <td></td>\n",
       "      <td>Первый канал покажет все матчи россиян на ЧМ п...</td>\n",
       "      <td>Москва. 7 мая. INTERFAX.RU - Первый канал объя...</td>\n",
       "      <td>-</td>\n",
       "      <td>-</td>\n",
       "      <td>-</td>\n",
       "      <td>-</td>\n",
       "      <td>-</td>\n",
       "      <td>-</td>\n",
       "      <td>-</td>\n",
       "      <td>-</td>\n",
       "      <td>-</td>\n",
       "      <td>[]</td>\n",
       "    </tr>\n",
       "    <tr>\n",
       "      <th>2</th>\n",
       "      <td>2019-05-08 12:57:00</td>\n",
       "      <td>https://www.sport-interfax.ru/660543</td>\n",
       "      <td>www.sport-interfax.ru</td>\n",
       "      <td>Спорт</td>\n",
       "      <td></td>\n",
       "      <td>Семак выразил надежду на новый контракт Кокори...</td>\n",
       "      <td>Москва. 8 мая. INTERFAX.RU - Главный тренер пе...</td>\n",
       "      <td>-</td>\n",
       "      <td>-</td>\n",
       "      <td>-</td>\n",
       "      <td>-</td>\n",
       "      <td>-</td>\n",
       "      <td>-</td>\n",
       "      <td>-</td>\n",
       "      <td>-</td>\n",
       "      <td>-</td>\n",
       "      <td>[]</td>\n",
       "    </tr>\n",
       "    <tr>\n",
       "      <th>3</th>\n",
       "      <td>2019-05-09 00:06:00</td>\n",
       "      <td>https://www.sport-interfax.ru/660618</td>\n",
       "      <td>www.sport-interfax.ru</td>\n",
       "      <td>Спорт</td>\n",
       "      <td></td>\n",
       "      <td>\"Тоттенхэм\" стал вторым финалистом Лиги чемпионов</td>\n",
       "      <td>В финале он сыграет с другим представителем Ан...</td>\n",
       "      <td>-</td>\n",
       "      <td>-</td>\n",
       "      <td>-</td>\n",
       "      <td>-</td>\n",
       "      <td>-</td>\n",
       "      <td>-</td>\n",
       "      <td>-</td>\n",
       "      <td>-</td>\n",
       "      <td>-</td>\n",
       "      <td>[]</td>\n",
       "    </tr>\n",
       "    <tr>\n",
       "      <th>4</th>\n",
       "      <td>2019-05-14 14:32:00</td>\n",
       "      <td>https://www.sport-interfax.ru/661091</td>\n",
       "      <td>www.sport-interfax.ru</td>\n",
       "      <td>Спорт</td>\n",
       "      <td></td>\n",
       "      <td>Претендовавшего на участие в ОИ скейтбордиста ...</td>\n",
       "      <td>Москва. 14 мая. INTERFAX.RU - Российский скейт...</td>\n",
       "      <td>-</td>\n",
       "      <td>-</td>\n",
       "      <td>-</td>\n",
       "      <td>-</td>\n",
       "      <td>-</td>\n",
       "      <td>-</td>\n",
       "      <td>-</td>\n",
       "      <td>-</td>\n",
       "      <td>-</td>\n",
       "      <td>[]</td>\n",
       "    </tr>\n",
       "  </tbody>\n",
       "</table>\n",
       "</div>"
      ],
      "text/plain": [
       "                  date                                   url  ... comm_count NaN\n",
       "0  2019-04-30 13:26:00  https://www.sport-interfax.ru/659837  ...          -  []\n",
       "1  2019-05-07 12:46:00  https://www.sport-interfax.ru/660425  ...          -  []\n",
       "2  2019-05-08 12:57:00  https://www.sport-interfax.ru/660543  ...          -  []\n",
       "3  2019-05-09 00:06:00  https://www.sport-interfax.ru/660618  ...          -  []\n",
       "4  2019-05-14 14:32:00  https://www.sport-interfax.ru/661091  ...          -  []\n",
       "\n",
       "[5 rows x 17 columns]"
      ]
     },
     "execution_count": 16,
     "metadata": {
      "tags": []
     },
     "output_type": "execute_result"
    }
   ],
   "source": [
    "df.head()"
   ]
  },
  {
   "cell_type": "code",
   "execution_count": 0,
   "metadata": {
    "colab": {},
    "colab_type": "code",
    "id": "SHGE4jMkJYQa"
   },
   "outputs": [],
   "source": []
  },
  {
   "cell_type": "code",
   "execution_count": 0,
   "metadata": {
    "colab": {},
    "colab_type": "code",
    "id": "q0CYb-0rJPu0"
   },
   "outputs": [],
   "source": []
  },
  {
   "cell_type": "markdown",
   "metadata": {
    "colab_type": "text",
    "id": "e28l6e198L9u"
   },
   "source": [
    "### Обработка словаря"
   ]
  },
  {
   "cell_type": "code",
   "execution_count": 0,
   "metadata": {
    "colab": {},
    "colab_type": "code",
    "id": "OqjEhgaDvxj7"
   },
   "outputs": [],
   "source": [
    "# Соберем токены\n",
    "tokens = data.gettokens"
   ]
  },
  {
   "cell_type": "code",
   "execution_count": 0,
   "metadata": {
    "colab": {},
    "colab_type": "code",
    "id": "J5l3M6q38Qqr"
   },
   "outputs": [],
   "source": []
  },
  {
   "cell_type": "code",
   "execution_count": 0,
   "metadata": {
    "colab": {},
    "colab_type": "code",
    "id": "EPvhaJLR8Qte"
   },
   "outputs": [],
   "source": [
    "punctuation = list(punctuation)"
   ]
  },
  {
   "cell_type": "code",
   "execution_count": 0,
   "metadata": {
    "colab": {},
    "colab_type": "code",
    "id": "CBlrlrxj8QyH"
   },
   "outputs": [],
   "source": [
    "punctuation += ['«','»','—', 'n','»,','».', '–', '...']"
   ]
  },
  {
   "cell_type": "code",
   "execution_count": 0,
   "metadata": {
    "colab": {},
    "colab_type": "code",
    "id": "y5fevKURI-gg"
   },
   "outputs": [],
   "source": [
    "garbage_words = ['nранее', 'nв', 'nпо', 'nтакже','u','n—', 'nn']"
   ]
  },
  {
   "cell_type": "code",
   "execution_count": 0,
   "metadata": {
    "colab": {},
    "colab_type": "code",
    "id": "DmFxTeif8Q47"
   },
   "outputs": [],
   "source": [
    "tokens = {item:tokens[item] for item in tokens if item not in punctuation}"
   ]
  },
  {
   "cell_type": "code",
   "execution_count": 0,
   "metadata": {
    "colab": {},
    "colab_type": "code",
    "id": "JYh39TiPJTJ1"
   },
   "outputs": [],
   "source": [
    "tokens = {item:tokens[item] for item in tokens if item not in garbage_words}"
   ]
  },
  {
   "cell_type": "code",
   "execution_count": 0,
   "metadata": {
    "colab": {},
    "colab_type": "code",
    "id": "XDWAFsST8Q0f"
   },
   "outputs": [],
   "source": [
    "stopwords_01 = open('/content/gdrive/My Drive/data/another/stopwords.txt', 'r', encoding='UTF-8')\n",
    "stopwords_01 = stopwords_01.read().split('\\n')\n",
    "stopwords_02 = open('/content/gdrive/My Drive/data/another/stopwords_02.txt', 'r', encoding='UTF-8')\n",
    "stopwords_02 = stopwords_02.read().split('\\n')"
   ]
  },
  {
   "cell_type": "code",
   "execution_count": 0,
   "metadata": {
    "colab": {},
    "colab_type": "code",
    "id": "qOGMPuwo8Qw2"
   },
   "outputs": [],
   "source": [
    "stopwords = stopwords_01 + stopwords_02"
   ]
  },
  {
   "cell_type": "code",
   "execution_count": 0,
   "metadata": {
    "colab": {},
    "colab_type": "code",
    "id": "ED9DjQjc9R05"
   },
   "outputs": [],
   "source": [
    "tokens_without_stopwords = {item:tokens[item] for item in tokens if item not in stopwords}"
   ]
  },
  {
   "cell_type": "code",
   "execution_count": 0,
   "metadata": {
    "colab": {},
    "colab_type": "code",
    "id": "6M4gXZsu9R7L"
   },
   "outputs": [],
   "source": []
  },
  {
   "cell_type": "markdown",
   "metadata": {
    "colab_type": "text",
    "id": "ym3H5f0G-NLt"
   },
   "source": [
    "### Аналитика по словам"
   ]
  },
  {
   "cell_type": "markdown",
   "metadata": {
    "colab_type": "text",
    "id": "B3_A4DrY-hQq"
   },
   "source": [
    "#### Топ-20 слов без удаления стоп-слов"
   ]
  },
  {
   "cell_type": "code",
   "execution_count": 26,
   "metadata": {
    "colab": {
     "base_uri": "https://localhost:8080/",
     "height": 357
    },
    "colab_type": "code",
    "executionInfo": {
     "elapsed": 769,
     "status": "ok",
     "timestamp": 1572944645325,
     "user": {
      "displayName": "Egor Silaev",
      "photoUrl": "",
      "userId": "17939097308196895647"
     },
     "user_tz": -180
    },
    "id": "KFqnUUCevxkA",
    "outputId": "dd225801-deb4-412c-b8bd-f8415d7a0c4f"
   },
   "outputs": [
    {
     "data": {
      "text/plain": [
       "[('в', 4934930),\n",
       " ('и', 2101325),\n",
       " ('на', 2019091),\n",
       " ('по', 1241061),\n",
       " ('с', 1062573),\n",
       " ('что', 1061942),\n",
       " ('не', 791637),\n",
       " ('ru', 519044),\n",
       " ('interfax', 497116),\n",
       " ('москва', 460128),\n",
       " ('о', 453542),\n",
       " ('из', 415657),\n",
       " ('к', 412233),\n",
       " ('за', 369973),\n",
       " ('как', 363068),\n",
       " ('он', 358984),\n",
       " ('для', 336425),\n",
       " ('а', 317637),\n",
       " ('года', 312658),\n",
       " ('его', 301170)]"
      ]
     },
     "execution_count": 26,
     "metadata": {
      "tags": []
     },
     "output_type": "execute_result"
    }
   ],
   "source": [
    "Counter(tokens).most_common(20)"
   ]
  },
  {
   "cell_type": "code",
   "execution_count": 27,
   "metadata": {
    "colab": {
     "base_uri": "https://localhost:8080/",
     "height": 404
    },
    "colab_type": "code",
    "executionInfo": {
     "elapsed": 1460,
     "status": "ok",
     "timestamp": 1572944648847,
     "user": {
      "displayName": "Egor Silaev",
      "photoUrl": "",
      "userId": "17939097308196895647"
     },
     "user_tz": -180
    },
    "id": "RrvScy8hvxkE",
    "outputId": "fafa6c2a-b89f-4f1c-9f5c-338a2862f4c8"
   },
   "outputs": [
    {
     "data": {
      "image/png": "[encoded data removed]",
      "text/plain": [
       "<Figure size 864x432 with 1 Axes>"
      ]
     },
     "metadata": {
      "tags": []
     },
     "output_type": "display_data"
    }
   ],
   "source": [
    "x = dict(Counter(tokens).most_common(20)).keys()\n",
    "y = dict(Counter(tokens).most_common(20)).values()\n",
    "\n",
    "fig, ax = plt.subplots()\n",
    "\n",
    "ax.bar(x, y)\n",
    "ax.set_title('TOP-20 слов без удаления стопслов')\n",
    "ax.set_ylabel('Частота')\n",
    "ax.set_xlabel('Слова')\n",
    "\n",
    "ax.set_facecolor('seashell')\n",
    "fig.set_facecolor('floralwhite')\n",
    "fig.set_figwidth(12)    #  ширина Figure\n",
    "fig.set_figheight(6)    #  высота Figure\n",
    "\n",
    "\n",
    "plt.show()"
   ]
  },
  {
   "cell_type": "markdown",
   "metadata": {
    "colab_type": "text",
    "id": "oyibo5Ui-lzi"
   },
   "source": [
    "#### Топ-20 слов после удаления стоп-слов"
   ]
  },
  {
   "cell_type": "code",
   "execution_count": 28,
   "metadata": {
    "colab": {
     "base_uri": "https://localhost:8080/",
     "height": 357
    },
    "colab_type": "code",
    "executionInfo": {
     "elapsed": 715,
     "status": "ok",
     "timestamp": 1572944652078,
     "user": {
      "displayName": "Egor Silaev",
      "photoUrl": "",
      "userId": "17939097308196895647"
     },
     "user_tz": -180
    },
    "id": "dsegoWWy-rod",
    "outputId": "699f4676-6b74-4929-ebb7-4ed26b45ad62"
   },
   "outputs": [
    {
     "data": {
      "text/plain": [
       "[('ru', 519044),\n",
       " ('interfax', 497116),\n",
       " ('рф', 278968),\n",
       " ('россии', 271150),\n",
       " ('сообщил', 178848),\n",
       " ('сша', 163765),\n",
       " ('заявил', 159943),\n",
       " ('интерфаксу', 154161),\n",
       " ('словам', 148919),\n",
       " ('1', 130322),\n",
       " ('рублей', 122959),\n",
       " ('млрд', 118705),\n",
       " ('млн', 116142),\n",
       " ('отметил', 108460),\n",
       " ('данным', 106693),\n",
       " ('тыс', 103982),\n",
       " ('области', 102338),\n",
       " ('сообщает', 99127),\n",
       " ('сообщили', 98773),\n",
       " ('говорится', 97000)]"
      ]
     },
     "execution_count": 28,
     "metadata": {
      "tags": []
     },
     "output_type": "execute_result"
    }
   ],
   "source": [
    "Counter(tokens_without_stopwords).most_common(20)"
   ]
  },
  {
   "cell_type": "code",
   "execution_count": 29,
   "metadata": {
    "colab": {
     "base_uri": "https://localhost:8080/",
     "height": 404
    },
    "colab_type": "code",
    "executionInfo": {
     "elapsed": 1486,
     "status": "ok",
     "timestamp": 1572944655825,
     "user": {
      "displayName": "Egor Silaev",
      "photoUrl": "",
      "userId": "17939097308196895647"
     },
     "user_tz": -180
    },
    "id": "ULvxekUF-r4a",
    "outputId": "37f4dcf1-a97b-49fb-afe4-4762ad907bc9"
   },
   "outputs": [
    {
     "data": {
      "image/png": "[encoded data removed]",
      "text/plain": [
       "<Figure size 1584x432 with 1 Axes>"
      ]
     },
     "metadata": {
      "tags": []
     },
     "output_type": "display_data"
    }
   ],
   "source": [
    "x = dict(Counter(tokens_without_stopwords).most_common(20)).keys()\n",
    "y = dict(Counter(tokens_without_stopwords).most_common(20)).values()\n",
    "\n",
    "fig, ax = plt.subplots()\n",
    "\n",
    "ax.bar(x, y)\n",
    "ax.set_title('TOP-20 слов без удаления стопслов')\n",
    "ax.set_ylabel('Частота')\n",
    "ax.set_xlabel('Слова')\n",
    "\n",
    "ax.set_facecolor('seashell')\n",
    "fig.set_facecolor('floralwhite')\n",
    "fig.set_figwidth(22)    #  ширина Figure\n",
    "fig.set_figheight(6)    #  высота Figure\n",
    "\n",
    "\n",
    "plt.show()"
   ]
  },
  {
   "cell_type": "markdown",
   "metadata": {
    "colab_type": "text",
    "id": "VJ6w-wJ2vxkH"
   },
   "source": [
    "## Рубрики в разрезе новостей"
   ]
  },
  {
   "cell_type": "markdown",
   "metadata": {
    "colab_type": "text",
    "id": "IwvkOJgzvxkH"
   },
   "source": [
    "### Количество рубрик"
   ]
  },
  {
   "cell_type": "code",
   "execution_count": 0,
   "metadata": {
    "colab": {},
    "colab_type": "code",
    "id": "FHEEEtf2vxkI"
   },
   "outputs": [],
   "source": [
    "list_topics = list(data.listcolumns(None, 'interfax', 'topics'))"
   ]
  },
  {
   "cell_type": "code",
   "execution_count": 31,
   "metadata": {
    "colab": {
     "base_uri": "https://localhost:8080/",
     "height": 34
    },
    "colab_type": "code",
    "executionInfo": {
     "elapsed": 557,
     "status": "ok",
     "timestamp": 1572944716984,
     "user": {
      "displayName": "Egor Silaev",
      "photoUrl": "",
      "userId": "17939097308196895647"
     },
     "user_tz": -180
    },
    "id": "Z8BTRTl7vxkK",
    "outputId": "45dbac74-84fb-45a7-dcca-a0dd41f68b24"
   },
   "outputs": [
    {
     "data": {
      "text/plain": [
       "8"
      ]
     },
     "execution_count": 31,
     "metadata": {
      "tags": []
     },
     "output_type": "execute_result"
    }
   ],
   "source": [
    "len(set(list_topics))"
   ]
  },
  {
   "cell_type": "markdown",
   "metadata": {
    "colab_type": "text",
    "id": "597r_Fl3vxkM"
   },
   "source": [
    "### Рубрики в разрезе количества новостей"
   ]
  },
  {
   "cell_type": "code",
   "execution_count": 32,
   "metadata": {
    "colab": {
     "base_uri": "https://localhost:8080/",
     "height": 153
    },
    "colab_type": "code",
    "executionInfo": {
     "elapsed": 710,
     "status": "ok",
     "timestamp": 1572944722001,
     "user": {
      "displayName": "Egor Silaev",
      "photoUrl": "",
      "userId": "17939097308196895647"
     },
     "user_tz": -180
    },
    "id": "ccIvRH-SvxkM",
    "outputId": "d409bdab-6913-4d18-f695-2b9972b72faa"
   },
   "outputs": [
    {
     "data": {
      "text/plain": [
       "[('В России', 286150),\n",
       " ('В мире', 102958),\n",
       " ('Экономика', 80061),\n",
       " ('Спорт', 42994),\n",
       " ('Москва', 18426),\n",
       " ('Культура', 12763),\n",
       " ('Интервью', 583),\n",
       " ('Пресс-центр', 29)]"
      ]
     },
     "execution_count": 32,
     "metadata": {
      "tags": []
     },
     "output_type": "execute_result"
    }
   ],
   "source": [
    "Counter(list_topics).most_common(8)"
   ]
  },
  {
   "cell_type": "markdown",
   "metadata": {
    "colab_type": "text",
    "id": "LzbLPu6G7Xit"
   },
   "source": [
    "## Распределение количества новостей по месяцам"
   ]
  },
  {
   "cell_type": "markdown",
   "metadata": {
    "colab_type": "text",
    "id": "q4iwekIsbT83"
   },
   "source": [
    "### Удаление дубликатов"
   ]
  },
  {
   "cell_type": "code",
   "execution_count": 0,
   "metadata": {
    "colab": {},
    "colab_type": "code",
    "id": "G6jvO-K_awHn"
   },
   "outputs": [],
   "source": [
    "# Новый словарь, ключами которого будут новости, таким образом будет создан\n",
    "# новый словарь, без дубликатов\n",
    "news_by_dict = {i['text']: i for i in list_data}\n",
    "new_items = list(news_by_dict.values())"
   ]
  },
  {
   "cell_type": "code",
   "execution_count": 34,
   "metadata": {
    "colab": {
     "base_uri": "https://localhost:8080/",
     "height": 34
    },
    "colab_type": "code",
    "executionInfo": {
     "elapsed": 518,
     "status": "ok",
     "timestamp": 1572944728201,
     "user": {
      "displayName": "Egor Silaev",
      "photoUrl": "",
      "userId": "17939097308196895647"
     },
     "user_tz": -180
    },
    "id": "EKLaMphKbnHQ",
    "outputId": "b5a795d9-c81e-42c3-f658-d0e76c08e0b6"
   },
   "outputs": [
    {
     "data": {
      "text/plain": [
       "241"
      ]
     },
     "execution_count": 34,
     "metadata": {
      "tags": []
     },
     "output_type": "execute_result"
    }
   ],
   "source": [
    "# Проверь, что количество дубликатов совпало с тем, что были в предварительном анализе\n",
    "# все верно\n",
    "len(list_data) - len(new_items)"
   ]
  },
  {
   "cell_type": "markdown",
   "metadata": {
    "colab_type": "text",
    "id": "PBIMnPKec8bA"
   },
   "source": [
    "### Получение распределения"
   ]
  },
  {
   "cell_type": "code",
   "execution_count": 0,
   "metadata": {
    "colab": {},
    "colab_type": "code",
    "id": "IsfBLATW02PS"
   },
   "outputs": [],
   "source": [
    "def getMonthDate(date):\n",
    "  \"\"\"\n",
    "  Возвращает дату в формате ММ-ГГГГ\n",
    "  \"\"\"\n",
    "  date = datetime.datetime.strptime(date, \"%Y-%m-%d %H:%M:%S\")\n",
    "  return '-'.join(['0' + str(date.month) if date.month<10 else str(date.month), str(date.year)])"
   ]
  },
  {
   "cell_type": "code",
   "execution_count": 0,
   "metadata": {
    "colab": {},
    "colab_type": "code",
    "id": "86cWiHJV1dKu"
   },
   "outputs": [],
   "source": [
    "# Подсчет количества новостей в разрезе месяца и года\n",
    "list_dates = [getMonthDate(x['date']) for x in new_items]"
   ]
  },
  {
   "cell_type": "code",
   "execution_count": 0,
   "metadata": {
    "colab": {},
    "colab_type": "code",
    "id": "EhWOAaaC29e0"
   },
   "outputs": [],
   "source": [
    "month_year = Counter(list_dates)"
   ]
  },
  {
   "cell_type": "code",
   "execution_count": 38,
   "metadata": {
    "colab": {
     "base_uri": "https://localhost:8080/",
     "height": 34
    },
    "colab_type": "code",
    "executionInfo": {
     "elapsed": 568,
     "status": "ok",
     "timestamp": 1572944757587,
     "user": {
      "displayName": "Egor Silaev",
      "photoUrl": "",
      "userId": "17939097308196895647"
     },
     "user_tz": -180
    },
    "id": "9v6Jd6nq6kig",
    "outputId": "88d5dee0-637e-44c5-eedd-170ceda2beb8"
   },
   "outputs": [
    {
     "data": {
      "text/plain": [
       "136"
      ]
     },
     "execution_count": 38,
     "metadata": {
      "tags": []
     },
     "output_type": "execute_result"
    }
   ],
   "source": [
    "len(month_year)"
   ]
  },
  {
   "cell_type": "code",
   "execution_count": 39,
   "metadata": {
    "colab": {
     "base_uri": "https://localhost:8080/",
     "height": 357
    },
    "colab_type": "code",
    "executionInfo": {
     "elapsed": 509,
     "status": "ok",
     "timestamp": 1572944759680,
     "user": {
      "displayName": "Egor Silaev",
      "photoUrl": "",
      "userId": "17939097308196895647"
     },
     "user_tz": -180
    },
    "id": "rKYcNky04hgi",
    "outputId": "97f4eb42-30ed-46ae-ef9a-33bf245f36de"
   },
   "outputs": [
    {
     "data": {
      "text/plain": [
       "[('07-2015', 5484),\n",
       " ('02-2014', 5402),\n",
       " ('03-2014', 5372),\n",
       " ('03-2015', 5307),\n",
       " ('04-2015', 5285),\n",
       " ('09-2015', 5255),\n",
       " ('08-2015', 5221),\n",
       " ('10-2013', 5220),\n",
       " ('10-2008', 5077),\n",
       " ('12-2008', 5011),\n",
       " ('04-2013', 4900),\n",
       " ('06-2015', 4899),\n",
       " ('12-2014', 4896),\n",
       " ('11-2013', 4889),\n",
       " ('04-2016', 4845),\n",
       " ('10-2015', 4808),\n",
       " ('06-2013', 4789),\n",
       " ('06-2016', 4785),\n",
       " ('07-2016', 4750),\n",
       " ('04-2014', 4733)]"
      ]
     },
     "execution_count": 39,
     "metadata": {
      "tags": []
     },
     "output_type": "execute_result"
    }
   ],
   "source": [
    "month_year.most_common(20)"
   ]
  },
  {
   "cell_type": "code",
   "execution_count": 40,
   "metadata": {
    "colab": {
     "base_uri": "https://localhost:8080/",
     "height": 653
    },
    "colab_type": "code",
    "executionInfo": {
     "elapsed": 2375,
     "status": "ok",
     "timestamp": 1572944764826,
     "user": {
      "displayName": "Egor Silaev",
      "photoUrl": "",
      "userId": "17939097308196895647"
     },
     "user_tz": -180
    },
    "id": "g97uKlaT5UXh",
    "outputId": "9f37254d-6a97-4d17-f1b8-267e6ed37f76"
   },
   "outputs": [
    {
     "data": {
      "image/png": "[encoded data removed]",
      "text/plain": [
       "<Figure size 1440x720 with 1 Axes>"
      ]
     },
     "metadata": {
      "tags": []
     },
     "output_type": "display_data"
    }
   ],
   "source": [
    "fig, ax = plt.subplots(figsize=(20, 10))\n",
    "plt.bar(x = month_year.keys(),\n",
    "        height = month_year.values())\n",
    "plt.xticks(rotation='vertical')\n",
    "ax.set_facecolor('seashell')\n",
    "fig.set_facecolor('floralwhite')\n",
    "\n",
    "ax.set_title('Количество новостей по месяцам')\n",
    "ax.set_ylabel('Количество')\n",
    "ax.set_xlabel('Дата')\n",
    "plt.show()"
   ]
  },
  {
   "cell_type": "code",
   "execution_count": 0,
   "metadata": {
    "colab": {},
    "colab_type": "code",
    "id": "YiN8O2xYvxlV"
   },
   "outputs": [],
   "source": []
  },
  {
   "cell_type": "code",
   "execution_count": 0,
   "metadata": {
    "colab": {},
    "colab_type": "code",
    "id": "CYN55mRavxlX"
   },
   "outputs": [],
   "source": []
  }
 ],
 "metadata": {
  "accelerator": "TPU",
  "colab": {
   "collapsed_sections": [],
   "name": "interfax-05-11-2019.ipynb",
   "provenance": [
    {
     "file_id": "1i8ydddApq2I_WbrnJ0kyuXq6IzxXK4r1",
     "timestamp": 1572942569424
    },
    {
     "file_id": "1VHuGP11gOWttztejKCDNjHAuAWBD_Owm",
     "timestamp": 1572938845043
    }
   ],
   "toc_visible": true
  },
  "kernelspec": {
   "display_name": "Python 3",
   "language": "python",
   "name": "python3"
  },
  "language_info": {
   "codemirror_mode": {
    "name": "ipython",
    "version": 3
   },
   "file_extension": ".py",
   "mimetype": "text/x-python",
   "name": "python",
   "nbconvert_exporter": "python",
   "pygments_lexer": "ipython3",
   "version": "3.7.4"
  }
 },
 "nbformat": 4,
 "nbformat_minor": 1
}
