{
 "cells": [
  {
   "cell_type": "markdown",
   "metadata": {
    "colab_type": "text",
    "id": "Y9ddZBr2vxjW"
   },
   "source": [
    "# tass"
   ]
  },
  {
   "cell_type": "code",
   "execution_count": 0,
   "metadata": {
    "colab": {},
    "colab_type": "code",
    "id": "Caslc8Q9iHPH"
   },
   "outputs": [],
   "source": [
    "\n"
   ]
  },
  {
   "cell_type": "code",
   "execution_count": 0,
   "metadata": {
    "colab": {
     "base_uri": "https://localhost:8080/",
     "height": 122
    },
    "colab_type": "code",
    "executionInfo": {
     "elapsed": 15241,
     "status": "ok",
     "timestamp": 1572953152970,
     "user": {
      "displayName": "Egor Silaev",
      "photoUrl": "",
      "userId": "17939097308196895647"
     },
     "user_tz": -180
    },
    "id": "n60HNchhv48O",
    "outputId": "b0cc8cd4-74e8-4071-d688-fc6582849e67"
   },
   "outputs": [
    {
     "name": "stdout",
     "output_type": "stream",
     "text": [
      "Go to this URL in a browser: https://accounts.google.com/o/oauth2/auth?client_id=947318989803-6bn6qk8qdgf4n4g3pfee6491hc0brc4i.apps.googleusercontent.com&redirect_uri=urn%3Aietf%3Awg%3Aoauth%3A2.0%3Aoob&scope=email%20https%3A%2F%2Fwww.googleapis.com%2Fauth%2Fdocs.test%20https%3A%2F%2Fwww.googleapis.com%2Fauth%2Fdrive%20https%3A%2F%2Fwww.googleapis.com%2Fauth%2Fdrive.photos.readonly%20https%3A%2F%2Fwww.googleapis.com%2Fauth%2Fpeopleapi.readonly&response_type=code\n",
      "\n",
      "Enter your authorization code:\n",
      "··········\n",
      "Mounted at /content/gdrive\n"
     ]
    }
   ],
   "source": [
    "from google.colab import drive\n",
    "drive.mount('/content/gdrive')"
   ]
  },
  {
   "cell_type": "code",
   "execution_count": 0,
   "metadata": {
    "colab": {
     "base_uri": "https://localhost:8080/",
     "height": 1000
    },
    "colab_type": "code",
    "executionInfo": {
     "elapsed": 2223,
     "status": "ok",
     "timestamp": 1572953158758,
     "user": {
      "displayName": "Egor Silaev",
      "photoUrl": "",
      "userId": "17939097308196895647"
     },
     "user_tz": -180
    },
    "id": "jV5jr0hov_zN",
    "outputId": "86dd1a7d-f242-43ac-8370-f791b3175023"
   },
   "outputs": [
    {
     "name": "stdout",
     "output_type": "stream",
     "text": [
      "import codecs\n",
      "import os\n",
      "import time\n",
      "import csv\n",
      "import sys\n",
      "\n",
      "from enum import Enum\n",
      "from collections import Counter\n",
      "from razdel import tokenize\n",
      "from razdel import sentenize\n",
      "\n",
      "from nltk.corpus.reader.api import CorpusReader\n",
      "from nltk.corpus.reader.api import CategorizedCorpusReader\n",
      "\n",
      "\n",
      "class PathPattern(Enum):\n",
      "\n",
      "    doc_pattern = r\".*\\.csv\"\n",
      "    cat_pattern = r\"(\\w+)/*\"\n",
      "\n",
      "\n",
      "class CSVCorpusReader(CategorizedCorpusReader, CorpusReader):\n",
      "    \"\"\"\n",
      "    Объект чтения csv файлов для получения возможности\n",
      "    дополнительной предварительной обработки.\n",
      "    \"\"\"\n",
      "\n",
      "    def __init__(self, root, fileids=PathPattern.doc_pattern.value, encoding='utf8', **kwargs):\n",
      "        \"\"\"\n",
      "        Инициализирует объект чтения промежуточного обработанных файлов\n",
      "        корпуса.\n",
      "        \"\"\"\n",
      "\n",
      "        # Добавить шаблон категорий, если он не был передан в класс явно\n",
      "        if not any(key.startswitch('cat_') for key in kwargs.keys()):\n",
      "            kwargs['cat_pattern'] = PathPattern.cat_pattern.value\n",
      "\n",
      "        # Инициализировать объекты чтения корпуса из NLTK\n",
      "        CategorizedCorpusReader.__init__(self, kwargs)\n",
      "        CorpusReader.__init__(self, root, fileids, encoding)\n",
      "\n",
      "        # Инициировать список для сбора токенов\n",
      "        self.__tokens = Counter()\n",
      "\n",
      "    @property\n",
      "    def gettokens(self):\n",
      "        \"\"\"\n",
      "        Возвращает список токенов, полученных в ходе метода describe\n",
      "        \"\"\"\n",
      "        return self.__tokens\n",
      "\n",
      "    def resolve(self, fileids, categories):\n",
      "        \"\"\"\n",
      "        Возвращает список идентификаторов файлов или названий директорий,\n",
      "        которые передаются каждой внутренний функции объекта чтения корпуса.\n",
      "        \"\"\"\n",
      "        if fileids is not None and categories is not None:\n",
      "            raise ValueError(\"Укажите либо файлы, либо категории, а не оба параметра\")\n",
      "\n",
      "        if categories is not None:\n",
      "            return self.fileids(categories)\n",
      "        return fileids\n",
      "\n",
      "    def docs(self, fileids=None, categories=None):\n",
      "        \"\"\"\n",
      "        Возвращает содержимое документа csv, закрывая его\n",
      "        по завершении чтения.\n",
      "        \"\"\"\n",
      "        # Получить список файлов для чтения\n",
      "        fileids = self.resolve(fileids, categories)\n",
      "\n",
      "        # Создать генератор загружающий документы в память\n",
      "        # по одному. Следующий блок увеличивает размер ячейки\n",
      "        # чтения csv файла\n",
      "        maxInt = sys.maxsize\n",
      "        decrement = True\n",
      "\n",
      "        while decrement:\n",
      "            # decrease the maxInt value by factor 10\n",
      "            # as long as the OverflowError occurs.\n",
      "\n",
      "            decrement = False\n",
      "            try:\n",
      "                csv.field_size_limit(maxInt)\n",
      "            except OverflowError:\n",
      "                maxInt = int(maxInt/10)\n",
      "                decrement = True\n",
      "\n",
      "        for path, encoding in self.abspaths(fileids, include_encoding=True):\n",
      "            with codecs.open(path, 'r', encoding=encoding) as f:\n",
      "                reader = list(csv.DictReader(f, delimiter=',', quotechar='\"', escapechar='\\\\'))\n",
      "                for row in reader:\n",
      "                    yield(row)\n",
      "\n",
      "    def sizes(self, fileids=None, categories=None):\n",
      "        \"\"\"\n",
      "        Возвращает список из идентификатора файла и его размера.\n",
      "        Эта функция используется для выявления необычно больших файлов.\n",
      "        \"\"\"\n",
      "        # Получить список файлов\n",
      "        fileids = self.resolve(fileids, categories)\n",
      "\n",
      "        # Создать генератор, возвращающий имена и размеры файла\n",
      "        for path in self.abspaths(fileids):\n",
      "            yield path, os.path.getsize(path)\n",
      "\n",
      "    def listcolumns(self, fileids=None, categories=None, key='text'):\n",
      "        \"\"\"\n",
      "        Возвращает содержимое по указанному имени столбца из файла csv, в виде списка\n",
      "        \"\"\"\n",
      "        for doc in self.docs(fileids, categories):\n",
      "            yield(doc[key])\n",
      "\n",
      "    def sents(self, fileids=None, categories=None):\n",
      "        \"\"\"\n",
      "        Функция возвращает каждую новость в виде отдельных предложений,\n",
      "        для всех новостей из обрабатываемых файлов\n",
      "        \"\"\"\n",
      "        for sentence in self.listcolumns(fileids, categories):\n",
      "            sents = list(sentenize(sentence))\n",
      "            yield([_.text for _ in sents])\n",
      "\n",
      "    def words(self, fileids=None, categories=None):\n",
      "        \"\"\"\n",
      "        Функция проводит токенизацию всех предложений по каждой новости,\n",
      "        возвращает список токенизированных предложений по всем новостям\n",
      "        \"\"\"\n",
      "        for sentence in self.sents(fileids, categories):\n",
      "            for word in sentence:\n",
      "                if len(word) == 0:\n",
      "                    continue\n",
      "                tokens = list(tokenize(word))\n",
      "                yield([_.text for _ in tokens])\n",
      "\n",
      "    def describe(self, fileids=None, categories=None):\n",
      "        \"\"\"\n",
      "        Обходит все документы и возвращает словарь с разнообразными\n",
      "        оценками, описывающими состояние корпуса\n",
      "        \"\"\"\n",
      "        started = time.time()\n",
      "\n",
      "        # Структура для подсчета\n",
      "        counts = Counter()\n",
      "\n",
      "        # Выполнить обход всех новостей из csv, выделить предложения и слова,\n",
      "        # подсчитать их\n",
      "        for i in self.docs(fileids, categories):\n",
      "            counts['rows'] += 1\n",
      "            sents = list(sentenize(i['text']))\n",
      "            sentence = [_.text for _ in sents]\n",
      "\n",
      "            for sent in sentence:\n",
      "                counts['sents'] += 1\n",
      "                if len(sent) == 0:\n",
      "                    continue\n",
      "                for word in [_.text for _ in list(tokenize(sent))]:\n",
      "                    counts['words'] += 1\n",
      "                    self.__tokens[word.lower()] += 1\n",
      "\n",
      "        # Определить число файлов и категорий в корпусе\n",
      "        n_fileids = len(self.resolve(fileids, categories) or self.fileids())\n",
      "        n_topics = len(self.categories(self.resolve(fileids, categories)))\n",
      "\n",
      "        # Составить список новостей\n",
      "        list_news = list(self.listcolumns(fileids, categories))\n",
      "        # Вернуть структуру с информацией\n",
      "        return {\n",
      "          'Количество файлов': n_fileids,\n",
      "          'Количество источников новостей': n_topics,\n",
      "          'Количество обработанных новостей': counts['rows'],\n",
      "          'Количество предложений': counts['sents'],\n",
      "          'Количество слов': counts['words'],\n",
      "          'Количество токенов (словарь)': len(self.gettokens),\n",
      "          'Коэффициент лексического разнообразия (lexical diversity)': float(counts['words']) / float(len(self.gettokens)),\n",
      "          'Среднее количество новостей по отношению к файлам': float(counts['rows']) / float(n_fileids),\n",
      "          'Среднее количество предложений в новостях': float(counts['sents']) / float(counts['rows']),\n",
      "          'Начальная дата в обработке': min(self.listcolumns(fileids, categories, 'date')),\n",
      "          'Конечная дата в обработке': max(self.listcolumns(fileids, categories, 'date')),\n",
      "          'Количество повторяющихся новостей': len(list_news) - len(set(list_news)),\n",
      "          'Количество пустных новостных элементов': len([item for item in list_news if len(item) == 0]),\n",
      "          'Время обработки в секундах': time.time() - started,\n",
      "        }\n"
     ]
    }
   ],
   "source": [
    "!cat '/content/gdrive/My Drive/experiments/001-exp/scripts/reader.py'"
   ]
  },
  {
   "cell_type": "code",
   "execution_count": 0,
   "metadata": {
    "colab": {
     "base_uri": "https://localhost:8080/",
     "height": 34
    },
    "colab_type": "code",
    "executionInfo": {
     "elapsed": 1482,
     "status": "ok",
     "timestamp": 1572953163155,
     "user": {
      "displayName": "Egor Silaev",
      "photoUrl": "",
      "userId": "17939097308196895647"
     },
     "user_tz": -180
    },
    "id": "H19kw_ktv_1X",
    "outputId": "991ee767-4e11-4baa-9796-9514d3924164"
   },
   "outputs": [
    {
     "name": "stdout",
     "output_type": "stream",
     "text": [
      "'/content/gdrive/My Drive/experiments/001-exp/scripts/reader.py'\n"
     ]
    }
   ],
   "source": [
    "!ls /content/gdrive/My\\ Drive/experiments/001-exp/scripts/*.py"
   ]
  },
  {
   "cell_type": "code",
   "execution_count": 0,
   "metadata": {
    "colab": {},
    "colab_type": "code",
    "id": "ho_6nePUv_3z"
   },
   "outputs": [],
   "source": [
    "import sys\n",
    "sys.path.append('/content/gdrive/My Drive/experiments/001-exp/scripts/')"
   ]
  },
  {
   "cell_type": "code",
   "execution_count": 0,
   "metadata": {
    "colab": {
     "base_uri": "https://localhost:8080/",
     "height": 85
    },
    "colab_type": "code",
    "executionInfo": {
     "elapsed": 4238,
     "status": "ok",
     "timestamp": 1572953169625,
     "user": {
      "displayName": "Egor Silaev",
      "photoUrl": "",
      "userId": "17939097308196895647"
     },
     "user_tz": -180
    },
    "id": "NkNLYRZBv_6B",
    "outputId": "a4f9aa75-bd92-4e1e-d620-c55ebf47d149"
   },
   "outputs": [
    {
     "name": "stdout",
     "output_type": "stream",
     "text": [
      "Collecting razdel\n",
      "  Downloading https://files.pythonhosted.org/packages/cf/f0/664eb27854d7de7c3605b5cd2a155cf069143fb00902ac479325bf1a98b7/razdel-0.4.0-py2.py3-none-any.whl\n",
      "Installing collected packages: razdel\n",
      "Successfully installed razdel-0.4.0\n"
     ]
    }
   ],
   "source": [
    "!pip install razdel"
   ]
  },
  {
   "cell_type": "code",
   "execution_count": 0,
   "metadata": {
    "colab": {},
    "colab_type": "code",
    "id": "T79SAlG8v_75"
   },
   "outputs": [],
   "source": []
  },
  {
   "cell_type": "code",
   "execution_count": 0,
   "metadata": {
    "colab": {},
    "colab_type": "code",
    "id": "SC-wpuUNvxjb"
   },
   "outputs": [],
   "source": [
    "from string import punctuation\n",
    "from collections import Counter\n",
    "import datetime\n",
    "import matplotlib.pyplot as plt"
   ]
  },
  {
   "cell_type": "code",
   "execution_count": 0,
   "metadata": {
    "colab": {},
    "colab_type": "code",
    "id": "cSFwYEPTvxjh"
   },
   "outputs": [],
   "source": [
    "import sys"
   ]
  },
  {
   "cell_type": "code",
   "execution_count": 0,
   "metadata": {
    "colab": {},
    "colab_type": "code",
    "id": "tRure0Wevxjl"
   },
   "outputs": [],
   "source": [
    "sys.path.append('C:\\\\projects\\\\datascience\\\\proj_news_viz\\\\nlp\\\\experiments\\\\exp-001_Prepare_csv_for_EDA\\\\scripts')"
   ]
  },
  {
   "cell_type": "code",
   "execution_count": 0,
   "metadata": {
    "colab": {},
    "colab_type": "code",
    "id": "a0bKN2JLvxjo"
   },
   "outputs": [],
   "source": [
    "from reader import CSVCorpusReader"
   ]
  },
  {
   "cell_type": "code",
   "execution_count": 0,
   "metadata": {
    "colab": {},
    "colab_type": "code",
    "id": "jY2am0Wvvxjq"
   },
   "outputs": [],
   "source": [
    "# Создадим объект чтения корпуса\n",
    "# data = CSVCorpusReader('../../../data/interim')\n",
    "data = CSVCorpusReader('/content/gdrive/My Drive/data/interim/')"
   ]
  },
  {
   "cell_type": "code",
   "execution_count": 0,
   "metadata": {
    "colab": {
     "base_uri": "https://localhost:8080/",
     "height": 34
    },
    "colab_type": "code",
    "executionInfo": {
     "elapsed": 520,
     "status": "ok",
     "timestamp": 1572953180281,
     "user": {
      "displayName": "Egor Silaev",
      "photoUrl": "",
      "userId": "17939097308196895647"
     },
     "user_tz": -180
    },
    "id": "CO3bVW6Pvxjt",
    "outputId": "01e007ec-490c-4a55-efa5-076a2e86c4c8"
   },
   "outputs": [
    {
     "data": {
      "text/plain": [
       "['gazeta', 'interfax', 'rt', 'tass']"
      ]
     },
     "execution_count": 9,
     "metadata": {
      "tags": []
     },
     "output_type": "execute_result"
    }
   ],
   "source": [
    "# Новостные источники\n",
    "data.categories()"
   ]
  },
  {
   "cell_type": "code",
   "execution_count": 0,
   "metadata": {
    "colab": {
     "base_uri": "https://localhost:8080/",
     "height": 34
    },
    "colab_type": "code",
    "executionInfo": {
     "elapsed": 510,
     "status": "ok",
     "timestamp": 1572953181760,
     "user": {
      "displayName": "Egor Silaev",
      "photoUrl": "",
      "userId": "17939097308196895647"
     },
     "user_tz": -180
    },
    "id": "PKwf-W_dvxjx",
    "outputId": "0cea8edf-1b71-40b1-d4b7-d43da98b146d"
   },
   "outputs": [
    {
     "data": {
      "text/plain": [
       "['gazeta/gazeta.csv', 'interfax/interfax.csv', 'rt/rt.csv', 'tass/tass.csv']"
      ]
     },
     "execution_count": 10,
     "metadata": {
      "tags": []
     },
     "output_type": "execute_result"
    }
   ],
   "source": [
    "# Имеющиеся файлы в корпусе\n",
    "data.fileids()"
   ]
  },
  {
   "cell_type": "markdown",
   "metadata": {
    "colab_type": "text",
    "id": "b-sExa2Jvxj1"
   },
   "source": [
    "## Общий предварительный анализ"
   ]
  },
  {
   "cell_type": "code",
   "execution_count": 0,
   "metadata": {
    "colab": {
     "base_uri": "https://localhost:8080/",
     "height": 255
    },
    "colab_type": "code",
    "executionInfo": {
     "elapsed": 3590295,
     "status": "ok",
     "timestamp": 1572529512132,
     "user": {
      "displayName": "Egor Silaev",
      "photoUrl": "",
      "userId": "17939097308196895647"
     },
     "user_tz": -180
    },
    "id": "ksweq0WAvxj2",
    "outputId": "ee3c92a4-0bed-4402-b6ca-f6e052483bc1"
   },
   "outputs": [
    {
     "data": {
      "text/plain": [
       "{'Время обработки в секундах': 3588.014945268631,\n",
       " 'Количество источников новостей': 1,\n",
       " 'Количество обработанных новостей': 1135646,\n",
       " 'Количество повторяющихся новостей': 195,\n",
       " 'Количество предложений': 11271587,\n",
       " 'Количество пустных новостных элементов': 19,\n",
       " 'Количество слов': 326172124,\n",
       " 'Количество токенов (словарь)': 1354311,\n",
       " 'Количество файлов': 1,\n",
       " 'Конечная дата в обработке': '2019-08-13 09:00:58',\n",
       " 'Коэффициент лексического разнообразия (lexical diversity)': 240.83989866433927,\n",
       " 'Начальная дата в обработке': '2011-02-25 08:50:00',\n",
       " 'Среднее количество новостей по отношению к файлам': 1135646.0,\n",
       " 'Среднее количество предложений в новостях': 9.925264563076874}"
      ]
     },
     "execution_count": 11,
     "metadata": {
      "tags": []
     },
     "output_type": "execute_result"
    }
   ],
   "source": [
    "# Предварительный анализ всех файлов из каталога новостного источника\n",
    "data.describe(None, 'tass')"
   ]
  },
  {
   "cell_type": "markdown",
   "metadata": {
    "colab_type": "text",
    "id": "TSZBXiIq7778"
   },
   "source": [
    "## EDA"
   ]
  },
  {
   "cell_type": "markdown",
   "metadata": {
    "colab_type": "text",
    "id": "e28l6e198L9u"
   },
   "source": []
  },
  {
   "cell_type": "code",
   "execution_count": 0,
   "metadata": {
    "colab": {},
    "colab_type": "code",
    "id": "qL8XJxKnUw4z"
   },
   "outputs": [],
   "source": [
    "list_data = list(data.docs(None, 'tass'))"
   ]
  },
  {
   "cell_type": "code",
   "execution_count": 0,
   "metadata": {
    "colab": {
     "base_uri": "https://localhost:8080/",
     "height": 1000
    },
    "colab_type": "code",
    "executionInfo": {
     "elapsed": 563,
     "status": "ok",
     "timestamp": 1572953587732,
     "user": {
      "displayName": "Egor Silaev",
      "photoUrl": "",
      "userId": "17939097308196895647"
     },
     "user_tz": -180
    },
    "id": "AaBImI7pU88T",
    "outputId": "642aed4c-389b-4db3-e70a-73c8315033b7"
   },
   "outputs": [
    {
     "data": {
      "text/plain": [
       "[OrderedDict([('date', '2019-08-10 17:12:51'),\n",
       "              ('url', 'https://tass.ru/proisshestviya/6751577'),\n",
       "              ('edition', '-'),\n",
       "              ('topics', 'proisshestviya'),\n",
       "              ('authors', ''),\n",
       "              ('title',\n",
       "               'Военные завершили работы по борьбе с паводками в Тулунском районе Иркутской области'),\n",
       "              ('text',\n",
       "               'ТАСС, 10 августа. Военнослужащие группировки Минобороны России по ликвидации последствий паводков завершили выполнение задач в Тулунском районе Иркутской области, сообщили\\xa0журналистам в военном ведомстве.n\"В городе Тулун состоялась торжественная церемония награждения военнослужащих группировки Минобороны России, принимавших участие в ликвидации последствий паводка в Тулунском районе Иркутской области\", - сообщили в Минобороны.nКак сообщили в Минобороны, военные железнодорожники механизированного батальона железнодорожного соединения Центрального военного округа (ЦВО) восстановили участки береговой защитной дамбы на реке Ия города Тулуна. \"Для восстановления около трех километров береговой защитной дамбы в районе моста федеральной трассы Р-255 военные специалисты отсыпали около 25 тыс. кубических метров скального грунта, ширина защитного вала увеличена до 5 метров, высота до 4 метров\", - сообщили в военном ведомстве.nВсего за время работы группировка Минобороны очистила от завалов 100 га территории в Тулуне, разобрала более 70 разрушенных паводком домов.nПо информации военного ведомства, губернатор Иркутской области Сергей Левченко и мэр города Тулуна Юрий Карих поблагодарили военнослужащих за оказание помощи местному населению, наиболее отличившимся из них были вручены почетные грамоты и ценные подарки.nО группировке МинобороныnПервые отряды военнослужащих ЦВО прибыли для ликвидации последствий паводка в Иркутскую область в начале июля. Военные медики проводили вакцинацию, а также оказывали первую помощь населению, пекари готовили хлеб, раздавали питьевую воду местным жителям, авиация доставляла гуманитарную помощь в отрезанные водой поселки. Одновременно военные химики проводили дезинфекцию социальных объектов, а железнодорожники восстанавливали дамбу и разбирали завалы.n\"12 врачебно-сестринских бригад провели вакцинацию от вирусного гепатита \"А\" около 4 тыс. жителей города, в том числе 580 детей\", - проинформировали в Минобороны.nГруппировка военнослужащих Минобороны России по оказанию помощи в ликвидации последствий паводка в Тулунском районе Иркутской области насчитывала около 1 тыс. человек, порядка 120 единиц военной и специальной техники.'),\n",
       "              ('reposts_fb', '-'),\n",
       "              ('reposts_vk', '-'),\n",
       "              ('reposts_ok', '-'),\n",
       "              ('reposts_twi', '-'),\n",
       "              ('reposts_lj', '-'),\n",
       "              ('reposts_tg', '-'),\n",
       "              ('likes', '-'),\n",
       "              ('views', '-'),\n",
       "              ('comm_count', '-'),\n",
       "              (None, [''])]),\n",
       " OrderedDict([('date', '2019-08-10 18:48:42'),\n",
       "              ('url', 'https://tass.ru/proisshestviya/6751784'),\n",
       "              ('edition', '-'),\n",
       "              ('topics', 'proisshestviya'),\n",
       "              ('authors', ''),\n",
       "              ('title',\n",
       "               'Две ЛЭП повреждены в Ачинске после взрывов на складе'),\n",
       "              ('text',\n",
       "               'КРАСНОЯРСК, 10 августа. /ТАСС/. Взрывы на военном складе под Ачинском Красноярского края стали причиной повреждений двух линий электропередачи (ЛЭП). Как сообщается наnсайтеnгородской администрации, аварийные бригады пока не могут приступить к восстановительным работам, в случае ухудшения погодных условий город может остаться без электроэнергии.n\"В результате ЧС на складе хранения артиллерийских боеприпасов войсковой части 58661-49 на двух ЛЭП образовались многократные повреждения электропроводов. Приступить к аварийно-восстановительным работам представители АО \"КрасЭКО\", ОАО \"МРСК Сибири\" \"Красноярскэнерго\" не могут, так как данный участок пока еще не разминирован. При ухудшении погодных условий существуют риски того, что город может быть обесточен\", - говорится в сообщении.nВ пресс-службе компании \"Россети Сибирь\" ТАСС сообщили, что взрывами были серьезно повреждены две основные линии выдачи мощности с ТЭЦ Ачинского глиноземного комбината \"Русала\", которые также являются резервными линиями для подачи электроэнергии в Ачинск. \"На текущий момент все потребители запитаны, отключений не произошло, но восстановлению подлежит более 4 км ЛЭП\", - сказал собеседник агентства.nНа экстренном заседании оперативного штаба власти муниципалитета и энергетики проработали варианты резервного электроснабжения объектов жизнеобеспечения Ачинска, в том числе с использованием мобильных дизель-генераторов. Как сообщила мэрия, ситуация находится под контролем.'),\n",
       "              ('reposts_fb', '-'),\n",
       "              ('reposts_vk', '-'),\n",
       "              ('reposts_ok', '-'),\n",
       "              ('reposts_twi', '-'),\n",
       "              ('reposts_lj', '-'),\n",
       "              ('reposts_tg', '-'),\n",
       "              ('likes', '-'),\n",
       "              ('views', '-'),\n",
       "              ('comm_count', '-'),\n",
       "              (None, [''])]),\n",
       " OrderedDict([('date', '2019-08-10 18:04:35'),\n",
       "              ('url', 'https://tass.ru/sibir-news/6751662'),\n",
       "              ('edition', '-'),\n",
       "              ('topics', 'sibir-news'),\n",
       "              ('authors', ''),\n",
       "              ('title',\n",
       "               'В двух городах Иркутской области зафиксировано превышение ПДК вредных веществ'),\n",
       "              ('text',\n",
       "               'ИРКУТСК, 10 августа. /ТАСС/. Превышение предельно допустимых концентраций (ПДК) вредных веществ в воздухе зафиксировано из-за лесных пожаров в городах Киренск и Усть-Кут Иркутской области. Об этом сообщается наnсайтеnрегионального управления Роспотребнадзора.n\"По состоянию на 10.08.2019 года: город Киренск <…> - превышение ПДК отмечается в шести пробах (по трем веществам - прим. ТАСС): диоксид серы в 1,04 раза, оксид углерода в 1,2 раза, диоксид азота в 1,1 раза. <…> Город Усть-Кут <…> - превышение ПДК отмечается в одной пробе - оксид углерода в 1,2 раза\", - говорится в сообщении.nВ Роспотребнадзоре уточнили, что мониторинг качества воздуха из-за задымления от лесных пожаров проводится в городах Усть-Кут, Киренск, Братск, Бодайбо, Усть-Илимск, а также в Усть-Илимском, Усть-Кутском, Казачинско-Ленском, Киренском, Братском районах.'),\n",
       "              ('reposts_fb', '-'),\n",
       "              ('reposts_vk', '-'),\n",
       "              ('reposts_ok', '-'),\n",
       "              ('reposts_twi', '-'),\n",
       "              ('reposts_lj', '-'),\n",
       "              ('reposts_tg', '-'),\n",
       "              ('likes', '-'),\n",
       "              ('views', '-'),\n",
       "              ('comm_count', '-'),\n",
       "              (None, [''])]),\n",
       " OrderedDict([('date', '2019-08-08 19:22:59'),\n",
       "              ('url', 'https://tass.ru/moskovskaya-oblast/6745682'),\n",
       "              ('edition', '-'),\n",
       "              ('topics', 'moskovskaya-oblast'),\n",
       "              ('authors', ''),\n",
       "              ('title',\n",
       "               'Расчистку участка реки Куновки в Талдомском округе Подмосковья завершат в 2020 году'),\n",
       "              ('text',\n",
       "               'МОСКВА, 8 августа. /ТАСС/. Министерство экологии и природопользования Подмосковья объявило конкурс по расчистке участка реки Куновки и руслового пруда в Талдоме, работы планируется завершить в 2020 году. Об этом в четверг сообщает пресс-служба ведомства.n\"Минэкологии объявило конкурс по расчистке участка реки Куновки и руслового пруда в Талдомском городском округе. Планируется расчистить отрезок длиной 1,6 км в черте поселка городского типа Запрудня, на участке, который начинается от пересечения реки с автомобильной дорогой\\xa0<...> Согласно расчетам, в ходе работ предстоит удалить почти 100 тыс. куб. м\\xa0иловых отложений. Работы завершатся в 2020 году\", - говорится в сообщении.nКак отмечают в пресс-службе, необходимость расчистки вызвана тем, что водоток в русле Куновки затруднен, само русло и пруд зарастают, а на дне образовалась мощная масса иловых отложений. Расчистка позволит восстановить водоток, предотвратить зарастание реки, оздоровить прибрежную зону и повысить качество воды.nТакже в ведомстве отметили, что с 2010 года в регионе расчистили восемь\\xa0рек. В текущем году также планируется провести работы по расчистке участка реки Лоши в Наро-Фоминске.'),\n",
       "              ('reposts_fb', '-'),\n",
       "              ('reposts_vk', '-'),\n",
       "              ('reposts_ok', '-'),\n",
       "              ('reposts_twi', '-'),\n",
       "              ('reposts_lj', '-'),\n",
       "              ('reposts_tg', '-'),\n",
       "              ('likes', '-'),\n",
       "              ('views', '-'),\n",
       "              ('comm_count', '-'),\n",
       "              (None, [''])]),\n",
       " OrderedDict([('date', '2019-08-09 13:30:18'),\n",
       "              ('url', 'https://tass.ru/nauka/6747980'),\n",
       "              ('edition', '-'),\n",
       "              ('topics', 'nauka'),\n",
       "              ('authors', ''),\n",
       "              ('title',\n",
       "               'Ученые смогли определить историю активности звезды по параметрам близкоорбитальных планет'),\n",
       "              ('text',\n",
       "               'МОСКВА, 9 августа. /ТАСС/. Международная группа ученых, в которую вошел профессор кафедры прикладной математики Политехнического института Сибирского федерального университета (СФУ) Николай Еркаев, научились определять историю эволюции звезды по массе и радиусу планет, формирующихся под ее влиянием. Об этом в пятницу ТАСС сообщила пресс-служба СФУ.nСпециалисты из Австрии и России разработали математический метод анализа эволюции основных звезд мультипланетных систем, используя известные данные о массе одной или нескольких близкоорбитальных планет (мини-Нептунов - планет с промежуточным статусом между газовым Нептуном и \"землеподобной\" экзопланетой, которые формируются под влиянием \"материнской\" звезды). Подход позволяет определять историю скорости вращения звезды, от которой зависит ее активность. Зная эволюцию звездной активности и в том числе - ультрафиолетового (или рентгеновского) излучения, ученые также могут определять массу отдельных близкоорбитальных планет, входящих в мультипланетную систему. Разработанный метод позволяет астрофизикам сравнивать развитие планетарных систем с математическими прогнозами и отмечать отклонения в их эволюции.n\"Результаты работы показывают, что моделирование атмосферной эволюции близкоорбитальных планет дает возможность прояснить историю вращения звезд, удерживающих эти планеты. Данный подход позволяет также уточнять плохо известные параметры некоторых планет системы (например, массу и радиус планеты). Полученные результаты могут быть распространены на другие планетарные системы при условии, что близкоорбитальные планеты по массе близки или меньше Нептуна и при этом имеют атмосферу с преобладанием водорода\", - цитирует пресс-служба СФУ Еркаева.nВ качестве примера ученые рассмотрели планетарные системы звезд HD 3167 и K2-32. Выяснилось, что, несмотря на близкие значения массы, у этих звезд разные судьбы: первая в своем развитии повторила путь, характерный для среднего или быстрого ротатора, а вторая продемонстрировала поведение медленного ротатора.nАвторы исследования полагают, что разработанный метод может быть использован в рамках готовящейся миссии PLATO (Planetary Transits and Oscillations of Stars) Европейского космического агентства. В ходе ее реализации ученые смогут вести наблюдения за планетарными системами с помощью планируемого к запуску в 2026 году телескопа высокого разрешения, данные которого позволят определять параметры мультипланетных систем с необходимой точностью.nРезультаты исследования опубликованы в журналеnThe Astrophysical Journaln.'),\n",
       "              ('reposts_fb', '-'),\n",
       "              ('reposts_vk', '-'),\n",
       "              ('reposts_ok', '-'),\n",
       "              ('reposts_twi', '-'),\n",
       "              ('reposts_lj', '-'),\n",
       "              ('reposts_tg', '-'),\n",
       "              ('likes', '-'),\n",
       "              ('views', '-'),\n",
       "              ('comm_count', '-'),\n",
       "              (None, [''])])]"
      ]
     },
     "execution_count": 12,
     "metadata": {
      "tags": []
     },
     "output_type": "execute_result"
    }
   ],
   "source": [
    "# Так выглядет датасет\n",
    "list_data[:5]"
   ]
  },
  {
   "cell_type": "code",
   "execution_count": 0,
   "metadata": {
    "colab": {},
    "colab_type": "code",
    "id": "yXQsjlkbU8_I"
   },
   "outputs": [],
   "source": []
  },
  {
   "cell_type": "code",
   "execution_count": 0,
   "metadata": {
    "colab": {},
    "colab_type": "code",
    "id": "vLLko-hGU9Be"
   },
   "outputs": [],
   "source": [
    "# Можно в пандас загрузить и посмотреть"
   ]
  },
  {
   "cell_type": "code",
   "execution_count": 0,
   "metadata": {
    "colab": {},
    "colab_type": "code",
    "id": "AULLLtW2U9D5"
   },
   "outputs": [],
   "source": [
    "import pandas as pd"
   ]
  },
  {
   "cell_type": "code",
   "execution_count": 0,
   "metadata": {
    "colab": {},
    "colab_type": "code",
    "id": "81iXxBEUU9GE"
   },
   "outputs": [],
   "source": [
    "df = pd.DataFrame(list_data)"
   ]
  },
  {
   "cell_type": "code",
   "execution_count": 0,
   "metadata": {
    "colab": {
     "base_uri": "https://localhost:8080/",
     "height": 496
    },
    "colab_type": "code",
    "executionInfo": {
     "elapsed": 679,
     "status": "ok",
     "timestamp": 1572953619938,
     "user": {
      "displayName": "Egor Silaev",
      "photoUrl": "",
      "userId": "17939097308196895647"
     },
     "user_tz": -180
    },
    "id": "SnZI3n2AVDk7",
    "outputId": "ff9de426-0ae3-4fb6-a2f2-f606cb732185"
   },
   "outputs": [
    {
     "data": {
      "text/html": [
       "<div>\n",
       "<style scoped>\n",
       "    .dataframe tbody tr th:only-of-type {\n",
       "        vertical-align: middle;\n",
       "    }\n",
       "\n",
       "    .dataframe tbody tr th {\n",
       "        vertical-align: top;\n",
       "    }\n",
       "\n",
       "    .dataframe thead th {\n",
       "        text-align: right;\n",
       "    }\n",
       "</style>\n",
       "<table border=\"1\" class=\"dataframe\">\n",
       "  <thead>\n",
       "    <tr style=\"text-align: right;\">\n",
       "      <th></th>\n",
       "      <th>date</th>\n",
       "      <th>url</th>\n",
       "      <th>edition</th>\n",
       "      <th>topics</th>\n",
       "      <th>authors</th>\n",
       "      <th>title</th>\n",
       "      <th>text</th>\n",
       "      <th>reposts_fb</th>\n",
       "      <th>reposts_vk</th>\n",
       "      <th>reposts_ok</th>\n",
       "      <th>reposts_twi</th>\n",
       "      <th>reposts_lj</th>\n",
       "      <th>reposts_tg</th>\n",
       "      <th>likes</th>\n",
       "      <th>views</th>\n",
       "      <th>comm_count</th>\n",
       "      <th>NaN</th>\n",
       "    </tr>\n",
       "  </thead>\n",
       "  <tbody>\n",
       "    <tr>\n",
       "      <th>0</th>\n",
       "      <td>2019-08-10 17:12:51</td>\n",
       "      <td>https://tass.ru/proisshestviya/6751577</td>\n",
       "      <td>-</td>\n",
       "      <td>proisshestviya</td>\n",
       "      <td></td>\n",
       "      <td>Военные завершили работы по борьбе с паводками...</td>\n",
       "      <td>ТАСС, 10 августа. Военнослужащие группировки М...</td>\n",
       "      <td>-</td>\n",
       "      <td>-</td>\n",
       "      <td>-</td>\n",
       "      <td>-</td>\n",
       "      <td>-</td>\n",
       "      <td>-</td>\n",
       "      <td>-</td>\n",
       "      <td>-</td>\n",
       "      <td>-</td>\n",
       "      <td>[]</td>\n",
       "    </tr>\n",
       "    <tr>\n",
       "      <th>1</th>\n",
       "      <td>2019-08-10 18:48:42</td>\n",
       "      <td>https://tass.ru/proisshestviya/6751784</td>\n",
       "      <td>-</td>\n",
       "      <td>proisshestviya</td>\n",
       "      <td></td>\n",
       "      <td>Две ЛЭП повреждены в Ачинске после взрывов на ...</td>\n",
       "      <td>КРАСНОЯРСК, 10 августа. /ТАСС/. Взрывы на воен...</td>\n",
       "      <td>-</td>\n",
       "      <td>-</td>\n",
       "      <td>-</td>\n",
       "      <td>-</td>\n",
       "      <td>-</td>\n",
       "      <td>-</td>\n",
       "      <td>-</td>\n",
       "      <td>-</td>\n",
       "      <td>-</td>\n",
       "      <td>[]</td>\n",
       "    </tr>\n",
       "    <tr>\n",
       "      <th>2</th>\n",
       "      <td>2019-08-10 18:04:35</td>\n",
       "      <td>https://tass.ru/sibir-news/6751662</td>\n",
       "      <td>-</td>\n",
       "      <td>sibir-news</td>\n",
       "      <td></td>\n",
       "      <td>В двух городах Иркутской области зафиксировано...</td>\n",
       "      <td>ИРКУТСК, 10 августа. /ТАСС/. Превышение предел...</td>\n",
       "      <td>-</td>\n",
       "      <td>-</td>\n",
       "      <td>-</td>\n",
       "      <td>-</td>\n",
       "      <td>-</td>\n",
       "      <td>-</td>\n",
       "      <td>-</td>\n",
       "      <td>-</td>\n",
       "      <td>-</td>\n",
       "      <td>[]</td>\n",
       "    </tr>\n",
       "    <tr>\n",
       "      <th>3</th>\n",
       "      <td>2019-08-08 19:22:59</td>\n",
       "      <td>https://tass.ru/moskovskaya-oblast/6745682</td>\n",
       "      <td>-</td>\n",
       "      <td>moskovskaya-oblast</td>\n",
       "      <td></td>\n",
       "      <td>Расчистку участка реки Куновки в Талдомском ок...</td>\n",
       "      <td>МОСКВА, 8 августа. /ТАСС/. Министерство эколог...</td>\n",
       "      <td>-</td>\n",
       "      <td>-</td>\n",
       "      <td>-</td>\n",
       "      <td>-</td>\n",
       "      <td>-</td>\n",
       "      <td>-</td>\n",
       "      <td>-</td>\n",
       "      <td>-</td>\n",
       "      <td>-</td>\n",
       "      <td>[]</td>\n",
       "    </tr>\n",
       "    <tr>\n",
       "      <th>4</th>\n",
       "      <td>2019-08-09 13:30:18</td>\n",
       "      <td>https://tass.ru/nauka/6747980</td>\n",
       "      <td>-</td>\n",
       "      <td>nauka</td>\n",
       "      <td></td>\n",
       "      <td>Ученые смогли определить историю активности зв...</td>\n",
       "      <td>МОСКВА, 9 августа. /ТАСС/. Международная групп...</td>\n",
       "      <td>-</td>\n",
       "      <td>-</td>\n",
       "      <td>-</td>\n",
       "      <td>-</td>\n",
       "      <td>-</td>\n",
       "      <td>-</td>\n",
       "      <td>-</td>\n",
       "      <td>-</td>\n",
       "      <td>-</td>\n",
       "      <td>[]</td>\n",
       "    </tr>\n",
       "  </tbody>\n",
       "</table>\n",
       "</div>"
      ],
      "text/plain": [
       "                  date  ... NaN\n",
       "0  2019-08-10 17:12:51  ...  []\n",
       "1  2019-08-10 18:48:42  ...  []\n",
       "2  2019-08-10 18:04:35  ...  []\n",
       "3  2019-08-08 19:22:59  ...  []\n",
       "4  2019-08-09 13:30:18  ...  []\n",
       "\n",
       "[5 rows x 17 columns]"
      ]
     },
     "execution_count": 15,
     "metadata": {
      "tags": []
     },
     "output_type": "execute_result"
    }
   ],
   "source": [
    "df.head()"
   ]
  },
  {
   "cell_type": "code",
   "execution_count": 0,
   "metadata": {
    "colab": {},
    "colab_type": "code",
    "id": "OzlE5JYwUxxj"
   },
   "outputs": [],
   "source": []
  },
  {
   "cell_type": "markdown",
   "metadata": {
    "colab_type": "text",
    "id": "-sj6mDeRUyIj"
   },
   "source": [
    "### Обработка словаря"
   ]
  },
  {
   "cell_type": "code",
   "execution_count": 0,
   "metadata": {
    "colab": {},
    "colab_type": "code",
    "id": "OqjEhgaDvxj7"
   },
   "outputs": [],
   "source": [
    "# Соберем токены\n",
    "tokens = data.gettokens"
   ]
  },
  {
   "cell_type": "code",
   "execution_count": 0,
   "metadata": {
    "colab": {},
    "colab_type": "code",
    "id": "J5l3M6q38Qqr"
   },
   "outputs": [],
   "source": []
  },
  {
   "cell_type": "code",
   "execution_count": 0,
   "metadata": {
    "colab": {},
    "colab_type": "code",
    "id": "EPvhaJLR8Qte"
   },
   "outputs": [],
   "source": [
    "punctuation = list(punctuation)"
   ]
  },
  {
   "cell_type": "code",
   "execution_count": 0,
   "metadata": {
    "colab": {},
    "colab_type": "code",
    "id": "CBlrlrxj8QyH"
   },
   "outputs": [],
   "source": [
    "punctuation += ['«','»','—', 'n','»,','».', '–', '...']"
   ]
  },
  {
   "cell_type": "code",
   "execution_count": 0,
   "metadata": {
    "colab": {},
    "colab_type": "code",
    "id": "y5fevKURI-gg"
   },
   "outputs": [],
   "source": [
    "garbage_words = ['nранее', 'nв', 'nпо', 'nтакже','u','n—', 'nn']"
   ]
  },
  {
   "cell_type": "code",
   "execution_count": 0,
   "metadata": {
    "colab": {},
    "colab_type": "code",
    "id": "DmFxTeif8Q47"
   },
   "outputs": [],
   "source": [
    "tokens = {item:tokens[item] for item in tokens if item not in punctuation}"
   ]
  },
  {
   "cell_type": "code",
   "execution_count": 0,
   "metadata": {
    "colab": {},
    "colab_type": "code",
    "id": "JYh39TiPJTJ1"
   },
   "outputs": [],
   "source": [
    "tokens = {item:tokens[item] for item in tokens if item not in garbage_words}"
   ]
  },
  {
   "cell_type": "code",
   "execution_count": 0,
   "metadata": {
    "colab": {},
    "colab_type": "code",
    "id": "XDWAFsST8Q0f"
   },
   "outputs": [],
   "source": [
    "stopwords_01 = open('/content/gdrive/My Drive/data/another/stopwords.txt', 'r', encoding='UTF-8')\n",
    "stopwords_01 = stopwords_01.read().split('\\n')\n",
    "stopwords_02 = open('/content/gdrive/My Drive/data/another/stopwords_02.txt', 'r', encoding='UTF-8')\n",
    "stopwords_02 = stopwords_02.read().split('\\n')"
   ]
  },
  {
   "cell_type": "code",
   "execution_count": 0,
   "metadata": {
    "colab": {},
    "colab_type": "code",
    "id": "qOGMPuwo8Qw2"
   },
   "outputs": [],
   "source": [
    "stopwords = stopwords_01 + stopwords_02"
   ]
  },
  {
   "cell_type": "code",
   "execution_count": 0,
   "metadata": {
    "colab": {},
    "colab_type": "code",
    "id": "ED9DjQjc9R05"
   },
   "outputs": [],
   "source": [
    "tokens_without_stopwords = {item:tokens[item] for item in tokens if item not in stopwords}"
   ]
  },
  {
   "cell_type": "code",
   "execution_count": 0,
   "metadata": {
    "colab": {},
    "colab_type": "code",
    "id": "6M4gXZsu9R7L"
   },
   "outputs": [],
   "source": []
  },
  {
   "cell_type": "markdown",
   "metadata": {
    "colab_type": "text",
    "id": "ym3H5f0G-NLt"
   },
   "source": [
    "### Аналитика по словам"
   ]
  },
  {
   "cell_type": "markdown",
   "metadata": {
    "colab_type": "text",
    "id": "B3_A4DrY-hQq"
   },
   "source": [
    "#### Топ-20 слов без удаления стоп-слов"
   ]
  },
  {
   "cell_type": "code",
   "execution_count": 0,
   "metadata": {
    "colab": {
     "base_uri": "https://localhost:8080/",
     "height": 357
    },
    "colab_type": "code",
    "executionInfo": {
     "elapsed": 1011,
     "status": "ok",
     "timestamp": 1572529637742,
     "user": {
      "displayName": "Egor Silaev",
      "photoUrl": "",
      "userId": "17939097308196895647"
     },
     "user_tz": -180
    },
    "id": "KFqnUUCevxkA",
    "outputId": "99e0c97a-b803-4bbe-df53-6d6e8d754754"
   },
   "outputs": [
    {
     "data": {
      "text/plain": [
       "[('в', 12663965),\n",
       " ('и', 6128345),\n",
       " ('на', 4892475),\n",
       " ('по', 3052439),\n",
       " ('с', 2817658),\n",
       " ('что', 2361936),\n",
       " ('не', 1868963),\n",
       " ('тасс', 1278771),\n",
       " ('из', 1109082),\n",
       " ('для', 1064167),\n",
       " ('о', 1040801),\n",
       " ('он', 991101),\n",
       " ('к', 980172),\n",
       " ('года', 978966),\n",
       " ('этом', 940882),\n",
       " ('за', 908356),\n",
       " ('как', 861466),\n",
       " ('а', 807471),\n",
       " ('об', 799668),\n",
       " ('россии', 785241)]"
      ]
     },
     "execution_count": 21,
     "metadata": {
      "tags": []
     },
     "output_type": "execute_result"
    }
   ],
   "source": [
    "Counter(tokens).most_common(20)"
   ]
  },
  {
   "cell_type": "code",
   "execution_count": 0,
   "metadata": {
    "colab": {
     "base_uri": "https://localhost:8080/",
     "height": 404
    },
    "colab_type": "code",
    "executionInfo": {
     "elapsed": 2083,
     "status": "ok",
     "timestamp": 1572529643979,
     "user": {
      "displayName": "Egor Silaev",
      "photoUrl": "",
      "userId": "17939097308196895647"
     },
     "user_tz": -180
    },
    "id": "RrvScy8hvxkE",
    "outputId": "1dd1e81a-3eaa-4356-a0ef-844023450d7b"
   },
   "outputs": [
    {
     "data": {
      "image/png": "[encoded data removed]",
      "text/plain": [
       "<Figure size 864x432 with 1 Axes>"
      ]
     },
     "metadata": {
      "tags": []
     },
     "output_type": "display_data"
    }
   ],
   "source": [
    "x = dict(Counter(tokens).most_common(20)).keys()\n",
    "y = dict(Counter(tokens).most_common(20)).values()\n",
    "\n",
    "fig, ax = plt.subplots()\n",
    "\n",
    "ax.bar(x, y)\n",
    "ax.set_title('TOP-20 слов без удаления стопслов')\n",
    "ax.set_ylabel('Частота')\n",
    "ax.set_xlabel('Слова')\n",
    "\n",
    "ax.set_facecolor('seashell')\n",
    "fig.set_facecolor('floralwhite')\n",
    "fig.set_figwidth(12)    #  ширина Figure\n",
    "fig.set_figheight(6)    #  высота Figure\n",
    "\n",
    "\n",
    "plt.show()"
   ]
  },
  {
   "cell_type": "markdown",
   "metadata": {
    "colab_type": "text",
    "id": "oyibo5Ui-lzi"
   },
   "source": [
    "#### Топ-20 слов после удаления стоп-слов"
   ]
  },
  {
   "cell_type": "code",
   "execution_count": 0,
   "metadata": {
    "colab": {
     "base_uri": "https://localhost:8080/",
     "height": 357
    },
    "colab_type": "code",
    "executionInfo": {
     "elapsed": 1171,
     "status": "ok",
     "timestamp": 1572529647418,
     "user": {
      "displayName": "Egor Silaev",
      "photoUrl": "",
      "userId": "17939097308196895647"
     },
     "user_tz": -180
    },
    "id": "dsegoWWy-rod",
    "outputId": "2dff93b8-e2b6-4f85-93fb-ab09a094eeb6"
   },
   "outputs": [
    {
     "data": {
      "text/plain": [
       "[('тасс', 1278771),\n",
       " ('россии', 785241),\n",
       " ('рф', 612604),\n",
       " ('сша', 397019),\n",
       " ('сообщил', 375779),\n",
       " ('корр', 356151),\n",
       " ('итар-тасс', 354178),\n",
       " ('области', 351189),\n",
       " ('тыс', 351147),\n",
       " ('словам', 331051),\n",
       " ('млн', 326739),\n",
       " ('отметил', 321335),\n",
       " ('1', 307416),\n",
       " ('рублей', 303153),\n",
       " ('заявил', 294376),\n",
       " ('глава', 254803),\n",
       " ('млрд', 253665),\n",
       " ('страны', 238765),\n",
       " ('сообщили', 237730),\n",
       " ('данным', 218190)]"
      ]
     },
     "execution_count": 23,
     "metadata": {
      "tags": []
     },
     "output_type": "execute_result"
    }
   ],
   "source": [
    "Counter(tokens_without_stopwords).most_common(20)"
   ]
  },
  {
   "cell_type": "code",
   "execution_count": 0,
   "metadata": {
    "colab": {
     "base_uri": "https://localhost:8080/",
     "height": 404
    },
    "colab_type": "code",
    "executionInfo": {
     "elapsed": 1997,
     "status": "ok",
     "timestamp": 1572529655037,
     "user": {
      "displayName": "Egor Silaev",
      "photoUrl": "",
      "userId": "17939097308196895647"
     },
     "user_tz": -180
    },
    "id": "ULvxekUF-r4a",
    "outputId": "8f0f5402-37a4-4c98-95fb-2a0274855259"
   },
   "outputs": [
    {
     "data": {
      "image/png": "[encoded data removed]",
      "text/plain": [
       "<Figure size 1584x432 with 1 Axes>"
      ]
     },
     "metadata": {
      "tags": []
     },
     "output_type": "display_data"
    }
   ],
   "source": [
    "x = dict(Counter(tokens_without_stopwords).most_common(20)).keys()\n",
    "y = dict(Counter(tokens_without_stopwords).most_common(20)).values()\n",
    "\n",
    "fig, ax = plt.subplots()\n",
    "\n",
    "ax.bar(x, y)\n",
    "ax.set_title('TOP-20 слов без удаления стопслов')\n",
    "ax.set_ylabel('Частота')\n",
    "ax.set_xlabel('Слова')\n",
    "\n",
    "ax.set_facecolor('seashell')\n",
    "fig.set_facecolor('floralwhite')\n",
    "fig.set_figwidth(22)    #  ширина Figure\n",
    "fig.set_figheight(6)    #  высота Figure\n",
    "\n",
    "\n",
    "plt.show()"
   ]
  },
  {
   "cell_type": "markdown",
   "metadata": {
    "colab_type": "text",
    "id": "VJ6w-wJ2vxkH"
   },
   "source": [
    "## Рубрики в разрезе новостей"
   ]
  },
  {
   "cell_type": "markdown",
   "metadata": {
    "colab_type": "text",
    "id": "IwvkOJgzvxkH"
   },
   "source": [
    "### Количество рубрик"
   ]
  },
  {
   "cell_type": "code",
   "execution_count": 0,
   "metadata": {
    "colab": {},
    "colab_type": "code",
    "id": "FHEEEtf2vxkI"
   },
   "outputs": [],
   "source": [
    "list_topics = list(data.listcolumns(None, 'tass', 'topics'))"
   ]
  },
  {
   "cell_type": "code",
   "execution_count": 0,
   "metadata": {
    "colab": {
     "base_uri": "https://localhost:8080/",
     "height": 34
    },
    "colab_type": "code",
    "executionInfo": {
     "elapsed": 609,
     "status": "ok",
     "timestamp": 1572529856830,
     "user": {
      "displayName": "Egor Silaev",
      "photoUrl": "",
      "userId": "17939097308196895647"
     },
     "user_tz": -180
    },
    "id": "Z8BTRTl7vxkK",
    "outputId": "2921fa3a-54dd-4a22-c796-f6955053b7bd"
   },
   "outputs": [
    {
     "data": {
      "text/plain": [
       "288"
      ]
     },
     "execution_count": 26,
     "metadata": {
      "tags": []
     },
     "output_type": "execute_result"
    }
   ],
   "source": [
    "len(set(list_topics))"
   ]
  },
  {
   "cell_type": "markdown",
   "metadata": {
    "colab_type": "text",
    "id": "597r_Fl3vxkM"
   },
   "source": [
    "### Рубрики в разрезе количества новостей"
   ]
  },
  {
   "cell_type": "code",
   "execution_count": 0,
   "metadata": {
    "colab": {
     "base_uri": "https://localhost:8080/",
     "height": 187
    },
    "colab_type": "code",
    "executionInfo": {
     "elapsed": 637,
     "status": "ok",
     "timestamp": 1572529864339,
     "user": {
      "displayName": "Egor Silaev",
      "photoUrl": "",
      "userId": "17939097308196895647"
     },
     "user_tz": -180
    },
    "id": "ccIvRH-SvxkM",
    "outputId": "86b98bb7-2b48-480f-ea4d-0bad381908dc"
   },
   "outputs": [
    {
     "data": {
      "text/plain": [
       "[('mezhdunarodnaya-panorama', 210656),\n",
       " ('sport', 189547),\n",
       " ('ekonomika', 159387),\n",
       " ('obschestvo', 134878),\n",
       " ('proisshestviya', 124474),\n",
       " ('politika', 84042),\n",
       " ('kultura', 34825),\n",
       " ('moskva', 30292),\n",
       " ('sibir-news', 25877),\n",
       " ('ural-news', 25204)]"
      ]
     },
     "execution_count": 27,
     "metadata": {
      "tags": []
     },
     "output_type": "execute_result"
    }
   ],
   "source": [
    "Counter(list_topics).most_common(10)"
   ]
  },
  {
   "cell_type": "markdown",
   "metadata": {
    "colab_type": "text",
    "id": "LzbLPu6G7Xit"
   },
   "source": [
    "## Распределение количества новостей по месяцам"
   ]
  },
  {
   "cell_type": "markdown",
   "metadata": {
    "colab_type": "text",
    "id": "PP8HjpgQUXc_"
   },
   "source": [
    "### Удаление дубликатов"
   ]
  },
  {
   "cell_type": "code",
   "execution_count": 0,
   "metadata": {
    "colab": {},
    "colab_type": "code",
    "id": "YCuBwDA-UbPC"
   },
   "outputs": [],
   "source": [
    "# Новый словарь, ключами которого будут новости, таким образом будет создан\n",
    "# новый словарь, без дубликатов\n",
    "news_by_dict = {i['text']: i for i in list_data}\n",
    "new_items = list(news_by_dict.values())"
   ]
  },
  {
   "cell_type": "code",
   "execution_count": 0,
   "metadata": {
    "colab": {
     "base_uri": "https://localhost:8080/",
     "height": 34
    },
    "colab_type": "code",
    "executionInfo": {
     "elapsed": 568,
     "status": "ok",
     "timestamp": 1572953655403,
     "user": {
      "displayName": "Egor Silaev",
      "photoUrl": "",
      "userId": "17939097308196895647"
     },
     "user_tz": -180
    },
    "id": "WIdVztCQUcBz",
    "outputId": "85aae401-b4bb-42bf-e973-a8651e0e0dad"
   },
   "outputs": [
    {
     "data": {
      "text/plain": [
       "195"
      ]
     },
     "execution_count": 17,
     "metadata": {
      "tags": []
     },
     "output_type": "execute_result"
    }
   ],
   "source": [
    "# Проверь, что количество дубликатов совпало с тем, что были в предварительном анализе\n",
    "# все верно\n",
    "len(list_data) - len(new_items)"
   ]
  },
  {
   "cell_type": "markdown",
   "metadata": {
    "colab_type": "text",
    "id": "_i8CIvvtUcRF"
   },
   "source": [
    "### Получение распределения"
   ]
  },
  {
   "cell_type": "code",
   "execution_count": 0,
   "metadata": {
    "colab": {},
    "colab_type": "code",
    "id": "IsfBLATW02PS"
   },
   "outputs": [],
   "source": [
    "def getMonthDate(date):\n",
    "  \"\"\"\n",
    "  Возвращает дату в формате ММ-ГГГГ\n",
    "  \"\"\"\n",
    "  date = datetime.datetime.strptime(date, \"%Y-%m-%d %H:%M:%S\")\n",
    "  return '-'.join(['0' + str(date.month) if date.month<10 else str(date.month), str(date.year)])"
   ]
  },
  {
   "cell_type": "code",
   "execution_count": 0,
   "metadata": {
    "colab": {},
    "colab_type": "code",
    "id": "86cWiHJV1dKu"
   },
   "outputs": [],
   "source": [
    "# Подсчет количества новостей в разрезе месяца и года\n",
    "list_dates = [getMonthDate(x['date']) for x in new_items]"
   ]
  },
  {
   "cell_type": "code",
   "execution_count": 0,
   "metadata": {
    "colab": {},
    "colab_type": "code",
    "id": "EhWOAaaC29e0"
   },
   "outputs": [],
   "source": [
    "month_year = Counter(list_dates)"
   ]
  },
  {
   "cell_type": "code",
   "execution_count": 0,
   "metadata": {
    "colab": {
     "base_uri": "https://localhost:8080/",
     "height": 34
    },
    "colab_type": "code",
    "executionInfo": {
     "elapsed": 516,
     "status": "ok",
     "timestamp": 1572953722045,
     "user": {
      "displayName": "Egor Silaev",
      "photoUrl": "",
      "userId": "17939097308196895647"
     },
     "user_tz": -180
    },
    "id": "9v6Jd6nq6kig",
    "outputId": "cc2d5bde-6d6f-4aac-fc17-830a5db2d81b"
   },
   "outputs": [
    {
     "data": {
      "text/plain": [
       "103"
      ]
     },
     "execution_count": 21,
     "metadata": {
      "tags": []
     },
     "output_type": "execute_result"
    }
   ],
   "source": [
    "len(month_year)"
   ]
  },
  {
   "cell_type": "code",
   "execution_count": 0,
   "metadata": {
    "colab": {
     "base_uri": "https://localhost:8080/",
     "height": 357
    },
    "colab_type": "code",
    "executionInfo": {
     "elapsed": 525,
     "status": "ok",
     "timestamp": 1572953724598,
     "user": {
      "displayName": "Egor Silaev",
      "photoUrl": "",
      "userId": "17939097308196895647"
     },
     "user_tz": -180
    },
    "id": "rKYcNky04hgi",
    "outputId": "03cb1cc9-8d6f-47af-da9f-f65380e74f99"
   },
   "outputs": [
    {
     "data": {
      "text/plain": [
       "[('03-2019', 19829),\n",
       " ('10-2018', 19722),\n",
       " ('06-2019', 19403),\n",
       " ('04-2019', 19302),\n",
       " ('07-2019', 19256),\n",
       " ('02-2019', 18195),\n",
       " ('12-2018', 18112),\n",
       " ('11-2018', 17994),\n",
       " ('05-2019', 17774),\n",
       " ('10-2017', 17664),\n",
       " ('11-2017', 17102),\n",
       " ('09-2018', 16641),\n",
       " ('12-2017', 16464),\n",
       " ('03-2018', 16406),\n",
       " ('09-2017', 16320),\n",
       " ('08-2018', 16143),\n",
       " ('06-2016', 16092),\n",
       " ('04-2018', 15884),\n",
       " ('01-2019', 15792),\n",
       " ('02-2018', 15734)]"
      ]
     },
     "execution_count": 22,
     "metadata": {
      "tags": []
     },
     "output_type": "execute_result"
    }
   ],
   "source": [
    "month_year.most_common(20)"
   ]
  },
  {
   "cell_type": "code",
   "execution_count": 0,
   "metadata": {
    "colab": {
     "base_uri": "https://localhost:8080/",
     "height": 653
    },
    "colab_type": "code",
    "executionInfo": {
     "elapsed": 2120,
     "status": "ok",
     "timestamp": 1572953729153,
     "user": {
      "displayName": "Egor Silaev",
      "photoUrl": "",
      "userId": "17939097308196895647"
     },
     "user_tz": -180
    },
    "id": "g97uKlaT5UXh",
    "outputId": "066fde42-a6d8-4daa-822e-3b06113887b4"
   },
   "outputs": [
    {
     "data": {
      "image/png": "[encoded data removed]",
      "text/plain": [
       "<Figure size 1440x720 with 1 Axes>"
      ]
     },
     "metadata": {
      "tags": []
     },
     "output_type": "display_data"
    }
   ],
   "source": [
    "fig, ax = plt.subplots(figsize=(20, 10))\n",
    "plt.bar(x = month_year.keys(),\n",
    "        height = month_year.values())\n",
    "plt.xticks(rotation='vertical')\n",
    "ax.set_facecolor('seashell')\n",
    "fig.set_facecolor('floralwhite')\n",
    "\n",
    "ax.set_title('Количество новостей по месяцам')\n",
    "ax.set_ylabel('Количество')\n",
    "ax.set_xlabel('Дата')\n",
    "plt.show()"
   ]
  },
  {
   "cell_type": "code",
   "execution_count": 0,
   "metadata": {
    "colab": {},
    "colab_type": "code",
    "id": "YiN8O2xYvxlV"
   },
   "outputs": [],
   "source": []
  },
  {
   "cell_type": "code",
   "execution_count": 0,
   "metadata": {
    "colab": {},
    "colab_type": "code",
    "id": "CYN55mRavxlX"
   },
   "outputs": [],
   "source": []
  }
 ],
 "metadata": {
  "accelerator": "TPU",
  "colab": {
   "collapsed_sections": [],
   "name": "tass-05-11-2019_new.ipynb",
   "provenance": [
    {
     "file_id": "1L3oVGHCJe2UQmTc5cnvqciCa6wv6KTKB",
     "timestamp": 1572953746751
    },
    {
     "file_id": "1PoFtjUNhBQ6Gx6_9JaI5aZ0ax2BlB7SE",
     "timestamp": 1572525762703
    },
    {
     "file_id": "1ZUV-wjHI_Dzys5y16L91PKrrehOVWIOw",
     "timestamp": 1572523858809
    },
    {
     "file_id": "1VHuGP11gOWttztejKCDNjHAuAWBD_Owm",
     "timestamp": 1572521191576
    }
   ],
   "toc_visible": true
  },
  "kernelspec": {
   "display_name": "Python 3",
   "language": "python",
   "name": "python3"
  },
  "language_info": {
   "codemirror_mode": {
    "name": "ipython",
    "version": 3
   },
   "file_extension": ".py",
   "mimetype": "text/x-python",
   "name": "python",
   "nbconvert_exporter": "python",
   "pygments_lexer": "ipython3",
   "version": "3.7.4"
  }
 },
 "nbformat": 4,
 "nbformat_minor": 1
}
