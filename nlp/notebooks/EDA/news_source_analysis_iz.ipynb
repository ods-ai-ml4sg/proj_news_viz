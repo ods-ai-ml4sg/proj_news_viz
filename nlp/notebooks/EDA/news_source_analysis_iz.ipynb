{
 "cells": [
  {
   "cell_type": "markdown",
   "metadata": {
    "colab_type": "text",
    "id": "Y9ddZBr2vxjW"
   },
   "source": [
    "# IZVESTIA"
   ]
  },
  {
   "cell_type": "code",
   "execution_count": 1,
   "metadata": {
    "colab": {},
    "colab_type": "code",
    "id": "SC-wpuUNvxjb"
   },
   "outputs": [],
   "source": [
    "from string import punctuation\n",
    "from collections import Counter\n",
    "import datetime\n",
    "import matplotlib.pyplot as plt"
   ]
  },
  {
   "cell_type": "code",
   "execution_count": 2,
   "metadata": {
    "colab": {},
    "colab_type": "code",
    "id": "cSFwYEPTvxjh"
   },
   "outputs": [],
   "source": [
    "import sys"
   ]
  },
  {
   "cell_type": "code",
   "execution_count": 3,
   "metadata": {
    "colab": {},
    "colab_type": "code",
    "id": "tRure0Wevxjl"
   },
   "outputs": [],
   "source": [
    "sys.path.append('C:\\\\projects\\\\datascience\\\\proj_news_viz\\\\nlp\\\\experiments\\\\exp-001_Prepare_csv_for_EDA\\\\scripts')"
   ]
  },
  {
   "cell_type": "code",
   "execution_count": 4,
   "metadata": {
    "colab": {},
    "colab_type": "code",
    "id": "a0bKN2JLvxjo"
   },
   "outputs": [],
   "source": [
    "from reader import CSVCorpusReader"
   ]
  },
  {
   "cell_type": "code",
   "execution_count": 5,
   "metadata": {
    "colab": {},
    "colab_type": "code",
    "id": "jY2am0Wvvxjq"
   },
   "outputs": [],
   "source": [
    "# Создадим объект чтения корпуса\n",
    "data = CSVCorpusReader('../../../data/interim')"
   ]
  },
  {
   "cell_type": "code",
   "execution_count": 6,
   "metadata": {
    "colab": {
     "base_uri": "https://localhost:8080/",
     "height": 34
    },
    "colab_type": "code",
    "executionInfo": {
     "elapsed": 547,
     "status": "ok",
     "timestamp": 1572530357516,
     "user": {
      "displayName": "Egor Silaev",
      "photoUrl": "",
      "userId": "17939097308196895647"
     },
     "user_tz": -180
    },
    "id": "CO3bVW6Pvxjt",
    "outputId": "b16543e2-fba4-43af-c10d-1d7ac7182471"
   },
   "outputs": [
    {
     "data": {
      "text/plain": [
       "['gazeta', 'interfax', 'iz', 'meduza', 'ria', 'rt', 'tass']"
      ]
     },
     "execution_count": 6,
     "metadata": {},
     "output_type": "execute_result"
    }
   ],
   "source": [
    "# Новостные источники\n",
    "data.categories()"
   ]
  },
  {
   "cell_type": "code",
   "execution_count": 7,
   "metadata": {
    "colab": {
     "base_uri": "https://localhost:8080/",
     "height": 34
    },
    "colab_type": "code",
    "executionInfo": {
     "elapsed": 541,
     "status": "ok",
     "timestamp": 1572530451140,
     "user": {
      "displayName": "Egor Silaev",
      "photoUrl": "",
      "userId": "17939097308196895647"
     },
     "user_tz": -180
    },
    "id": "PKwf-W_dvxjx",
    "outputId": "e0648e39-e80d-4179-d09e-0f07ff337459"
   },
   "outputs": [
    {
     "data": {
      "text/plain": [
       "['gazeta/gazeta.csv',\n",
       " 'interfax/interfax.csv',\n",
       " 'iz/iz.csv',\n",
       " 'meduza/meduza.csv',\n",
       " 'ria/ria.csv',\n",
       " 'rt/rt.csv',\n",
       " 'tass/tass.csv']"
      ]
     },
     "execution_count": 7,
     "metadata": {},
     "output_type": "execute_result"
    }
   ],
   "source": [
    "# Имеющиеся файлы в корпусе\n",
    "data.fileids()"
   ]
  },
  {
   "cell_type": "code",
   "execution_count": 8,
   "metadata": {},
   "outputs": [
    {
     "data": {
      "text/plain": [
       "[(FileSystemPathPointer('C:\\\\projects\\\\datascience\\\\proj_news_viz\\\\nlp\\\\data\\\\interim\\\\iz\\\\iz.csv'),\n",
       "  342723850)]"
      ]
     },
     "execution_count": 8,
     "metadata": {},
     "output_type": "execute_result"
    }
   ],
   "source": [
    "# Проверим размер нашего сета, который будем обрабатывать\n",
    "list(data.sizes(None, 'iz'))"
   ]
  },
  {
   "cell_type": "markdown",
   "metadata": {
    "colab_type": "text",
    "id": "b-sExa2Jvxj1"
   },
   "source": [
    "## Общий предварительный анализ"
   ]
  },
  {
   "cell_type": "code",
   "execution_count": 9,
   "metadata": {
    "colab": {
     "base_uri": "https://localhost:8080/",
     "height": 255
    },
    "colab_type": "code",
    "executionInfo": {
     "elapsed": 198321,
     "status": "ok",
     "timestamp": 1572530657850,
     "user": {
      "displayName": "Egor Silaev",
      "photoUrl": "",
      "userId": "17939097308196895647"
     },
     "user_tz": -180
    },
    "id": "ksweq0WAvxj2",
    "outputId": "bed71c0f-ce65-4ba7-90ed-902081377274"
   },
   "outputs": [
    {
     "data": {
      "text/plain": [
       "{'Количество файлов': 1,\n",
       " 'Количество источников новостей': 1,\n",
       " 'Количество обработанных новостей': 86602,\n",
       " 'Количество предложений': 1035024,\n",
       " 'Количество слов': 30230658,\n",
       " 'Количество токенов (словарь)': 556504,\n",
       " 'Коэффициент лексического разнообразия (lexical diversity)': 54.322445121688254,\n",
       " 'Среднее количество новостей по отношению к файлам': 86602.0,\n",
       " 'Среднее количество предложений в новостях': 11.951502274774255,\n",
       " 'Начальная дата в обработке': '2001-06-28 16:51:00',\n",
       " 'Конечная дата в обработке': '2017-12-26 23:58:25',\n",
       " 'Количество повторяющихся новостей': 1289,\n",
       " 'Количество пустых новостных элементов': 1268,\n",
       " 'Время обработки в секундах': 303.35374426841736}"
      ]
     },
     "execution_count": 9,
     "metadata": {},
     "output_type": "execute_result"
    }
   ],
   "source": [
    "# Предварительный анализ всех файлов из каталога новостного источника\n",
    "data.describe(None, 'iz')"
   ]
  },
  {
   "cell_type": "markdown",
   "metadata": {
    "colab_type": "text",
    "id": "TSZBXiIq7778"
   },
   "source": [
    "## EDA"
   ]
  },
  {
   "cell_type": "code",
   "execution_count": 0,
   "metadata": {
    "colab": {},
    "colab_type": "code",
    "id": "Xcj1nX41HtJd"
   },
   "outputs": [],
   "source": []
  },
  {
   "cell_type": "code",
   "execution_count": 10,
   "metadata": {
    "colab": {},
    "colab_type": "code",
    "id": "IFD9JKgDHtem"
   },
   "outputs": [],
   "source": [
    "list_data = list(data.docs(None, 'iz'))"
   ]
  },
  {
   "cell_type": "code",
   "execution_count": 11,
   "metadata": {
    "colab": {
     "base_uri": "https://localhost:8080/",
     "height": 1000
    },
    "colab_type": "code",
    "executionInfo": {
     "elapsed": 573,
     "status": "ok",
     "timestamp": 1572530874915,
     "user": {
      "displayName": "Egor Silaev",
      "photoUrl": "",
      "userId": "17939097308196895647"
     },
     "user_tz": -180
    },
    "id": "4IlBlvz6HthN",
    "outputId": "d44fa4c2-da6a-448f-cfd8-842455cc7c4b"
   },
   "outputs": [
    {
     "data": {
      "text/plain": [
       "[OrderedDict([('date', '2017-01-24 18:24:00'),\n",
       "              ('url',\n",
       "               'https://iz.ru/699785/nataliia-portiakova/chtoby-pomnili'),\n",
       "              ('edition', '-'),\n",
       "              ('topics', 'Мир'),\n",
       "              ('authors', 'Наталия Портякова'),\n",
       "              ('title', 'Чтобы помнили'),\n",
       "              ('text',\n",
       "               'В Европейском\\xa0парламенте\\xa0(ЕП) 24 января прошла официальная церемония памяти жертв холокоста, приуроченная к одноименному международному дню (отмечается 27 января). Главный посыл ее участников свелся к тому, что мир обязан не только чтить невинно убитых —\\xa0а их было свыше 6 млн\\xa0человек, —\\xa0но и в том, чтобы не позволить экстремизму любого толка вновь поднять голову.nМероприятия, посвященные памяти жертв холокоста, проходят в Европе регулярно. Правда, из года в год социальный и политический контекст, на фоне которого Европа вспоминает жертв преступлений нацизма, становится всё\\xa0более тревожным.nВице-президент Европейского парламента Мэред Макгиннесс в своем выступлении сделала\\xa0акцент не столько на самих проблемах, сколько на том, что необходимо предпринять, чтобы их решить. Главное здесь, по ее логике, —\\xa0вписать красной нитью во всю систему европейского образования одну простую, но важную мысль:\\xa0никогда больше не позволить экстремизму какого-либо толка окрепнуть в умах европейцев.nЛозунг «больше никогда»\\xa0не раз звучал из уст других выступавших в зале Европарламента. Но наибольшую реакцию у публики вызвали всё\\xa0же заявления с политическим подтекстом.n— Меньше месяца назад синагоги в Мальмё и Гетеборге забросали бутылками с зажигательной смесью из-за абсурдной веры в то, что европейские евреи —\\xa0виновники дипломатических заявлений, сделанных неевреем за тысячу миль от Европы.\\xa0А он всего лишь\\xa0озвучил самую очевидную истину о том, что Иерусалим является столицей Израиля, —\\xa0заявил, в частности, один из организаторов мероприятия —\\xa0президент Европейского еврейского общества Вячеслав Кантор.nСледующий выступающий —\\xa0спикер израильского кнессета Юлий Эдельштейн удостоился аплодисментов за речь, в которой, по сути, обвинил европейцев в неискренности в борьбе\\xa0с антисемитизмом.n— Недавно делегация Евросоюза побывала в Тегеране. Никто почему-то не выразил протест против конкурса карикатур на лучшего «отрицателя холокоста»\\xa0(Иран давно известен своим показательным отрицанием факта холокоста\\xa0и периодически проводит конкурсы и\\xa0круглые столы на эту тему. —\\xa0«Известия»), —\\xa0заметил спикер, продемонстрировав собравшимся рисунок победителя. —\\xa0Между прочим, француза, получившего за него $50 тыс.\\xa0Нужны искренние меры. Борьба с антисемитизмом —\\xa0это больше, чем слова и резолюции.nОдна из немногих стран, кого сложно упрекнуть в антисемитизме, —\\xa0это Россия, у которой к холокосту особое отношение. Ведь именно советские войска 27 января 1945 года освободили заключенных крупнейшего\\xa0нацистского\\xa0лагеря\\xa0смерти Освенцим (Аушвиц-Биркенау), в котором, по разным данным, погибло от 1,5 до 4 млн\\xa0человек. И именно Россия была одним из инициаторов резолюции Генассамблеи ООН 2005 года об\\xa0установлении\\xa0Международного дня памяти жертв холокоста. Наконец, именно Россия\\xa0год за годом вносит на рассмотрение Генеральной Ассамблеи ООН проект специальной резолюции о борьбе с героизацией нацизма, неонацизмом и другими видами проявления расизма и нетерпимости.nВ России в этом году центральным событием, посвященным\\xa0Международному дню памяти жертв холокоста, стала фотовыставка «Холокост: уничтожение, освобождение, спасение». Она открылась 17 января в Совете Федерации и представила зрителям более 70 уникальных экспонатов —\\xa0документальных свидетельств и фотографий узников нацистских лагерей смерти и их освободителей —\\xa0солдат Красной Армии.nПодобные выставки также\\xa0впервые представили в посольствах России в ряде европейских столиц и штаб-квартире ООН в Нью-Йорке. Открывая ее 18 января, глава МИДа Сергей Лавров так же, как и выступившие сегодня в Европарламенте депутаты и представители еврейских организаций, не стал скрывать тревогу по поводу «ползучей реабилитации нацизма».\\xa0Назвав холокост «одним из самых ужасных преступлений против человечности», шеф российской дипломатии подчеркнул, что долг всего международного сообщества —\\xa0не только в почитании памяти миллионов жертв нацизма, но и в том, чтобы делать максимум, не допуская повторения подобных трагедий в будущем.nНесмотря на целый ряд мер, принимаемых\\xa0как ЕП, так и отдельными странами в сфере борьбы с проявлениями антисемитизма, искоренить\\xa0это явление не удается. Как следует из последних данных Европейской комиссии, на фоне угроз и роста антисемитизма еврейская диаспора в ЕС сократилась (за счет эмиграции в Израиль) с 1,12 млн человек в 2009 году до 1,08 млн в 2015 году.nТревожные тенденции налицо не только во Франции, где проживает самая крупная в Европе диаспора\\xa0(460 тыс.), но и в Германии с ее 200-тысячной еврейской общиной\\xa0—\\xa0стране, в силу понятных исторических причин щепетильней других подавляющей любые проявления нацизма и антисемитизма. Число преступлений на почве нацизма и антисемитизма в 2017 году выросло там на 4% по сравнению с 2016 годом.nМестные политики связывают это не только с ростом ультраправых настроений в обществе, но и с наплывом в страну беженцев-мусульман с Ближнего Востока, которых никогда нельзя было заподозрить в симпатиях к Израилю и евреям. Как сетовал в конце прошлого года глава Центрального комитета евреев Германии Йозеф Шустер, в некоторых районах страны появление в кипе или со звездой Давида на шее может стать основанием для оскорблений и угроз физической расправы.nРеагируя на рост антисемитизма, в начале года правящий в Германии блок ХДС/ХСС выдвинул идею зафиксировать законодательно пункт о высылке из страны иностранцев, замеченных в антисемитских высказываниях и отрицающих существование Государства Израиль. Звучало и предложение в рамках политики по интеграции обязать всех претендентов на статус беженца в Германии посещать бывший концентрационный лагерь —\\xa0чтобы ужасы холокоста стали для них очевиднее. Впрочем, эти идеи не были воплощены в жизнь, зато Берлин откликнулся на рекомендацию Европарламента, предложившего летом 2017 года странам ЕС учредить должности\\xa0национальных комиссаров по вопросу антисемитизма. За учреждение в стране такого нового поста бундестаг проголосовал\\xa0на прошлой неделе.nВ настоящее время в Израиле и 16 европейских странах публичное отрицание самого факта холокоста является уголовно наказуемым преступлением, за которое можно получить тюремный срок от двух до пяти лет. В России закон об ответственности за реабилитацию нацизма и отрицание нацистских преступлений против человечества, установленных Международным военным трибуналом в Нюрнберге, а также за «распространение заведомо ложных сведений о деятельности СССР в годы Второй мировой войны»\\xa0был принят в мае 2015 года. А вот в США, известных своей многочисленной еврейской диаспорой, отрицание холокоста не входит в число уголовных преступлений —\\xa0это напрямую связано с Первой\\xa0поправкой\\xa0к конституции страны, защищающей право на свободное выражение мнения.'),\n",
       "              ('reposts_fb', '-'),\n",
       "              ('reposts_vk', '-'),\n",
       "              ('reposts_ok', '-'),\n",
       "              ('reposts_twi', '-'),\n",
       "              ('reposts_lj', '-'),\n",
       "              ('reposts_tg', '-'),\n",
       "              ('likes', '-'),\n",
       "              ('views', '-'),\n",
       "              ('comm_count', '-'),\n",
       "              (None, [''])]),\n",
       " OrderedDict([('date', '2017-11-23 23:30:00'),\n",
       "              ('url', 'https://iz.ru/695670/izru-poluchil-premiiu-runeta'),\n",
       "              ('edition', '-'),\n",
       "              ('topics', 'Пресс-релизы'),\n",
       "              ('authors', ''),\n",
       "              ('title', 'IZ.ru получил премию Рунета'),\n",
       "              ('text',\n",
       "               'IZ.ru стал победителем в номинации «Культура, СМИ и массовые коммуникации». Портал был награждён за создание крупнейшего негосударственного информационного медиа, сочетающего в себе возможности круглосуточного новостного телеканала и общественно-политического издания, а также за достижение внушительных результатов по охвату аудитории.nЗа призом на сцену поднялась руководитель мультимедийного портала МИЦ «Известия»\\xa0Екатерина Бурмистрова.n«Спасибо за эту престижную награду. Признание экспертов означает, что мы движемся в правильном направлении. Всего за полгода работы IZ.ru удалось добиться серьезных результатов, построить уникальный информационный ресурс на базе новостных служб ведущих российских СМИ. Уже сегодня наша digital-аудитория – это 26,3 миллионов пользователей, и мы планируем дальнейший рост и развитие», —\\xa0прокомментировала победу Екатерина Бурмистрова.nРедакция портала IZ.ru работает в инновационном формате – производит и синхронно транслирует информацию сразу в нескольких форматах: новости, видео, фото, аналитика. Аудитория IZ.ru может получать главные новости в любой форме – смотреть, слушать, читать.nСправочная информация:nМИЦ «Известия»\\xa0─ первый в России частный мультимедийный информационный центр, объединяющий редакционные и технологические возможности новостных служб телеканалов РЕН, «Пятый канал»\\xa0и газеты «Известия». МИЦ «Известия»\\xa0является универсальной платформой по производству разноформатного информационного контента – для ТВ, печати и интернета. Команда объединенной редакции превышает 1,5 тыс. человек. МИЦ «Известия»\\xa0включает в себя новый интернет-портал IZ.ru, сочетающий возможности круглосуточного новостного телеканала и общественно-политического издания. Редакция портала транслирует информацию сразу в нескольких форматах.'),\n",
       "              ('reposts_fb', '-'),\n",
       "              ('reposts_vk', '-'),\n",
       "              ('reposts_ok', '-'),\n",
       "              ('reposts_twi', '-'),\n",
       "              ('reposts_lj', '-'),\n",
       "              ('reposts_tg', '-'),\n",
       "              ('likes', '-'),\n",
       "              ('views', '-'),\n",
       "              ('comm_count', '-'),\n",
       "              (None, [''])]),\n",
       " OrderedDict([('date', '2017-11-25 23:49:47'),\n",
       "              ('url',\n",
       "               'https://iz.ru/675449/2017-11-25/chislo-mashin-s-migalkami-uvelichili-v-sovfede'),\n",
       "              ('edition', '-'),\n",
       "              ('topics', 'Общество'),\n",
       "              ('authors', ''),\n",
       "              ('title', 'Число машин с «мигалками» увеличили в Совфеде'),\n",
       "              ('text',\n",
       "               'Президент России Владимир Путин подписал указ, согласно которому число автомобилей со спецсигналами в Совете Федерации увеличено с пяти до шести. Соответствующий документ опубликован в субботу на официальном портале правовой информации.nУточняется, что изменения внесены в указ главы государства от 19 мая 2012 года.nКак ранее сообщал портал iz.ru, в октябре российский лидер\\xa0подписал указ, согласно которому увеличиваетсяnчисло машин с «мигалками» в Госдумеn. Если раньше таких автомобилей было 8, то теперь станет 12.'),\n",
       "              ('reposts_fb', '-'),\n",
       "              ('reposts_vk', '-'),\n",
       "              ('reposts_ok', '-'),\n",
       "              ('reposts_twi', '-'),\n",
       "              ('reposts_lj', '-'),\n",
       "              ('reposts_tg', '-'),\n",
       "              ('likes', '-'),\n",
       "              ('views', '-'),\n",
       "              ('comm_count', '-'),\n",
       "              (None, [''])]),\n",
       " OrderedDict([('date', '2017-11-25 23:47:03'),\n",
       "              ('url',\n",
       "               'https://iz.ru/675448/2017-11-25/kudrin-zaiavil-o-podgotovke-proekta-razvitiia-rf-na-shest-let'),\n",
       "              ('edition', '-'),\n",
       "              ('topics', 'Экономика'),\n",
       "              ('authors', ''),\n",
       "              ('title',\n",
       "               'Кудрин заявил о подготовке проекта развития РФ на шесть лет'),\n",
       "              ('text',\n",
       "               'Бывший министр финансов России, глава Центра стратегических разработок (ЦСР) Алексей Кудрин заявил, что готовит проект развития РФ на шесть лет для его использования новым президентом страны.n«Я сейчас готовлю проект стратегии развития России на ближайшие 6 лет для президента», — приводитnТАССnзаявление Кудрина по итогам V Общероссийского гражданского форума (ОГФ), где обсуждались вопросы экономического и социального развития страны.nКудрин также заявил о надежде, что если Владимир Путин станет кандидатом в президенты РФ, то он воспользуется разработанной стратегией.nРанее в субботу Кудрин также заявил, чтоnс сожалением воспринял законnо СМИ-иноагентах. Экс-министр финансов отметил, что считает этот закон слишком жестким.'),\n",
       "              ('reposts_fb', '-'),\n",
       "              ('reposts_vk', '-'),\n",
       "              ('reposts_ok', '-'),\n",
       "              ('reposts_twi', '-'),\n",
       "              ('reposts_lj', '-'),\n",
       "              ('reposts_tg', '-'),\n",
       "              ('likes', '-'),\n",
       "              ('views', '-'),\n",
       "              ('comm_count', '-'),\n",
       "              (None, [''])]),\n",
       " OrderedDict([('date', '2017-11-25 23:46:48'),\n",
       "              ('url',\n",
       "               'https://iz.ru/675447/2017-11-25/gollandetc-kupil-akvarel-gitlera-za-75-tcentov'),\n",
       "              ('edition', '-'),\n",
       "              ('topics', 'Мир'),\n",
       "              ('authors', ''),\n",
       "              ('title', 'Голландец купил акварель Гитлера за 75 центов'),\n",
       "              ('text',\n",
       "               'Женщина, пожелавшая остаться неизвестной,\\xa0отдала голландскому институту военной документации картину акварелью. Искусствоведы утверждают, что эта картина принадлежит кисти\\xa0Адольфа Гитлера.nКак сообщаетn«Газета.ру»n, данную акварель\\xa0отец женщины купил за 75 центов на блошином рынке. Подпись художника голландец заметил только придя домой.nЭксперты установили, что рисунок и правда принадлежит кисти Гитлера. Прежде чем развязать вторую мировую войну, с 1908 по 1914 год он занимался изобразительным искусством.'),\n",
       "              ('reposts_fb', '-'),\n",
       "              ('reposts_vk', '-'),\n",
       "              ('reposts_ok', '-'),\n",
       "              ('reposts_twi', '-'),\n",
       "              ('reposts_lj', '-'),\n",
       "              ('reposts_tg', '-'),\n",
       "              ('likes', '-'),\n",
       "              ('views', '-'),\n",
       "              ('comm_count', '-'),\n",
       "              (None, [''])])]"
      ]
     },
     "execution_count": 11,
     "metadata": {},
     "output_type": "execute_result"
    }
   ],
   "source": [
    "# Так выглядет датасет\n",
    "list_data[:5]"
   ]
  },
  {
   "cell_type": "code",
   "execution_count": 0,
   "metadata": {
    "colab": {},
    "colab_type": "code",
    "id": "CdWVxQ6WHtkN"
   },
   "outputs": [],
   "source": []
  },
  {
   "cell_type": "code",
   "execution_count": 0,
   "metadata": {
    "colab": {},
    "colab_type": "code",
    "id": "XGiZjtMVJPxO"
   },
   "outputs": [],
   "source": [
    "# Можно в пандас загрузить и посмотреть"
   ]
  },
  {
   "cell_type": "code",
   "execution_count": 12,
   "metadata": {
    "colab": {},
    "colab_type": "code",
    "id": "xR_zfJTvJP07"
   },
   "outputs": [],
   "source": [
    "import pandas as pd"
   ]
  },
  {
   "cell_type": "code",
   "execution_count": 13,
   "metadata": {
    "colab": {},
    "colab_type": "code",
    "id": "3ekNw8AgJYLe"
   },
   "outputs": [],
   "source": [
    "df = pd.DataFrame(list_data)"
   ]
  },
  {
   "cell_type": "code",
   "execution_count": 14,
   "metadata": {
    "colab": {
     "base_uri": "https://localhost:8080/",
     "height": 479
    },
    "colab_type": "code",
    "executionInfo": {
     "elapsed": 600,
     "status": "ok",
     "timestamp": 1572530999416,
     "user": {
      "displayName": "Egor Silaev",
      "photoUrl": "",
      "userId": "17939097308196895647"
     },
     "user_tz": -180
    },
    "id": "4NiEgOboJYOE",
    "outputId": "07d97617-2508-402e-9ae0-c933f31a66a9"
   },
   "outputs": [
    {
     "data": {
      "text/html": [
       "<div>\n",
       "<style scoped>\n",
       "    .dataframe tbody tr th:only-of-type {\n",
       "        vertical-align: middle;\n",
       "    }\n",
       "\n",
       "    .dataframe tbody tr th {\n",
       "        vertical-align: top;\n",
       "    }\n",
       "\n",
       "    .dataframe thead th {\n",
       "        text-align: right;\n",
       "    }\n",
       "</style>\n",
       "<table border=\"1\" class=\"dataframe\">\n",
       "  <thead>\n",
       "    <tr style=\"text-align: right;\">\n",
       "      <th></th>\n",
       "      <th>date</th>\n",
       "      <th>url</th>\n",
       "      <th>edition</th>\n",
       "      <th>topics</th>\n",
       "      <th>authors</th>\n",
       "      <th>title</th>\n",
       "      <th>text</th>\n",
       "      <th>reposts_fb</th>\n",
       "      <th>reposts_vk</th>\n",
       "      <th>reposts_ok</th>\n",
       "      <th>reposts_twi</th>\n",
       "      <th>reposts_lj</th>\n",
       "      <th>reposts_tg</th>\n",
       "      <th>likes</th>\n",
       "      <th>views</th>\n",
       "      <th>comm_count</th>\n",
       "      <th>None</th>\n",
       "    </tr>\n",
       "  </thead>\n",
       "  <tbody>\n",
       "    <tr>\n",
       "      <th>0</th>\n",
       "      <td>2017-01-24 18:24:00</td>\n",
       "      <td>https://iz.ru/699785/nataliia-portiakova/chtob...</td>\n",
       "      <td>-</td>\n",
       "      <td>Мир</td>\n",
       "      <td>Наталия Портякова</td>\n",
       "      <td>Чтобы помнили</td>\n",
       "      <td>В Европейском парламенте (ЕП) 24 января прошла...</td>\n",
       "      <td>-</td>\n",
       "      <td>-</td>\n",
       "      <td>-</td>\n",
       "      <td>-</td>\n",
       "      <td>-</td>\n",
       "      <td>-</td>\n",
       "      <td>-</td>\n",
       "      <td>-</td>\n",
       "      <td>-</td>\n",
       "      <td>[]</td>\n",
       "    </tr>\n",
       "    <tr>\n",
       "      <th>1</th>\n",
       "      <td>2017-11-23 23:30:00</td>\n",
       "      <td>https://iz.ru/695670/izru-poluchil-premiiu-runeta</td>\n",
       "      <td>-</td>\n",
       "      <td>Пресс-релизы</td>\n",
       "      <td></td>\n",
       "      <td>IZ.ru получил премию Рунета</td>\n",
       "      <td>IZ.ru стал победителем в номинации «Культура, ...</td>\n",
       "      <td>-</td>\n",
       "      <td>-</td>\n",
       "      <td>-</td>\n",
       "      <td>-</td>\n",
       "      <td>-</td>\n",
       "      <td>-</td>\n",
       "      <td>-</td>\n",
       "      <td>-</td>\n",
       "      <td>-</td>\n",
       "      <td>[]</td>\n",
       "    </tr>\n",
       "    <tr>\n",
       "      <th>2</th>\n",
       "      <td>2017-11-25 23:49:47</td>\n",
       "      <td>https://iz.ru/675449/2017-11-25/chislo-mashin-...</td>\n",
       "      <td>-</td>\n",
       "      <td>Общество</td>\n",
       "      <td></td>\n",
       "      <td>Число машин с «мигалками» увеличили в Совфеде</td>\n",
       "      <td>Президент России Владимир Путин подписал указ,...</td>\n",
       "      <td>-</td>\n",
       "      <td>-</td>\n",
       "      <td>-</td>\n",
       "      <td>-</td>\n",
       "      <td>-</td>\n",
       "      <td>-</td>\n",
       "      <td>-</td>\n",
       "      <td>-</td>\n",
       "      <td>-</td>\n",
       "      <td>[]</td>\n",
       "    </tr>\n",
       "    <tr>\n",
       "      <th>3</th>\n",
       "      <td>2017-11-25 23:47:03</td>\n",
       "      <td>https://iz.ru/675448/2017-11-25/kudrin-zaiavil...</td>\n",
       "      <td>-</td>\n",
       "      <td>Экономика</td>\n",
       "      <td></td>\n",
       "      <td>Кудрин заявил о подготовке проекта развития РФ...</td>\n",
       "      <td>Бывший министр финансов России, глава Центра с...</td>\n",
       "      <td>-</td>\n",
       "      <td>-</td>\n",
       "      <td>-</td>\n",
       "      <td>-</td>\n",
       "      <td>-</td>\n",
       "      <td>-</td>\n",
       "      <td>-</td>\n",
       "      <td>-</td>\n",
       "      <td>-</td>\n",
       "      <td>[]</td>\n",
       "    </tr>\n",
       "    <tr>\n",
       "      <th>4</th>\n",
       "      <td>2017-11-25 23:46:48</td>\n",
       "      <td>https://iz.ru/675447/2017-11-25/gollandetc-kup...</td>\n",
       "      <td>-</td>\n",
       "      <td>Мир</td>\n",
       "      <td></td>\n",
       "      <td>Голландец купил акварель Гитлера за 75 центов</td>\n",
       "      <td>Женщина, пожелавшая остаться неизвестной, отда...</td>\n",
       "      <td>-</td>\n",
       "      <td>-</td>\n",
       "      <td>-</td>\n",
       "      <td>-</td>\n",
       "      <td>-</td>\n",
       "      <td>-</td>\n",
       "      <td>-</td>\n",
       "      <td>-</td>\n",
       "      <td>-</td>\n",
       "      <td>[]</td>\n",
       "    </tr>\n",
       "  </tbody>\n",
       "</table>\n",
       "</div>"
      ],
      "text/plain": [
       "                  date                                                url  \\\n",
       "0  2017-01-24 18:24:00  https://iz.ru/699785/nataliia-portiakova/chtob...   \n",
       "1  2017-11-23 23:30:00  https://iz.ru/695670/izru-poluchil-premiiu-runeta   \n",
       "2  2017-11-25 23:49:47  https://iz.ru/675449/2017-11-25/chislo-mashin-...   \n",
       "3  2017-11-25 23:47:03  https://iz.ru/675448/2017-11-25/kudrin-zaiavil...   \n",
       "4  2017-11-25 23:46:48  https://iz.ru/675447/2017-11-25/gollandetc-kup...   \n",
       "\n",
       "  edition        topics            authors  \\\n",
       "0       -           Мир  Наталия Портякова   \n",
       "1       -  Пресс-релизы                      \n",
       "2       -      Общество                      \n",
       "3       -     Экономика                      \n",
       "4       -           Мир                      \n",
       "\n",
       "                                               title  \\\n",
       "0                                      Чтобы помнили   \n",
       "1                        IZ.ru получил премию Рунета   \n",
       "2      Число машин с «мигалками» увеличили в Совфеде   \n",
       "3  Кудрин заявил о подготовке проекта развития РФ...   \n",
       "4      Голландец купил акварель Гитлера за 75 центов   \n",
       "\n",
       "                                                text reposts_fb reposts_vk  \\\n",
       "0  В Европейском парламенте (ЕП) 24 января прошла...          -          -   \n",
       "1  IZ.ru стал победителем в номинации «Культура, ...          -          -   \n",
       "2  Президент России Владимир Путин подписал указ,...          -          -   \n",
       "3  Бывший министр финансов России, глава Центра с...          -          -   \n",
       "4  Женщина, пожелавшая остаться неизвестной, отда...          -          -   \n",
       "\n",
       "  reposts_ok reposts_twi reposts_lj reposts_tg likes views comm_count NaN  \n",
       "0          -           -          -          -     -     -          -  []  \n",
       "1          -           -          -          -     -     -          -  []  \n",
       "2          -           -          -          -     -     -          -  []  \n",
       "3          -           -          -          -     -     -          -  []  \n",
       "4          -           -          -          -     -     -          -  []  "
      ]
     },
     "execution_count": 14,
     "metadata": {},
     "output_type": "execute_result"
    }
   ],
   "source": [
    "df.head()"
   ]
  },
  {
   "cell_type": "code",
   "execution_count": 0,
   "metadata": {
    "colab": {},
    "colab_type": "code",
    "id": "SHGE4jMkJYQa"
   },
   "outputs": [],
   "source": []
  },
  {
   "cell_type": "code",
   "execution_count": 0,
   "metadata": {
    "colab": {},
    "colab_type": "code",
    "id": "q0CYb-0rJPu0"
   },
   "outputs": [],
   "source": []
  },
  {
   "cell_type": "markdown",
   "metadata": {
    "colab_type": "text",
    "id": "e28l6e198L9u"
   },
   "source": [
    "### Обработка словаря"
   ]
  },
  {
   "cell_type": "code",
   "execution_count": 15,
   "metadata": {
    "colab": {},
    "colab_type": "code",
    "id": "OqjEhgaDvxj7"
   },
   "outputs": [],
   "source": [
    "# Соберем токены\n",
    "tokens = data.gettokens"
   ]
  },
  {
   "cell_type": "code",
   "execution_count": 0,
   "metadata": {
    "colab": {},
    "colab_type": "code",
    "id": "J5l3M6q38Qqr"
   },
   "outputs": [],
   "source": []
  },
  {
   "cell_type": "code",
   "execution_count": 16,
   "metadata": {
    "colab": {},
    "colab_type": "code",
    "id": "EPvhaJLR8Qte"
   },
   "outputs": [],
   "source": [
    "punctuation = list(punctuation)"
   ]
  },
  {
   "cell_type": "code",
   "execution_count": 17,
   "metadata": {
    "colab": {},
    "colab_type": "code",
    "id": "CBlrlrxj8QyH"
   },
   "outputs": [],
   "source": [
    "punctuation += ['«','»','—', 'n','»,','».', '–', '...']"
   ]
  },
  {
   "cell_type": "code",
   "execution_count": 18,
   "metadata": {
    "colab": {},
    "colab_type": "code",
    "id": "y5fevKURI-gg"
   },
   "outputs": [],
   "source": [
    "garbage_words = ['nранее', 'nв', 'nпо', 'nтакже','u','n—', 'nn']"
   ]
  },
  {
   "cell_type": "code",
   "execution_count": 19,
   "metadata": {
    "colab": {},
    "colab_type": "code",
    "id": "DmFxTeif8Q47"
   },
   "outputs": [],
   "source": [
    "tokens = {item:tokens[item] for item in tokens if item not in punctuation}"
   ]
  },
  {
   "cell_type": "code",
   "execution_count": 20,
   "metadata": {
    "colab": {},
    "colab_type": "code",
    "id": "JYh39TiPJTJ1"
   },
   "outputs": [],
   "source": [
    "tokens = {item:tokens[item] for item in tokens if item not in garbage_words}"
   ]
  },
  {
   "cell_type": "code",
   "execution_count": 21,
   "metadata": {
    "colab": {},
    "colab_type": "code",
    "id": "XDWAFsST8Q0f"
   },
   "outputs": [],
   "source": [
    "stopwords_01 = open('../../../data/another/stopwords.txt', 'r', encoding='UTF-8')\n",
    "stopwords_01 = stopwords_01.read().split('\\n')\n",
    "stopwords_02 = open('../../../data/another/stopwords_02.txt', 'r', encoding='UTF-8')\n",
    "stopwords_02 = stopwords_02.read().split('\\n')"
   ]
  },
  {
   "cell_type": "code",
   "execution_count": 22,
   "metadata": {
    "colab": {},
    "colab_type": "code",
    "id": "qOGMPuwo8Qw2"
   },
   "outputs": [],
   "source": [
    "stopwords = stopwords_01 + stopwords_02"
   ]
  },
  {
   "cell_type": "code",
   "execution_count": 23,
   "metadata": {
    "colab": {},
    "colab_type": "code",
    "id": "ED9DjQjc9R05"
   },
   "outputs": [],
   "source": [
    "tokens_without_stopwords = {item:tokens[item] for item in tokens if item not in stopwords}"
   ]
  },
  {
   "cell_type": "code",
   "execution_count": 0,
   "metadata": {
    "colab": {},
    "colab_type": "code",
    "id": "6M4gXZsu9R7L"
   },
   "outputs": [],
   "source": []
  },
  {
   "cell_type": "markdown",
   "metadata": {
    "colab_type": "text",
    "id": "ym3H5f0G-NLt"
   },
   "source": [
    "### Аналитика по словам"
   ]
  },
  {
   "cell_type": "markdown",
   "metadata": {
    "colab_type": "text",
    "id": "B3_A4DrY-hQq"
   },
   "source": [
    "#### Топ-20 слов без удаления стоп-слов"
   ]
  },
  {
   "cell_type": "code",
   "execution_count": 24,
   "metadata": {
    "colab": {
     "base_uri": "https://localhost:8080/",
     "height": 357
    },
    "colab_type": "code",
    "executionInfo": {
     "elapsed": 632,
     "status": "ok",
     "timestamp": 1572521009264,
     "user": {
      "displayName": "Egor Silaev",
      "photoUrl": "",
      "userId": "17939097308196895647"
     },
     "user_tz": -180
    },
    "id": "KFqnUUCevxkA",
    "outputId": "131b1b1b-76ca-4760-b6da-4e29e32ec7c2"
   },
   "outputs": [
    {
     "data": {
      "text/plain": [
       "[('в', 1023147),\n",
       " ('и', 622238),\n",
       " ('на', 438941),\n",
       " ('не', 290737),\n",
       " ('что', 273874),\n",
       " ('с', 258977),\n",
       " ('по', 233577),\n",
       " ('а', 115497),\n",
       " ('как', 109874),\n",
       " ('из', 107294),\n",
       " ('о', 106909),\n",
       " ('к', 105843),\n",
       " ('это', 99616),\n",
       " ('для', 97631),\n",
       " ('за', 94604),\n",
       " ('но', 86852),\n",
       " ('он', 78569),\n",
       " ('от', 77801),\n",
       " ('его', 75682),\n",
       " ('у', 69699)]"
      ]
     },
     "execution_count": 24,
     "metadata": {},
     "output_type": "execute_result"
    }
   ],
   "source": [
    "Counter(tokens).most_common(20)"
   ]
  },
  {
   "cell_type": "code",
   "execution_count": 25,
   "metadata": {
    "colab": {
     "base_uri": "https://localhost:8080/",
     "height": 404
    },
    "colab_type": "code",
    "executionInfo": {
     "elapsed": 1188,
     "status": "ok",
     "timestamp": 1572521013042,
     "user": {
      "displayName": "Egor Silaev",
      "photoUrl": "",
      "userId": "17939097308196895647"
     },
     "user_tz": -180
    },
    "id": "RrvScy8hvxkE",
    "outputId": "af22a563-eef1-40cd-8ab3-87c03d92a163"
   },
   "outputs": [
    {
     "data": {
      "image/png": "[encoded data removed]",
      "text/plain": [
       "<Figure size 864x432 with 1 Axes>"
      ]
     },
     "metadata": {},
     "output_type": "display_data"
    }
   ],
   "source": [
    "x = dict(Counter(tokens).most_common(20)).keys()\n",
    "y = dict(Counter(tokens).most_common(20)).values()\n",
    "\n",
    "fig, ax = plt.subplots()\n",
    "\n",
    "ax.bar(x, y)\n",
    "ax.set_title('TOP-20 слов без удаления стопслов')\n",
    "ax.set_ylabel('Частота')\n",
    "ax.set_xlabel('Слова')\n",
    "\n",
    "ax.set_facecolor('seashell')\n",
    "fig.set_facecolor('floralwhite')\n",
    "fig.set_figwidth(12)    #  ширина Figure\n",
    "fig.set_figheight(6)    #  высота Figure\n",
    "\n",
    "\n",
    "plt.show()"
   ]
  },
  {
   "cell_type": "markdown",
   "metadata": {
    "colab_type": "text",
    "id": "oyibo5Ui-lzi"
   },
   "source": [
    "#### Топ-20 слов после удаления стоп-слов"
   ]
  },
  {
   "cell_type": "code",
   "execution_count": 26,
   "metadata": {
    "colab": {
     "base_uri": "https://localhost:8080/",
     "height": 357
    },
    "colab_type": "code",
    "executionInfo": {
     "elapsed": 619,
     "status": "ok",
     "timestamp": 1572521016779,
     "user": {
      "displayName": "Egor Silaev",
      "photoUrl": "",
      "userId": "17939097308196895647"
     },
     "user_tz": -180
    },
    "id": "dsegoWWy-rod",
    "outputId": "71533744-6265-4b19-c75e-cf84b505e0ac"
   },
   "outputs": [
    {
     "data": {
      "text/plain": [
       "[('россии', 64151),\n",
       " ('br', 53670),\n",
       " ('сша', 29677),\n",
       " ('рублей', 27389),\n",
       " ('заявил', 26935),\n",
       " ('словам', 26039),\n",
       " ('тыс', 24879),\n",
       " ('рф', 23104),\n",
       " ('известиям', 22701),\n",
       " ('млн', 20917),\n",
       " ('страны', 19533),\n",
       " ('сообщает', 18757),\n",
       " ('области', 17885),\n",
       " ('1', 17652),\n",
       " ('компании', 17313),\n",
       " ('глава', 17052),\n",
       " ('b', 17000),\n",
       " ('президента', 16440),\n",
       " ('власти', 15575),\n",
       " ('решение', 15274)]"
      ]
     },
     "execution_count": 26,
     "metadata": {},
     "output_type": "execute_result"
    }
   ],
   "source": [
    "Counter(tokens_without_stopwords).most_common(20)"
   ]
  },
  {
   "cell_type": "code",
   "execution_count": 27,
   "metadata": {
    "colab": {
     "base_uri": "https://localhost:8080/",
     "height": 404
    },
    "colab_type": "code",
    "executionInfo": {
     "elapsed": 1289,
     "status": "ok",
     "timestamp": 1572521022199,
     "user": {
      "displayName": "Egor Silaev",
      "photoUrl": "",
      "userId": "17939097308196895647"
     },
     "user_tz": -180
    },
    "id": "ULvxekUF-r4a",
    "outputId": "db27d182-e521-49cf-ef72-3694ab53f800"
   },
   "outputs": [
    {
     "data": {
      "image/png": "[encoded data removed]",
      "text/plain": [
       "<Figure size 1584x432 with 1 Axes>"
      ]
     },
     "metadata": {},
     "output_type": "display_data"
    }
   ],
   "source": [
    "x = dict(Counter(tokens_without_stopwords).most_common(20)).keys()\n",
    "y = dict(Counter(tokens_without_stopwords).most_common(20)).values()\n",
    "\n",
    "fig, ax = plt.subplots()\n",
    "\n",
    "ax.bar(x, y)\n",
    "ax.set_title('TOP-20 слов без удаления стопслов')\n",
    "ax.set_ylabel('Частота')\n",
    "ax.set_xlabel('Слова')\n",
    "\n",
    "ax.set_facecolor('seashell')\n",
    "fig.set_facecolor('floralwhite')\n",
    "fig.set_figwidth(22)    #  ширина Figure\n",
    "fig.set_figheight(6)    #  высота Figure\n",
    "\n",
    "\n",
    "plt.show()"
   ]
  },
  {
   "cell_type": "markdown",
   "metadata": {
    "colab_type": "text",
    "id": "VJ6w-wJ2vxkH"
   },
   "source": [
    "## Рубрики в разрезе новостей"
   ]
  },
  {
   "cell_type": "markdown",
   "metadata": {
    "colab_type": "text",
    "id": "IwvkOJgzvxkH"
   },
   "source": [
    "### Количество рубрик"
   ]
  },
  {
   "cell_type": "code",
   "execution_count": 28,
   "metadata": {
    "colab": {},
    "colab_type": "code",
    "id": "FHEEEtf2vxkI"
   },
   "outputs": [],
   "source": [
    "list_topics = list(data.listcolumns(None, 'iz', 'topics'))"
   ]
  },
  {
   "cell_type": "code",
   "execution_count": 29,
   "metadata": {
    "colab": {
     "base_uri": "https://localhost:8080/",
     "height": 34
    },
    "colab_type": "code",
    "executionInfo": {
     "elapsed": 583,
     "status": "ok",
     "timestamp": 1572521043258,
     "user": {
      "displayName": "Egor Silaev",
      "photoUrl": "",
      "userId": "17939097308196895647"
     },
     "user_tz": -180
    },
    "id": "Z8BTRTl7vxkK",
    "outputId": "b0478f8a-8487-4e10-ba25-b8b8751f8acd"
   },
   "outputs": [
    {
     "data": {
      "text/plain": [
       "34"
      ]
     },
     "execution_count": 29,
     "metadata": {},
     "output_type": "execute_result"
    }
   ],
   "source": [
    "len(set(list_topics))"
   ]
  },
  {
   "cell_type": "markdown",
   "metadata": {
    "colab_type": "text",
    "id": "597r_Fl3vxkM"
   },
   "source": [
    "### Рубрики в разрезе количества новостей"
   ]
  },
  {
   "cell_type": "code",
   "execution_count": 30,
   "metadata": {
    "colab": {
     "base_uri": "https://localhost:8080/",
     "height": 187
    },
    "colab_type": "code",
    "executionInfo": {
     "elapsed": 615,
     "status": "ok",
     "timestamp": 1572521046372,
     "user": {
      "displayName": "Egor Silaev",
      "photoUrl": "",
      "userId": "17939097308196895647"
     },
     "user_tz": -180
    },
    "id": "ccIvRH-SvxkM",
    "outputId": "8f302c94-c4b9-417e-a90b-128500c785b7"
   },
   "outputs": [
    {
     "data": {
      "text/plain": [
       "[('Мир', 23876),\n",
       " ('Общество', 23266),\n",
       " ('Политика', 9289),\n",
       " ('Экономика', 7828),\n",
       " ('Страна', 7736),\n",
       " ('Спорт', 5789),\n",
       " ('Культура', 5002),\n",
       " ('Армия', 1221),\n",
       " ('Наука', 1150),\n",
       " ('Интернет', 911),\n",
       " ('Туризм', 79),\n",
       " ('Транспорт', 63),\n",
       " ('Здоровье', 50),\n",
       " ('Авто', 48),\n",
       " ('Россия - регионы', 48),\n",
       " ('Инновации', 42),\n",
       " ('День в истории', 28),\n",
       " ('Образование', 26),\n",
       " ('Недвижимость', 26),\n",
       " ('Новости компаний', 21),\n",
       " ('Финансы', 21),\n",
       " ('Среда для жизни', 15),\n",
       " ('Китай', 14),\n",
       " ('Потребительский рынок', 9),\n",
       " ('Art Briz', 9),\n",
       " ('Вкусно!', 8),\n",
       " ('Происшествия', 6),\n",
       " ('Финансовая грамотность', 6),\n",
       " ('Стиль', 4),\n",
       " ('Пресс-релизы', 3),\n",
       " ('Профсоюзы', 3),\n",
       " ('Спецпроекты', 2),\n",
       " ('День Победы', 2),\n",
       " ('Деловая среда', 1)]"
      ]
     },
     "execution_count": 30,
     "metadata": {},
     "output_type": "execute_result"
    }
   ],
   "source": [
    "Counter(list_topics).most_common(34)"
   ]
  },
  {
   "cell_type": "markdown",
   "metadata": {
    "colab_type": "text",
    "id": "LzbLPu6G7Xit"
   },
   "source": [
    "## Распределение количества новостей по месяцам"
   ]
  },
  {
   "cell_type": "markdown",
   "metadata": {},
   "source": [
    "### Удаление дубликатов"
   ]
  },
  {
   "cell_type": "code",
   "execution_count": 31,
   "metadata": {},
   "outputs": [],
   "source": [
    "# Новый словарь, ключами которого будут новости, таким образом будет создан\n",
    "# новый словарь, без дубликатов\n",
    "news_by_dict = {i['text']: i for i in list_data}\n",
    "new_items = list(news_by_dict.values())"
   ]
  },
  {
   "cell_type": "code",
   "execution_count": 32,
   "metadata": {},
   "outputs": [
    {
     "data": {
      "text/plain": [
       "1289"
      ]
     },
     "execution_count": 32,
     "metadata": {},
     "output_type": "execute_result"
    }
   ],
   "source": [
    "# Проверь, что количество дубликатов совпало с тем, что были в предварительном анализе\n",
    "# все верно\n",
    "len(list_data) - len(new_items)"
   ]
  },
  {
   "cell_type": "markdown",
   "metadata": {},
   "source": [
    "### Получение распределения"
   ]
  },
  {
   "cell_type": "code",
   "execution_count": 33,
   "metadata": {
    "colab": {},
    "colab_type": "code",
    "id": "IsfBLATW02PS"
   },
   "outputs": [],
   "source": [
    "def getMonthDate(date):\n",
    "  \"\"\"\n",
    "  Возвращает дату в формате ММ-ГГГГ\n",
    "  \"\"\"\n",
    "  date = datetime.datetime.strptime(date, \"%Y-%m-%d %H:%M:%S\")\n",
    "  return '-'.join(['0' + str(date.month) if date.month<10 else str(date.month), str(date.year)])"
   ]
  },
  {
   "cell_type": "code",
   "execution_count": 34,
   "metadata": {
    "colab": {},
    "colab_type": "code",
    "id": "86cWiHJV1dKu"
   },
   "outputs": [],
   "source": [
    "# Подсчет количества новостей в разрезе месяца и года\n",
    "list_dates = [getMonthDate(x['date']) for x in new_items]"
   ]
  },
  {
   "cell_type": "code",
   "execution_count": 35,
   "metadata": {
    "colab": {},
    "colab_type": "code",
    "id": "EhWOAaaC29e0"
   },
   "outputs": [],
   "source": [
    "month_year = Counter(list_dates)"
   ]
  },
  {
   "cell_type": "code",
   "execution_count": 36,
   "metadata": {
    "colab": {
     "base_uri": "https://localhost:8080/",
     "height": 34
    },
    "colab_type": "code",
    "executionInfo": {
     "elapsed": 543,
     "status": "ok",
     "timestamp": 1572521102941,
     "user": {
      "displayName": "Egor Silaev",
      "photoUrl": "",
      "userId": "17939097308196895647"
     },
     "user_tz": -180
    },
    "id": "9v6Jd6nq6kig",
    "outputId": "37599233-64ee-4be6-e90d-569b21ac3f1a"
   },
   "outputs": [
    {
     "data": {
      "text/plain": [
       "76"
      ]
     },
     "execution_count": 36,
     "metadata": {},
     "output_type": "execute_result"
    }
   ],
   "source": [
    "len(month_year)"
   ]
  },
  {
   "cell_type": "code",
   "execution_count": 37,
   "metadata": {
    "colab": {
     "base_uri": "https://localhost:8080/",
     "height": 578
    },
    "colab_type": "code",
    "executionInfo": {
     "elapsed": 553,
     "status": "ok",
     "timestamp": 1572521104825,
     "user": {
      "displayName": "Egor Silaev",
      "photoUrl": "",
      "userId": "17939097308196895647"
     },
     "user_tz": -180
    },
    "id": "rKYcNky04hgi",
    "outputId": "aff82fb5-1e46-4d5d-e12c-fc5f2743ec8f"
   },
   "outputs": [
    {
     "data": {
      "text/plain": [
       "[('07-2017', 8979),\n",
       " ('12-2017', 8866),\n",
       " ('09-2017', 6112),\n",
       " ('10-2017', 4004),\n",
       " ('05-2017', 3618),\n",
       " ('09-2016', 3473),\n",
       " ('04-2009', 2548),\n",
       " ('05-2009', 2482),\n",
       " ('04-2008', 2392),\n",
       " ('06-2009', 2348),\n",
       " ('10-2011', 2265),\n",
       " ('12-2011', 2213),\n",
       " ('05-2008', 2187),\n",
       " ('03-2009', 2099),\n",
       " ('11-2011', 2099),\n",
       " ('04-2017', 2030),\n",
       " ('09-2011', 1973),\n",
       " ('11-2017', 1825),\n",
       " ('10-2012', 1785),\n",
       " ('11-2012', 1568)]"
      ]
     },
     "execution_count": 37,
     "metadata": {},
     "output_type": "execute_result"
    }
   ],
   "source": [
    "month_year.most_common(20)"
   ]
  },
  {
   "cell_type": "code",
   "execution_count": 38,
   "metadata": {
    "colab": {
     "base_uri": "https://localhost:8080/",
     "height": 653
    },
    "colab_type": "code",
    "executionInfo": {
     "elapsed": 1143,
     "status": "ok",
     "timestamp": 1572521156492,
     "user": {
      "displayName": "Egor Silaev",
      "photoUrl": "",
      "userId": "17939097308196895647"
     },
     "user_tz": -180
    },
    "id": "g97uKlaT5UXh",
    "outputId": "6903d815-7a59-4cea-ea36-c302f6de1c45"
   },
   "outputs": [
    {
     "data": {
      "image/png": "[encoded data removed]",
      "text/plain": [
       "<Figure size 1440x720 with 1 Axes>"
      ]
     },
     "metadata": {},
     "output_type": "display_data"
    }
   ],
   "source": [
    "fig, ax = plt.subplots(figsize=(20, 10))\n",
    "plt.bar(x = month_year.keys(),\n",
    "        height = month_year.values())\n",
    "plt.xticks(rotation='vertical')\n",
    "ax.set_facecolor('seashell')\n",
    "fig.set_facecolor('floralwhite')\n",
    "\n",
    "ax.set_title('Количество новостей по месяцам')\n",
    "ax.set_ylabel('Количество')\n",
    "ax.set_xlabel('Дата')\n",
    "plt.show()"
   ]
  },
  {
   "cell_type": "code",
   "execution_count": 0,
   "metadata": {
    "colab": {},
    "colab_type": "code",
    "id": "YiN8O2xYvxlV"
   },
   "outputs": [],
   "source": []
  },
  {
   "cell_type": "code",
   "execution_count": 0,
   "metadata": {
    "colab": {},
    "colab_type": "code",
    "id": "CYN55mRavxlX"
   },
   "outputs": [],
   "source": []
  }
 ],
 "metadata": {
  "accelerator": "TPU",
  "colab": {
   "collapsed_sections": [],
   "name": "rt (new).ipynb",
   "provenance": [],
   "toc_visible": true
  },
  "kernelspec": {
   "display_name": "Python 3",
   "language": "python",
   "name": "python3"
  },
  "language_info": {
   "codemirror_mode": {
    "name": "ipython",
    "version": 3
   },
   "file_extension": ".py",
   "mimetype": "text/x-python",
   "name": "python",
   "nbconvert_exporter": "python",
   "pygments_lexer": "ipython3",
   "version": "3.7.4"
  }
 },
 "nbformat": 4,
 "nbformat_minor": 1
}
